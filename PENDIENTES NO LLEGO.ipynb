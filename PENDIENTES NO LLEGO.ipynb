{
 "cells": [
  {
   "cell_type": "markdown",
   "metadata": {},
   "source": [
    "#### DF STEAM GAMES "
   ]
  },
  {
   "cell_type": "markdown",
   "metadata": {},
   "source": [
    "#### GENRES"
   ]
  },
  {
   "cell_type": "code",
   "execution_count": null,
   "metadata": {},
   "outputs": [],
   "source": [
    "# Eliminar 'Free to Play' y 'Early Access'\n",
    "no_deseados = ['Free to Play', 'Early Access']\n",
    "df_steam_games['genres'] = df_steam_games['genres'].apply(lambda x: [genre for genre in x if genre not in no_deseados])\n"
   ]
  },
  {
   "cell_type": "markdown",
   "metadata": {},
   "source": [
    "### FUNCIOENS"
   ]
  },
  {
   "cell_type": "code",
   "execution_count": null,
   "metadata": {},
   "outputs": [],
   "source": [
    "\n",
    "'''\n",
    "\n",
    "## userdata\n",
    "\n",
    "@app.get('/userdata',\n",
    "         description=\"\"\"\n",
    "    <font color=\"blue\">\n",
    "        INSTRUCCIONES<br>        \n",
    "        1. Haga clic en \"Try it out\".<br>\n",
    "        2. Ingrese el id del usuario en el cuadro de abajo.<br>\n",
    "        3. Desplácese hacia \"Resposes\" para ver el dinero gastado por el usuario, porcentaje de recomendación y cantidad de items.\n",
    "    </font>\n",
    "\"\"\", tags=[\"Consultas Generales\"])\n",
    "def userdata(anio: int = Query(..., \n",
    "                                        title=\"User_ID\",\n",
    "                                        description=\"Ingresa el ID para la consulta\",\n",
    "                                        examples=420)):\n",
    "    usersdata = fa.userdata(anio)\n",
    "    return usersdata\n",
    "\n",
    "\n",
    "\n",
    "## `UserForGenre`\n",
    "\n",
    "\n",
    "@app.get('/UserForGenre', \n",
    "         description=\"\"\"\n",
    "    <font color=\"blue\">\n",
    "        INSTRUCCIONES<br>\n",
    "        1. Haga clic en \"Try it out\".<br>\n",
    "        2. Ingrese el género en el cuadro de abajo.<br>\n",
    "        3. Desplácese hacia \"Resposes\" para ver el usuario con más horas jugadas para el género dado y acumulación de horas jugadas por año de lanzamiento. \n",
    "    </font>\n",
    "\"\"\", \n",
    "tags=[\"Consultas Generales\"])\n",
    "def UserForGenre(genero: str = Query(..., \n",
    "                                   title=\"Género del videojuego\", \n",
    "                                  description=\"Géneros para consultar:Action, Adventure, Audio Production, Casual, Design & Illustration, Education, Indie, Massively Multiplayer, Photo Editing, RPG, Racing, Simulation, Software Training, Sports, Strategy, Utilities, Video Production\",\n",
    "                                 examples=\"Action\")):    \n",
    "    UserForGenree = fa.UserForGenre(genero)\n",
    "    return UserForGenree\n",
    "\n",
    "'''\n",
    "\n",
    "\n",
    "## `best_developer_year`\n",
    "\n",
    "\n",
    "\n",
    "\n",
    "## `developer_reviews_analysis`\n",
    "'''\n",
    "@app.get('/developer_reviews_analysis', \n",
    "         description=\"\"\"\n",
    "    <font color=\"blue\">\n",
    "        INSTRUCCIONES<br>\n",
    "        1. Haga clic en \"Try it out\".<br>\n",
    "        2. Ingresa la empresa desarrolladora en el cuadro de abajo.<br>\n",
    "        3. Desplácese hacia \"Resposes\" para ver devuelve un diccionario con el nombre de la desarrolladora como llave y una lista con la cantidad total\n",
    "de registros de reseñas de usuarios que se encuentren categorizados con un análisis de sentimiento como valor.\n",
    "    </font>\n",
    "\"\"\", tags=[\"Sentiment Analysis\"])\n",
    "async def developer_reviews_analysis(empresa_desarrolladora: str =Query (..., \n",
    "                                    title=\"Empresa desarrolladora\",\n",
    "                                    description=\"Algunas empresas para consultar: Dovetail Games,Paradox Development Studio,Capcom,Choice of Games, Stainless Games\",\n",
    "                                    )):\n",
    "    sent = fa.developer_reviews_analysis(empresa_desarrolladora)\n",
    "    return sent\n",
    "\n",
    "'''\n",
    "\n",
    "'''\n",
    "\n",
    "#recomendacion_juego\n",
    "\n",
    "@app.get('/recomendacion_juego', \n",
    "           description=\"\"\"\n",
    "    <font color=\"blue\">\n",
    "        INSTRUCCIONES<br>\n",
    "        1. Haga clic en \"Try it out\".<br>\n",
    "        2. Ingrese el item_id del juego a partir del cual se hace la recomendación de otros juegos #en el cuadro de abajo.<br>\n",
    "        3. Desplácese hacia \"Resposes\" para ver la cantidad de dinero gastado por el usuario, el porcentaje de recomendación que realiza el usuario y la cantidad de items que tiene el mismo.\n",
    "    </font>\n",
    "\"\"\", tags=[\"Machine Learning ITEM x ITEM\"])\n",
    "async def recomendacion_juego(item_id: int =Query (...,\n",
    "                                            title=\"Item ID\",\n",
    "                                            description=\"Ingrese el ID del juego para obtener recomendaciones. Por ejemplo: 10,20,500\",\n",
    "                                            examples=123)):\n",
    "    reco = ML.recomendacion_juego(item_id) \n",
    "    return reco\n",
    "    \n",
    "    \n",
    "'''\n"
   ]
  }
 ],
 "metadata": {
  "language_info": {
   "name": "python"
  }
 },
 "nbformat": 4,
 "nbformat_minor": 2
}
