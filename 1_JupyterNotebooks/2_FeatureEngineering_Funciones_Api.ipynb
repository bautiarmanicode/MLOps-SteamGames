{
 "cells": [
  {
   "cell_type": "markdown",
   "metadata": {},
   "source": [
    "# Prueba de funciones\n"
   ]
  },
  {
   "cell_type": "markdown",
   "metadata": {},
   "source": [
    "📥Importaciones "
   ]
  },
  {
   "cell_type": "code",
   "execution_count": 3,
   "metadata": {},
   "outputs": [
    {
     "name": "stdout",
     "output_type": "stream",
     "text": [
      "The autoreload extension is already loaded. To reload it, use:\n",
      "  %reload_ext autoreload\n"
     ]
    }
   ],
   "source": [
    "#\n",
    "# Importación del módulo warnings para controlar advertencias\n",
    "import warnings\n",
    "from typing import Tuple\n",
    "\n",
    "# Importación de pandas y se asigna el alias 'pd' para su uso\n",
    "import pandas as pd\n",
    "import time\n",
    "# Importación de funciones desde data_utils\n",
    "from data_utils import ej_review_sentimiento\n",
    "\n",
    "# Configuración de la omisión de advertencias\n",
    "warnings.filterwarnings(\"ignore\")\n",
    "import pandas as pd\n",
    "import pyarrow as pa\n",
    "\n",
    "# Carga de la extensión autoreload y configuración para recargar automáticamente módulos\n",
    "%load_ext autoreload\n",
    "%autoreload 2\n",
    "%reload_ext autoreload"
   ]
  },
  {
   "cell_type": "markdown",
   "metadata": {},
   "source": [
    "📦 Extracción de los conjuntos de datos"
   ]
  },
  {
   "cell_type": "code",
   "execution_count": 2,
   "metadata": {},
   "outputs": [],
   "source": [
    "df_steam_games =   pd.read_parquet('../0 Dataset/steam_games_LISTO.parquet')\n",
    "#df_user_items =   pd.read_parquet('./0 Dataset/user_items_LISTO.parquet')\n",
    "#df_user_reviews = pd.read_parquet('./0 Dataset/user_review_LISTO.parquet')"
   ]
  },
  {
   "cell_type": "markdown",
   "metadata": {},
   "source": [
    "##### 1 🌐 `developer(desarrollador: str)`:\n",
    "\n",
    "Devuelve la cantidad de juegos y porcentaje de contenido Free por año según empresa desarrolladora\n",
    "\n",
    "**📂 steam_games.json**: developer, release_date, price"
   ]
  },
  {
   "cell_type": "code",
   "execution_count": 5,
   "metadata": {},
   "outputs": [
    {
     "name": "stdout",
     "output_type": "stream",
     "text": [
      "     Año  Juegos Gratis %\n",
      "0   1998       1     0.0%\n",
      "1   1999       1     0.0%\n",
      "2   2000       2     0.0%\n",
      "3   2001       1     0.0%\n",
      "4   2003       1     0.0%\n",
      "5   2004       5     0.0%\n",
      "6   2005       1   100.0%\n",
      "7   2006       2     0.0%\n",
      "8   2007       3    33.0%\n",
      "9   2008       1     0.0%\n",
      "10  2009       1     0.0%\n",
      "11  2010       2    50.0%\n",
      "12  2011       1     0.0%\n",
      "13  2012       2    50.0%\n",
      "14  2014       7    14.0%\n",
      "15  2016       1   100.0%\n",
      "16  2017       2     0.0%\n"
     ]
    }
   ],
   "source": [
    "def desarrollador(desarrollador: str):\n",
    "    start_time = time.time()  # Registro del tiempo de inicio\n",
    "    \n",
    "    \n",
    "    \n",
    "    # Filtrar por desarrollador\n",
    "    df_dev = df_steam_games[df_steam_games['developer'] == desarrollador]\n",
    "    # Obtener la cantidad de ítems por año\n",
    "    items_por_anio = df_dev.groupby('release_date').size()\n",
    "    # Obtener la cantidad de ítems gratuitos por año\n",
    "    gratis_por_anio = df_dev[df_dev['price'] == 0].groupby('release_date').size()\n",
    "    # Calcular el porcentaje de contenido gratuito por año\n",
    "    porcentaje_gratis_por_anio = (gratis_por_anio / items_por_anio * 100).round(0)\n",
    "    # Reemplazar valores NaN en \"Contenido Gratuito\" con \"0%\"\n",
    "    porcentaje_gratis_por_anio = porcentaje_gratis_por_anio.fillna(0)\n",
    "    \n",
    "    \n",
    "    # Crear un DataFrame con los resultados\n",
    "    result_df = pd.DataFrame({\n",
    "        'Año': porcentaje_gratis_por_anio.index,\n",
    "        'Juegos': items_por_anio.values,\n",
    "        'Gratis %': porcentaje_gratis_por_anio.values\n",
    "    })\n",
    "    \n",
    "    # Ordenar el DataFrame por año\n",
    "    result_df = result_df.sort_values(by='Año').reset_index(drop=True)\n",
    "    # Formatear los valores en la columna \"Gratis %\"\n",
    "    result_df['Gratis %'] = result_df['Gratis %'].astype(str) + '%'\n",
    "    \n",
    "    return result_df\n",
    "\n",
    "datos_desarrollador = desarrollador('Valve')\n",
    "print(datos_desarrollador)"
   ]
  },
  {
   "cell_type": "markdown",
   "metadata": {},
   "source": [
    "* Esta función desarrollador se encarga de analizar la información de los juegos en la base de datos df_steam_games, específicamente aquellos desarrollados por el desarrollador proporcionado como argumento.\n",
    "\n",
    "* En resumen, la función realiza lo siguiente:\n",
    "\n",
    "* Filtra los juegos por el desarrollador especificado.\n",
    "* Cuenta la cantidad total de juegos por año.\n",
    "* Cuenta la cantidad de juegos gratuitos por año.\n",
    "* Calcula el porcentaje de juegos gratuitos sobre el total de juegos por cada año.\n",
    "* Reemplaza los valores NaN (no disponibles) en el porcentaje de juegos gratuitos por 0%.\n",
    "* Crea un DataFrame con los resultados, incluyendo el año, la cantidad total de juegos y el porcentaje de juegos gratuitos.\n",
    "* Ordena el DataFrame por año.\n",
    "* Formatea el porcentaje de juegos gratuitos para que se muestre con el símbolo de porcentaje (%).\n",
    "* Devuelve el DataFrame resultante."
   ]
  },
  {
   "cell_type": "markdown",
   "metadata": {},
   "source": [
    "##### 🌐 userdata(User_id: str) : \n",
    "Dinero gastado por el usuario, porcentaje de recomendación y cantidad de items.\n",
    "\n",
    "1. 📂 **user_reviews.json**: user_id, recommend, helpful.total\n",
    "2. 📂 **users_items.json**: user_id, items_count"
   ]
  },
  {
   "cell_type": "code",
   "execution_count": 4,
   "metadata": {},
   "outputs": [],
   "source": [
    "\n",
    "\"\"\"\n",
    "_______________________________\n",
    "1 DEF userdata(User_id: str):  \n",
    "\n",
    "devolver cantidad de dinero gastado por el usuario\n",
    "el porcentaje de recomendación en base a reviews.recommend \n",
    "y cantidad de items. \n",
    "_______________________________\n",
    "\"\"\"\n",
    "import pandas as pd\n",
    "from typing import Dict\n",
    "\n",
    "def userdata(User_id: str) -> Dict[str, float]:\n",
    "    \"\"\"\n",
    "    Devuelve la cantidad de dinero gastado por el usuario, el porcentaje de recomendación en base a reviews.recommend y la cantidad de items.\n",
    "    \n",
    "    Parameters:\n",
    "    User_id (str): Identificador único del usuario.\n",
    "    \n",
    "    Returns:\n",
    "    Dict[str, float]: Diccionario con los datos del usuario (dinero gastado, porcentaje de recomendación, cantidad de items).\n",
    "    \"\"\"\n",
    "    # Leer los archivos Parquet\n",
    "    user_reviews_df = pd.read_parquet('user_reviews.parquet')\n",
    "    users_items_df = pd.read_parquet('users_items.parquet')\n",
    "    \n",
    "    # Obtener los datos del usuario\n",
    "    user_data = users_items_df[users_items_df['user_id'] == User_id].iloc[0]\n",
    "    \n",
    "    # Obtener las revisiones del usuario\n",
    "    user_reviews = user_reviews_df[user_reviews_df['user_id'] == User_id]\n",
    "    \n",
    "    # Calcular el total de dinero gastado y el porcentaje de recomendación\n",
    "    total_spent = user_reviews['helpful.total'].sum()\n",
    "    recommend_count = len(user_reviews[user_reviews['recommend']])\n",
    "    total_reviews = len(user_reviews)\n",
    "    recommend_percentage = (recommend_count / total_reviews) * 100 if total_reviews > 0 else 0.0\n",
    "    \n",
    "    return {\n",
    "        \"Dinero gastado\": total_spent,\n",
    "        \"% de recomendación\": recommend_percentage,\n",
    "        \"cantidad de items\": user_data['items_count']\n",
    "    }\n"
   ]
  }
 ],
 "metadata": {
  "kernelspec": {
   "display_name": "env",
   "language": "python",
   "name": "python3"
  },
  "language_info": {
   "codemirror_mode": {
    "name": "ipython",
    "version": 3
   },
   "file_extension": ".py",
   "mimetype": "text/x-python",
   "name": "python",
   "nbconvert_exporter": "python",
   "pygments_lexer": "ipython3",
   "version": "3.10.11"
  }
 },
 "nbformat": 4,
 "nbformat_minor": 2
}
