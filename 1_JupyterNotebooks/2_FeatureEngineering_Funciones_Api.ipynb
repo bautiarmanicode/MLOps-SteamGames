{
 "cells": [
  {
   "cell_type": "markdown",
   "metadata": {},
   "source": [
    "# Prueba de funciones\n"
   ]
  },
  {
   "cell_type": "markdown",
   "metadata": {},
   "source": [
    "📥Importaciones "
   ]
  },
  {
   "cell_type": "code",
   "execution_count": 6,
   "metadata": {},
   "outputs": [
    {
     "name": "stdout",
     "output_type": "stream",
     "text": [
      "The autoreload extension is already loaded. To reload it, use:\n",
      "  %reload_ext autoreload\n"
     ]
    }
   ],
   "source": [
    "#\n",
    "# Importación del módulo warnings para controlar advertencias\n",
    "import warnings\n",
    "from typing import Tuple\n",
    "import gc\n",
    "\n",
    "# Importación de pandas y se asigna el alias 'pd' para su uso\n",
    "import pandas as pd\n",
    "import time\n",
    "# Importación de funciones desde data_utils\n",
    "from data_utils import ej_review_sentimiento\n",
    "\n",
    "# Configuración de la omisión de advertencias\n",
    "warnings.filterwarnings(\"ignore\")\n",
    "import pandas as pd\n",
    "import pyarrow as pa\n",
    "\n",
    "# Carga de la extensión autoreload y configuración para recargar automáticamente módulos\n",
    "%load_ext autoreload\n",
    "%autoreload 2\n",
    "%reload_ext autoreload"
   ]
  },
  {
   "cell_type": "markdown",
   "metadata": {},
   "source": [
    "📦 Extracción de los conjuntos de datos"
   ]
  },
  {
   "cell_type": "code",
   "execution_count": 7,
   "metadata": {},
   "outputs": [],
   "source": [
    "df_steam_games =   pd.read_parquet('../0 Dataset/steam_games_LISTO.parquet')\n",
    "#df_user_items =   pd.read_parquet('./0 Dataset/user_items_LISTO.parquet')\n",
    "#df_user_reviews = pd.read_parquet('./0 Dataset/user_review_LISTO.parquet')"
   ]
  },
  {
   "cell_type": "markdown",
   "metadata": {},
   "source": [
    "##### 1 🌐 `developer(desarrollador: str)`:\n",
    "\n",
    "Devuelve la cantidad de juegos y porcentaje de contenido Free por año según empresa desarrolladora\n",
    "\n",
    " **📂 steam_games.json**: developer, release_date, price\n",
    "\n",
    "🌐Para acelerar la velocidad de la api, he decidido crear un DF especifico. "
   ]
  },
  {
   "cell_type": "code",
   "execution_count": 10,
   "metadata": {},
   "outputs": [],
   "source": [
    "df_API_developer = df_steam_games[[\"developer\",\"id\", \"release_year\", \"price\"]]\n",
    "df_API_developer.to_parquet(\"../0 Dataset/df_API_developer.parquet\")"
   ]
  },
  {
   "cell_type": "code",
   "execution_count": 11,
   "metadata": {},
   "outputs": [],
   "source": [
    "def developer(desarrollador: str):\n",
    "    df_dev = df_steam_games[df_steam_games['developer'] == desarrollador]\n",
    "\n",
    "    grouped = df_dev.groupby('release_year').agg(\n",
    "        items=('id', 'count'),  # Cambiar de (x == 0).sum() a 'count' o 'sum'\n",
    "        gratis=('price', lambda x: (x == 0).sum())\n",
    "    )\n",
    "\n",
    "    result = []\n",
    "    for year, row in grouped.iterrows():\n",
    "        result.append({\n",
    "            \"Año\": int(year),\n",
    "            \"Juegos\": int(row[\"items\"]),\n",
    "            \"Gratis %\": row[\"gratis\"] / row[\"items\"] * 100\n",
    "        })\n",
    "    \n",
    "    # Llamamos al recolector de basura\n",
    "    gc.collect()\n",
    "\n",
    "    return result"
   ]
  },
  {
   "cell_type": "code",
   "execution_count": 12,
   "metadata": {},
   "outputs": [
    {
     "name": "stdout",
     "output_type": "stream",
     "text": [
      "[{'Año': 1998, 'Juegos': 1, 'Gratis %': 0.0}, {'Año': 1999, 'Juegos': 1, 'Gratis %': 0.0}, {'Año': 2000, 'Juegos': 2, 'Gratis %': 0.0}, {'Año': 2001, 'Juegos': 1, 'Gratis %': 0.0}, {'Año': 2003, 'Juegos': 1, 'Gratis %': 0.0}, {'Año': 2004, 'Juegos': 5, 'Gratis %': 0.0}, {'Año': 2005, 'Juegos': 1, 'Gratis %': 0.0}, {'Año': 2006, 'Juegos': 2, 'Gratis %': 0.0}, {'Año': 2007, 'Juegos': 3, 'Gratis %': 0.0}, {'Año': 2008, 'Juegos': 1, 'Gratis %': 0.0}, {'Año': 2009, 'Juegos': 1, 'Gratis %': 0.0}, {'Año': 2010, 'Juegos': 2, 'Gratis %': 50.0}, {'Año': 2011, 'Juegos': 1, 'Gratis %': 0.0}, {'Año': 2012, 'Juegos': 2, 'Gratis %': 0.0}, {'Año': 2014, 'Juegos': 7, 'Gratis %': 0.0}, {'Año': 2016, 'Juegos': 1, 'Gratis %': 100.0}, {'Año': 2017, 'Juegos': 2, 'Gratis %': 0.0}]\n"
     ]
    }
   ],
   "source": [
    "# Example usage\n",
    "resultado = developer('Valve')\n",
    "print(resultado)"
   ]
  },
  {
   "cell_type": "markdown",
   "metadata": {},
   "source": [
    "* Esta función desarrollador se encarga de analizar la información de los juegos en la base de datos df_steam_games, específicamente aquellos desarrollados por el desarrollador proporcionado como argumento.\n",
    "\n",
    "* En resumen, la función realiza lo siguiente:\n",
    "\n",
    "* Filtra los juegos por el desarrollador especificado.\n",
    "* Cuenta la cantidad total de juegos por año.\n",
    "* Cuenta la cantidad de juegos gratuitos por año.\n",
    "* Calcula el porcentaje de juegos gratuitos sobre el total de juegos por cada año.\n",
    "* Reemplaza los valores NaN (no disponibles) en el porcentaje de juegos gratuitos por 0%.\n",
    "* Crea un DataFrame con los resultados, incluyendo el año, la cantidad total de juegos y el porcentaje de juegos gratuitos.\n",
    "* Ordena el DataFrame por año.\n",
    "* Formatea el porcentaje de juegos gratuitos para que se muestre con el símbolo de porcentaje (%).\n",
    "* Devuelve el DataFrame resultante."
   ]
  },
  {
   "cell_type": "markdown",
   "metadata": {},
   "source": [
    "##### 🌐 userdata(User_id: str) : \n",
    "Dinero gastado por el usuario, porcentaje de recomendación y cantidad de items.\n",
    "\n",
    "1. 📂 **user_reviews.json**: user_id, recommend, helpful.total\n",
    "2. 📂 **users_items.json**: user_id, items_count"
   ]
  },
  {
   "cell_type": "code",
   "execution_count": 13,
   "metadata": {},
   "outputs": [
    {
     "ename": "SyntaxError",
     "evalue": "incomplete input (2207087214.py, line 23)",
     "output_type": "error",
     "traceback": [
      "\u001b[1;36m  Cell \u001b[1;32mIn[13], line 23\u001b[1;36m\u001b[0m\n\u001b[1;33m    '''\u001b[0m\n\u001b[1;37m    ^\u001b[0m\n\u001b[1;31mSyntaxError\u001b[0m\u001b[1;31m:\u001b[0m incomplete input\n"
     ]
    }
   ],
   "source": [
    "def userdata(user_id):\n",
    "\n",
    "    # Filtra por el usuario de interés\n",
    "    usuario = df_reviews[df_reviews['user_id'] == user_id]\n",
    "    # Calcula la cantidad de dinero gastado para el usuario de interés\n",
    "    cantidad_dinero = df_gastos_items[df_gastos_items['user_id']== user_id]['price'].iloc[0]\n",
    "    # Busca el count_item para el usuario de interés    \n",
    "    count_items = df_gastos_items[df_gastos_items['user_id']== user_id]['items_count'].iloc[0]\n",
    "    \n",
    "    # Calcula el total de recomendaciones realizadas por el usuario de interés\n",
    "    total_recomendaciones = usuario['reviews_recommend'].sum()\n",
    "    # Calcula el total de reviews realizada por todos los usuarios\n",
    "    total_reviews = len(df_reviews['user_id'].unique())\n",
    "    # Calcula el porcentaje de recomendaciones realizadas por el usuario de interés\n",
    "    porcentaje_recomendaciones = (total_recomendaciones / total_reviews) * 100\n",
    "    \n",
    "    return {\n",
    "        'cantidad_dinero': int(cantidad_dinero),\n",
    "        'porcentaje_recomendacion': round(float(porcentaje_recomendaciones), 2),\n",
    "        'total_items': int(count_items)\n",
    "    }\n",
    "\n",
    "'''\n"
   ]
  },
  {
   "cell_type": "code",
   "execution_count": null,
   "metadata": {},
   "outputs": [],
   "source": [
    "\n",
    "\"\"\"\n",
    "_______________________________\n",
    "1 DEF userdata(User_id: str):  \n",
    "\n",
    "devolver cantidad de dinero gastado por el usuario\n",
    "el porcentaje de recomendación en base a reviews.recommend \n",
    "y cantidad de items. \n",
    "_______________________________\n",
    "\"\"\"\n",
    "import pandas as pd\n",
    "from typing import Dict\n",
    "\n",
    "def userdata(User_id: str) -> Dict[str, float]:\n",
    "    \"\"\"\n",
    "    Devuelve la cantidad de dinero gastado por el usuario, el porcentaje de recomendación en base a reviews.recommend y la cantidad de items.\n",
    "    \n",
    "    Parameters:\n",
    "    User_id (str): Identificador único del usuario.\n",
    "    \n",
    "    Returns:\n",
    "    Dict[str, float]: Diccionario con los datos del usuario (dinero gastado, porcentaje de recomendación, cantidad de items).\n",
    "    \"\"\"\n",
    "    # Leer los archivos Parquet\n",
    "    user_reviews_df = pd.read_parquet('user_reviews.parquet')\n",
    "    users_items_df = pd.read_parquet('users_items.parquet')\n",
    "    \n",
    "    # Obtener los datos del usuario\n",
    "    user_data = users_items_df[users_items_df['user_id'] == User_id].iloc[0]\n",
    "    \n",
    "    # Obtener las revisiones del usuario\n",
    "    user_reviews = user_reviews_df[user_reviews_df['user_id'] == User_id]\n",
    "    \n",
    "    # Calcular el total de dinero gastado y el porcentaje de recomendación\n",
    "    total_spent = user_reviews['helpful.total'].sum()\n",
    "    recommend_count = len(user_reviews[user_reviews['recommend']])\n",
    "    total_reviews = len(user_reviews)\n",
    "    recommend_percentage = (recommend_count / total_reviews) * 100 if total_reviews > 0 else 0.0\n",
    "    \n",
    "    return {\n",
    "        \"Dinero gastado\": total_spent,\n",
    "        \"% de recomendación\": recommend_percentage,\n",
    "        \"cantidad de items\": user_data['items_count']\n",
    "    }\n"
   ]
  }
 ],
 "metadata": {
  "kernelspec": {
   "display_name": "env",
   "language": "python",
   "name": "python3"
  },
  "language_info": {
   "codemirror_mode": {
    "name": "ipython",
    "version": 3
   },
   "file_extension": ".py",
   "mimetype": "text/x-python",
   "name": "python",
   "nbconvert_exporter": "python",
   "pygments_lexer": "ipython3",
   "version": "3.10.11"
  }
 },
 "nbformat": 4,
 "nbformat_minor": 2
}
