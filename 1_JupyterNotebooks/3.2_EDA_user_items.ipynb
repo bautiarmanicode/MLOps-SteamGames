{
 "cells": [
  {
   "cell_type": "markdown",
   "metadata": {},
   "source": [
    "# 2_ **`user_items`**"
   ]
  },
  {
   "cell_type": "markdown",
   "metadata": {},
   "source": [
    "**Las columnas de este dataset son:**   \n",
    "  * 🆔 user_id: El identificador único del usuario.\n",
    "  * 📊 items_count: La cantidad de elementos del usuario.\n",
    "  * 🆔 steam_id: El identificador de Steam del usuario.\n",
    "  * 🔗 user_url: El enlace al perfil del usuario.\n",
    "  * 📦 items: Los elementos del usuario(en forma de lista anidada)\n"
   ]
  },
  {
   "cell_type": "code",
   "execution_count": null,
   "metadata": {},
   "outputs": [],
   "source": [
    "# 1. Tipos de Variables\n",
    "tipos = df_items.dtypes\n",
    "print(\"\\nTipos de Variables en df_games:\")\n",
    "print(tipos)\n"
   ]
  },
  {
   "cell_type": "markdown",
   "metadata": {},
   "source": [
    "## Histograma"
   ]
  },
  {
   "cell_type": "code",
   "execution_count": null,
   "metadata": {},
   "outputs": [],
   "source": []
  },
  {
   "cell_type": "code",
   "execution_count": null,
   "metadata": {},
   "outputs": [],
   "source": [
    "# 5. Histogramas y Boxplot en df_items\n",
    "fig, axes = plt.subplots(nrows=2, ncols=2, figsize=(12, 8))\n",
    "df_items['items_count'].plot(kind='hist', ax=axes[0, 0], title='Histograma de items_count')\n",
    "df_items[['playtime_forever', 'playtime_2weeks']].plot(kind='hist', ax=axes[0, 1], alpha=0.7, title='Histograma de playtime')\n",
    "df_items[['playtime_forever', 'playtime_2weeks']].plot(kind='box', ax=axes[1, 0], title='Boxplot de playtime')\n",
    "plt.show()"
   ]
  },
  {
   "cell_type": "markdown",
   "metadata": {},
   "source": [
    "## Histogramas"
   ]
  },
  {
   "cell_type": "markdown",
   "metadata": {},
   "source": [
    "Histogramas:\n",
    "\n",
    "Crearemos histogramas para visualizar la distribución de las variables items_count, playtime_forever, y playtime_2weeks en df_items.\n",
    "Boxplots:\n",
    "\n",
    "Generaremos boxplots para analizar la distribución de las variables mencionadas en df_items."
   ]
  },
  {
   "cell_type": "markdown",
   "metadata": {},
   "source": [
    "## Boxplot"
   ]
  },
  {
   "cell_type": "code",
   "execution_count": null,
   "metadata": {},
   "outputs": [],
   "source": [
    "# 5. Boxplot\n",
    "# Boxplot para items_count\n",
    "df_items.boxplot(column='items_count')\n",
    "plt.title('Boxplot de items_count')\n",
    "plt.show()\n",
    "\n",
    "# Boxplot para playtime_forever\n",
    "df_items.boxplot(column='playtime_forever')\n",
    "plt.title('Boxplot de playtime_forever')\n",
    "plt.show()\n",
    "\n",
    "# Boxplot para playtime_2weeks\n",
    "df_items.boxplot(column='playtime_2weeks')\n",
    "plt.title('Boxplot de playtime_2weeks')\n",
    "plt.show()\n",
    "\n",
    "# 7. Boxplots\n",
    "plt.figure(figsize=(6, 2))\n",
    "\n",
    "# Boxplot para items_count\n",
    "plt.subplot(1, 3, 1)\n",
    "plt.boxplot(df_items['items_count'], vert=False)\n",
    "plt.title('Boxplot de items_count')\n",
    "\n",
    "# Boxplot para playtime_forever\n",
    "plt.subplot(1, 3, 2)\n",
    "plt.boxplot(df_items['playtime_forever'], vert=False)\n",
    "plt.title('Boxplot de playtime_forever')\n",
    "\n",
    "# Boxplot para playtime_2weeks\n",
    "plt.subplot(1, 3, 3)\n",
    "plt.boxplot(df_items['playtime_2weeks'], vert=False)\n",
    "plt.title('Boxplot de playtime_2weeks')\n",
    "\n",
    "plt.tight_layout()\n",
    "plt.show()\n",
    "\n"
   ]
  },
  {
   "cell_type": "markdown",
   "metadata": {},
   "source": [
    "# 3. Medidas de Variabilidad\n",
    "variabilidad_df_items = df_items.var()\n",
    "print(\"\\nMedidas de Variabilidad en df_items:\")\n",
    "print(variabilidad_df_items)\n"
   ]
  },
  {
   "cell_type": "markdown",
   "metadata": {},
   "source": [
    "## Analisis multivariado y de correlacion"
   ]
  },
  {
   "cell_type": "code",
   "execution_count": null,
   "metadata": {},
   "outputs": [],
   "source": [
    "# 11. Análisis de Variables Categóricas en df_items\n",
    "fig, axes = plt.subplots(nrows=1, ncols=2, figsize=(15, 5))\n",
    "df_items['steam_id'].value_counts().head(10).plot(kind='bar', ax=axes[0], title='Top 10 steam_id más comunes')\n",
    "df_items['item_name'].value_counts().head(10).plot(kind='bar', ax=axes[1], title='Top 10 item_name más comunes')\n",
    "plt.show()\n"
   ]
  },
  {
   "cell_type": "code",
   "execution_count": null,
   "metadata": {},
   "outputs": [],
   "source": [
    "# 6. Análisis Multivariado y de Correlación en df_items\n",
    "sns.pairplot(df_items[['items_count', 'playtime_forever', 'playtime_2weeks']])\n",
    "plt.title('Relación entre variables numéricas en df_items')\n",
    "plt.show()\n",
    "\n",
    "correlation_matrix_items = df_items[['items_count', 'playtime_forever', 'playtime_2weeks']].corr()\n",
    "sns.heatmap(correlation_matrix_items, annot=True, cmap='coolwarm', linewidths=.5)\n",
    "plt.title('Matriz de Correlación en df_items')\n",
    "plt.show()\n"
   ]
  },
  {
   "cell_type": "code",
   "execution_count": null,
   "metadata": {},
   "outputs": [],
   "source": [
    "# 5. Análisis Multivariado\n",
    "sns.pairplot(df_items[['items_count', 'playtime_forever']])\n",
    "plt.title('Relación entre items_count y playtime_forever')\n",
    "plt.show()\n"
   ]
  },
  {
   "cell_type": "markdown",
   "metadata": {},
   "source": [
    "relacion entre items_count y playtime_forever "
   ]
  },
  {
   "cell_type": "markdown",
   "metadata": {},
   "source": [
    "## Matriz de correlacion"
   ]
  },
  {
   "cell_type": "markdown",
   "metadata": {},
   "source": [
    "Análisis de Correlación de Variables:\n",
    "Calcularemos la matriz de correlación para entender cómo se relacionan entre sí las variables numéricas en df_items."
   ]
  }
 ],
 "metadata": {
  "language_info": {
   "name": "python"
  }
 },
 "nbformat": 4,
 "nbformat_minor": 2
}
