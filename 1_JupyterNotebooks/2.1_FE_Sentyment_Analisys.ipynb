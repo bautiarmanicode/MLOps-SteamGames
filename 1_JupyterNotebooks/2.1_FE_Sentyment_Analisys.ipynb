{
 "cells": [
  {
   "cell_type": "markdown",
   "metadata": {},
   "source": [
    "#### 📥Importaciones "
   ]
  },
  {
   "cell_type": "code",
   "execution_count": 8,
   "metadata": {},
   "outputs": [
    {
     "name": "stdout",
     "output_type": "stream",
     "text": [
      "The autoreload extension is already loaded. To reload it, use:\n",
      "  %reload_ext autoreload\n"
     ]
    }
   ],
   "source": [
    "# Importación del módulo pickle para la serialización de objetos\n",
    "import pyarrow as pa  # PyArrow se utiliza para trabajar con formatos de datos columnares y eficientes como Parquet\n",
    "import os\n",
    "import pyarrow.parquet as pq  # Importamos Parquet\n",
    "# Importación del módulo warnings para controlar advertencias\n",
    "import warnings\n",
    "# Importación de pandas y se asigna el alias 'pd' para su uso\n",
    "import pandas as pd\n",
    "# Importación de funciones desde data_utils\n",
    "from data_utils import analisis_sentimiento, ej_review_sentimiento\n",
    "# Configuración de la omisión de advertencias\n",
    "warnings.filterwarnings(\"ignore\")\n",
    "# Carga de la extensión autoreload y configuración para recargar automáticamente módulos\n",
    "%load_ext autoreload\n",
    "%autoreload 2\n",
    "%reload_ext autoreload"
   ]
  },
  {
   "cell_type": "markdown",
   "metadata": {},
   "source": [
    "\n",
    "### 📊 Análisis de Sentimientos\n",
    "\n",
    "**'sentiment_analysis'** reemplaza a **'reviews_review'** : se crea esta nueva columna para realizar un análisis de sentimientos en los comentarios de los usuarios.\n",
    "\n"
   ]
  },
  {
   "cell_type": "markdown",
   "metadata": {},
   "source": [
    "📦 Extracción de los conjuntos de datos\n",
    "* ✍️ **Extraemos df_user_reviews:** usuarios que realizaron reseñas de los juegos que consumen.\n"
   ]
  },
  {
   "cell_type": "code",
   "execution_count": 9,
   "metadata": {},
   "outputs": [],
   "source": [
    "df_user_reviews = pd.read_parquet('../0 Dataset/1.3_user_review_LISTO.parquet')"
   ]
  },
  {
   "cell_type": "markdown",
   "metadata": {},
   "source": [
    "**Utilizamos la biblioteca TextBlob** , que es una herramienta de procesamiento de lenguaje natural (NLP) en Python en esta columna y aplico un análisis de sentimiento básico.\n",
    "\n",
    "La escala utilizada es la siguiente:\n",
    "\n",
    "* 👎 **0** si el sentimiento es **malo.**\n",
    "* 😐 **1** si el sentimiento es **neutral o no hay revisión.**\n",
    "* 👍 **2** si el sentimiento es **positivo.**\n",
    "\n",
    "Esta metodología asigna un valor numérico a cada texto, en este caso, a los comentarios de los usuarios en relación con un juego específico, para representar si el sentimiento expresado en el texto es negativo, neutral o positivo.\n",
    "\n",
    "El análisis se basa en la polaridad calculada por TextBlob, donde se considera que las polaridades negativas están por debajo de -0.2, las positivas por encima de 0.2 y las neutrales entre estos valores.\n"
   ]
  },
  {
   "cell_type": "code",
   "execution_count": 10,
   "metadata": {},
   "outputs": [
    {
     "data": {
      "text/html": [
       "<div>\n",
       "<style scoped>\n",
       "    .dataframe tbody tr th:only-of-type {\n",
       "        vertical-align: middle;\n",
       "    }\n",
       "\n",
       "    .dataframe tbody tr th {\n",
       "        vertical-align: top;\n",
       "    }\n",
       "\n",
       "    .dataframe thead th {\n",
       "        text-align: right;\n",
       "    }\n",
       "</style>\n",
       "<table border=\"1\" class=\"dataframe\">\n",
       "  <thead>\n",
       "    <tr style=\"text-align: right;\">\n",
       "      <th></th>\n",
       "      <th>user_id</th>\n",
       "      <th>user_url</th>\n",
       "      <th>reviews_item_id</th>\n",
       "      <th>reviews_helpful</th>\n",
       "      <th>reviews_recommend</th>\n",
       "      <th>reviews_review</th>\n",
       "      <th>sentiment_analysis</th>\n",
       "    </tr>\n",
       "  </thead>\n",
       "  <tbody>\n",
       "    <tr>\n",
       "      <th>0</th>\n",
       "      <td>76561197970982479</td>\n",
       "      <td>http://steamcommunity.com/profiles/76561197970...</td>\n",
       "      <td>1250</td>\n",
       "      <td>No ratings yet</td>\n",
       "      <td>True</td>\n",
       "      <td>Simple yet with great replayability. In my opi...</td>\n",
       "      <td>1</td>\n",
       "    </tr>\n",
       "    <tr>\n",
       "      <th>1</th>\n",
       "      <td>js41637</td>\n",
       "      <td>http://steamcommunity.com/id/js41637</td>\n",
       "      <td>251610</td>\n",
       "      <td>15 of 20 people (75%) found this review helpful</td>\n",
       "      <td>True</td>\n",
       "      <td>I know what you think when you see this title ...</td>\n",
       "      <td>1</td>\n",
       "    </tr>\n",
       "    <tr>\n",
       "      <th>2</th>\n",
       "      <td>evcentric</td>\n",
       "      <td>http://steamcommunity.com/id/evcentric</td>\n",
       "      <td>248820</td>\n",
       "      <td>No ratings yet</td>\n",
       "      <td>True</td>\n",
       "      <td>A suitably punishing roguelike platformer.  Wi...</td>\n",
       "      <td>2</td>\n",
       "    </tr>\n",
       "    <tr>\n",
       "      <th>3</th>\n",
       "      <td>doctr</td>\n",
       "      <td>http://steamcommunity.com/id/doctr</td>\n",
       "      <td>250320</td>\n",
       "      <td>2 of 2 people (100%) found this review helpful</td>\n",
       "      <td>True</td>\n",
       "      <td>This game... is so fun. The fight sequences ha...</td>\n",
       "      <td>2</td>\n",
       "    </tr>\n",
       "    <tr>\n",
       "      <th>4</th>\n",
       "      <td>maplemage</td>\n",
       "      <td>http://steamcommunity.com/id/maplemage</td>\n",
       "      <td>211420</td>\n",
       "      <td>35 of 43 people (81%) found this review helpful</td>\n",
       "      <td>True</td>\n",
       "      <td>Git gud</td>\n",
       "      <td>1</td>\n",
       "    </tr>\n",
       "  </tbody>\n",
       "</table>\n",
       "</div>"
      ],
      "text/plain": [
       "             user_id                                           user_url  \\\n",
       "0  76561197970982479  http://steamcommunity.com/profiles/76561197970...   \n",
       "1            js41637               http://steamcommunity.com/id/js41637   \n",
       "2          evcentric             http://steamcommunity.com/id/evcentric   \n",
       "3              doctr                 http://steamcommunity.com/id/doctr   \n",
       "4          maplemage             http://steamcommunity.com/id/maplemage   \n",
       "\n",
       "  reviews_item_id                                  reviews_helpful  \\\n",
       "0            1250                                   No ratings yet   \n",
       "1          251610  15 of 20 people (75%) found this review helpful   \n",
       "2          248820                                   No ratings yet   \n",
       "3          250320   2 of 2 people (100%) found this review helpful   \n",
       "4          211420  35 of 43 people (81%) found this review helpful   \n",
       "\n",
       "   reviews_recommend                                     reviews_review  \\\n",
       "0               True  Simple yet with great replayability. In my opi...   \n",
       "1               True  I know what you think when you see this title ...   \n",
       "2               True  A suitably punishing roguelike platformer.  Wi...   \n",
       "3               True  This game... is so fun. The fight sequences ha...   \n",
       "4               True                                            Git gud   \n",
       "\n",
       "   sentiment_analysis  \n",
       "0                   1  \n",
       "1                   1  \n",
       "2                   2  \n",
       "3                   2  \n",
       "4                   1  "
      ]
     },
     "execution_count": 10,
     "metadata": {},
     "output_type": "execute_result"
    }
   ],
   "source": [
    "df_user_reviews['sentiment_analysis'] = df_user_reviews['reviews_review'].apply(analisis_sentimiento)\n",
    "df_user_reviews.head()"
   ]
  },
  {
   "cell_type": "code",
   "execution_count": 11,
   "metadata": {},
   "outputs": [
    {
     "name": "stdout",
     "output_type": "stream",
     "text": [
      "En la sección de evaluación de sentimientos, se presentan los siguientes ejemplos de reseñas para 0:\n",
      "Reseña: 1: This game is Marvellous.\n",
      "Reseña: 2: Killed the Emperor, nobody cared and got away with it. Accidentally killed a chicken and everybody decided to gang up on me. 10/10\n",
      "Reseña: 3: This Game Doesn't Work\n",
      "\n",
      "\n",
      "En la sección de evaluación de sentimientos, se presentan los siguientes ejemplos de reseñas para 1:\n",
      "Reseña: 1: Simple yet with great replayability. In my opinion does \"zombie\" hordes and team work better than left 4 dead plus has a global leveling system. Alot of down to earth \"zombie\" splattering fun for the whole family. Amazed this sort of FPS is so rare.\n",
      "Reseña: 2: I know what you think when you see this title \"Barbie Dreamhouse Party\" but do not be intimidated by it's title, this is easily one of my GOTYs. You don't get any of that cliche game mechanics that all the latest games have, this is simply good core gameplay. Yes, you can't 360 noscope your friends, but what you can do is show them up with your bad ♥♥♥ dance moves and put them to shame as you show them what true fashion and color combinations are.I know this game says for kids but, this is easily for any age range and any age will have a blast playing this.8/8\n",
      "Reseña: 3: Git gud\n",
      "\n",
      "\n",
      "En la sección de evaluación de sentimientos, se presentan los siguientes ejemplos de reseñas para 2:\n",
      "Reseña: 1: A suitably punishing roguelike platformer.  Winning feels good.  Progressive unlocks mean a good slog ending in failure doesn't feel like a waste.\n",
      "Reseña: 2: This game... is so fun. The fight sequences have been improved from walking dead. It also includes more of a Sam and Max puzzle solving (some of it in the first episode) and walking dead. The game also gets even more better if you have read the Fables comic books, which are without a doubt, very good. The music is also superb and fit the scenarios very well.\n",
      "Reseña: 3: love it\n",
      "\n",
      "\n"
     ]
    }
   ],
   "source": [
    "#Reviso algunos ejemplos para cada una de las clases de sentimiento.\n",
    "ej_review_sentimiento(df_user_reviews['reviews_review'], df_user_reviews['sentiment_analysis'])"
   ]
  },
  {
   "cell_type": "markdown",
   "metadata": {},
   "source": [
    "🗑️ Al final del proceso, la columna 'reviews_review' se elimina del conjunto de datos. \n"
   ]
  },
  {
   "cell_type": "code",
   "execution_count": 12,
   "metadata": {},
   "outputs": [
    {
     "name": "stdout",
     "output_type": "stream",
     "text": [
      "<class 'pandas.core.frame.DataFrame'>\n",
      "Index: 57397 entries, 0 to 231501\n",
      "Data columns (total 6 columns):\n",
      " #   Column              Non-Null Count  Dtype \n",
      "---  ------              --------------  ----- \n",
      " 0   user_id             57397 non-null  object\n",
      " 1   user_url            57397 non-null  object\n",
      " 2   reviews_item_id     57397 non-null  object\n",
      " 3   reviews_helpful     57397 non-null  object\n",
      " 4   reviews_recommend   57397 non-null  bool  \n",
      " 5   sentiment_analysis  57397 non-null  int64 \n",
      "dtypes: bool(1), int64(1), object(4)\n",
      "memory usage: 2.7+ MB\n"
     ]
    }
   ],
   "source": [
    "df_user_reviews = df_user_reviews.drop(columns=['reviews_review'])\n",
    "\n",
    "#Actualizamos nuestro parquet con los cambios nuevos:\n",
    "# Convert DataFrame to PyArrow Table\n",
    "table = pa.Table.from_pandas(df_user_reviews)\n",
    "\n",
    "ruta_parquet = os.path.join('..', '0 Dataset', '2.1_user_review_LISTO.parquet')\n",
    "df_user_reviews.to_parquet(ruta_parquet)\n",
    "df_user_reviews.info()"
   ]
  }
 ],
 "metadata": {
  "kernelspec": {
   "display_name": "venv",
   "language": "python",
   "name": "python3"
  },
  "language_info": {
   "codemirror_mode": {
    "name": "ipython",
    "version": 3
   },
   "file_extension": ".py",
   "mimetype": "text/x-python",
   "name": "python",
   "nbconvert_exporter": "python",
   "pygments_lexer": "ipython3",
   "version": "3.10.11"
  }
 },
 "nbformat": 4,
 "nbformat_minor": 2
}
