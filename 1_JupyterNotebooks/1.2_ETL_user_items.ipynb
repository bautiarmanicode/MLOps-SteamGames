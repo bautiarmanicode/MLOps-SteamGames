{
 "cells": [
  {
   "cell_type": "markdown",
   "metadata": {},
   "source": [
    "## 🛠️ **ETL (Extract, Transform, Load)**\n",
    "### **📂Procesamos el 2do archivo: `user_items.json.gz`**\n"
   ]
  },
  {
   "cell_type": "markdown",
   "metadata": {},
   "source": [
    "📂 **user_reviews.json**:: \n",
    "- 🗃️ `Items `**:** Desanidado: era una lista de diccionarios\n",
    "- 🔄 `Playtime_forever `: Transformamos los minutos a horas"
   ]
  },
  {
   "cell_type": "markdown",
   "metadata": {},
   "source": [
    "#### 📦 **EXTRACT**"
   ]
  },
  {
   "cell_type": "markdown",
   "metadata": {},
   "source": [
    "#### **Importamos las librerías que vamos a usar**\n"
   ]
  },
  {
   "cell_type": "code",
   "execution_count": 1,
   "metadata": {},
   "outputs": [],
   "source": [
    "import pandas as pd  # Pandas se utiliza para el manejo y análisis de datos tabulares\n",
    "import pyarrow as pa  # PyArrow se utiliza para trabajar con formatos de datos columnares y eficientes como Parquet\n",
    "import pyarrow.parquet as pq  # Importamos Parquet\n",
    "\n",
    "import ast  # AST (Abstract Syntax Trees) se utiliza para interpretar expresiones Python\n",
    "import gzip\n",
    "import json  # JSON se utiliza para trabajar con datos en formato JSON\n",
    "import os  # OS proporciona funciones para interactuar con el sistema operativo\n",
    "import time\n",
    "import warnings  # Warnings se utiliza para gestionar advertencias y filtrarlas si es necesario\n",
    "warnings.filterwarnings(\"ignore\")\n",
    "from data_utils import data_type_check, duplicados_columna\n",
    "# Autoreload se utiliza para recargar automáticamente los módulos al realizar cambios\n",
    "%load_ext autoreload\n",
    "%autoreload 2"
   ]
  },
  {
   "cell_type": "markdown",
   "metadata": {},
   "source": [
    "#### **Descomprimimos el archivo gz** "
   ]
  },
  {
   "cell_type": "code",
   "execution_count": 2,
   "metadata": {},
   "outputs": [
    {
     "name": "stdout",
     "output_type": "stream",
     "text": [
      "Archivo descomprimido: ../0 Dataset/users_items.json\n"
     ]
    }
   ],
   "source": [
    "# Obtenemos el tiempo de inicio de todo este ipynb \n",
    "start_time = time.time()\n",
    "\n",
    "def descomprimir_archivos_gz(archivos_gz, carpeta_destino):\n",
    "    for archivo_gz in archivos_gz:\n",
    "        with gzip.open(archivo_gz, 'rb') as f_in:\n",
    "            contenido = f_in.read()\n",
    "            archivo_destino = os.path.join(carpeta_destino, os.path.splitext(os.path.basename(archivo_gz))[0])\n",
    "            with open(archivo_destino, 'wb') as f_out:\n",
    "                f_out.write(contenido)\n",
    "        print(f'Archivo descomprimido: {archivo_destino}')\n",
    "\n",
    "# Ejemplo de uso con una lista de archivos gz\n",
    "archivo_gz_a_descomprimir = ['../0 Dataset/users_items.json.gz']\n",
    "carpeta_destino = '../0 Dataset/'\n",
    "\n",
    "descomprimir_archivos_gz(archivo_gz_a_descomprimir, carpeta_destino)\n"
   ]
  },
  {
   "cell_type": "markdown",
   "metadata": {},
   "source": [
    "### **📂Procesamos el 2do archivo: `user_items.json.gz`**"
   ]
  },
  {
   "cell_type": "markdown",
   "metadata": {},
   "source": [
    "\n",
    "- Tomamos los datos del archivo JSON, transformamos en un DataFrame y realizamos una primera observación de su contenido."
   ]
  },
  {
   "cell_type": "code",
   "execution_count": 3,
   "metadata": {},
   "outputs": [
    {
     "data": {
      "text/html": [
       "<div>\n",
       "<style scoped>\n",
       "    .dataframe tbody tr th:only-of-type {\n",
       "        vertical-align: middle;\n",
       "    }\n",
       "\n",
       "    .dataframe tbody tr th {\n",
       "        vertical-align: top;\n",
       "    }\n",
       "\n",
       "    .dataframe thead th {\n",
       "        text-align: right;\n",
       "    }\n",
       "</style>\n",
       "<table border=\"1\" class=\"dataframe\">\n",
       "  <thead>\n",
       "    <tr style=\"text-align: right;\">\n",
       "      <th></th>\n",
       "      <th>user_id</th>\n",
       "      <th>items_count</th>\n",
       "      <th>steam_id</th>\n",
       "      <th>user_url</th>\n",
       "      <th>items</th>\n",
       "    </tr>\n",
       "  </thead>\n",
       "  <tbody>\n",
       "    <tr>\n",
       "      <th>51672</th>\n",
       "      <td>76561198044595704</td>\n",
       "      <td>15</td>\n",
       "      <td>76561198044595704</td>\n",
       "      <td>http://steamcommunity.com/profiles/76561198044...</td>\n",
       "      <td>[{'item_id': '240', 'item_name': 'Counter-Stri...</td>\n",
       "    </tr>\n",
       "    <tr>\n",
       "      <th>12316</th>\n",
       "      <td>richardislongfor</td>\n",
       "      <td>20</td>\n",
       "      <td>76561198047947089</td>\n",
       "      <td>http://steamcommunity.com/id/richardislongfor</td>\n",
       "      <td>[{'item_id': '6060', 'item_name': 'STAR WARS™ ...</td>\n",
       "    </tr>\n",
       "  </tbody>\n",
       "</table>\n",
       "</div>"
      ],
      "text/plain": [
       "                 user_id  items_count           steam_id  \\\n",
       "51672  76561198044595704           15  76561198044595704   \n",
       "12316   richardislongfor           20  76561198047947089   \n",
       "\n",
       "                                                user_url  \\\n",
       "51672  http://steamcommunity.com/profiles/76561198044...   \n",
       "12316      http://steamcommunity.com/id/richardislongfor   \n",
       "\n",
       "                                                   items  \n",
       "51672  [{'item_id': '240', 'item_name': 'Counter-Stri...  \n",
       "12316  [{'item_id': '6060', 'item_name': 'STAR WARS™ ...  "
      ]
     },
     "execution_count": 3,
     "metadata": {},
     "output_type": "execute_result"
    }
   ],
   "source": [
    "#Creamos una lista vacía llamada \"rows\" donde almacenaremos los datos del archivo JSON.\n",
    "rows = []\n",
    "#Abrir el archivo \"user_reviews.json/australian_user_reviews.json\" con la codificación MacRoman.\n",
    "with open(\"../0 Dataset/users_items.json\", encoding='utf-8') as f:\n",
    "    # Leer cada línea del archivo.\n",
    "    for line in f.readlines():\n",
    "        # Utilizar \"ast.literal_eval\" para convertir cada línea en un diccionario de Python\n",
    "        # y agregarlo a la lista \"rows\".\n",
    "        rows.append(ast.literal_eval(line))\n",
    "\n",
    "#Crear un DataFrame de Pandas a partir de la lista de diccionarios \"rows\".\n",
    "df_users_items = pd.DataFrame(rows)\n",
    "#Veamos unos registros al asar\n",
    "df_users_items.sample(2)"
   ]
  },
  {
   "cell_type": "code",
   "execution_count": 4,
   "metadata": {},
   "outputs": [
    {
     "name": "stdout",
     "output_type": "stream",
     "text": [
      "\n",
      "========================================\n",
      " Resumen del Dataframe \n",
      "========================================\n",
      "Dimensiones:  (88310, 5)\n",
      "       columna  %_no_nulos  %_nulos  total_nulos tipo_dato\n",
      "0      user_id       100.0      0.0            0    object\n",
      "1  items_count       100.0      0.0            0     int64\n",
      "2     steam_id       100.0      0.0            0    object\n",
      "3     user_url       100.0      0.0            0    object\n",
      "4        items       100.0      0.0            0    object\n"
     ]
    }
   ],
   "source": [
    "# Usando una funcion personalizada vemos las variables categóricas, numéricas, dimensiones del dataframe, nulos, tipos de datos   \n",
    "data_type_check(df_users_items)"
   ]
  },
  {
   "cell_type": "markdown",
   "metadata": {},
   "source": [
    "### 🔁 **TRANSFORM**"
   ]
  },
  {
   "cell_type": "code",
   "execution_count": null,
   "metadata": {},
   "outputs": [],
   "source": [
    "#Eliminamos las columnas irrelevantes que no nos riven\n",
    "df_users_items.drop([\"user_url\",\"items\"], axis=1, inplace=True)"
   ]
  },
  {
   "cell_type": "markdown",
   "metadata": {},
   "source": [
    "🗂️ Desanidado de la Columna **'items'** (es una lista de diccionarios)\n"
   ]
  },
  {
   "cell_type": "code",
   "execution_count": 5,
   "metadata": {},
   "outputs": [],
   "source": [
    "#Creamos una nueva fila para cada elemento de la lista en la columna items\n",
    "df_users_items = df_users_items.explode(\"items\").reset_index()\n",
    "#Eliminamos la columna index\n",
    "df_users_items = df_users_items.drop(columns=\"index\")\n",
    "# Creamos una nueva columna para cada elemento de la lista en la columna items\n",
    "df_users_items = pd.concat([df_users_items, pd.json_normalize(df_users_items['items'])], axis=1)"
   ]
  },
  {
   "cell_type": "code",
   "execution_count": 6,
   "metadata": {},
   "outputs": [
    {
     "name": "stdout",
     "output_type": "stream",
     "text": [
      "\n",
      "========================================\n",
      " Resumen del Dataframe \n",
      "========================================\n"
     ]
    },
    {
     "name": "stdout",
     "output_type": "stream",
     "text": [
      "Dimensiones:  (5170015, 9)\n",
      "            columna  %_no_nulos  %_nulos  total_nulos tipo_dato\n",
      "0           user_id      100.00     0.00            0    object\n",
      "1       items_count      100.00     0.00            0     int64\n",
      "2          steam_id      100.00     0.00            0    object\n",
      "3          user_url      100.00     0.00            0    object\n",
      "4             items       99.67     0.33        16806    object\n",
      "5           item_id       99.67     0.33        16806    object\n",
      "6         item_name       99.67     0.33        16806    object\n",
      "7  playtime_forever       99.67     0.33        16806   float64\n",
      "8   playtime_2weeks       99.67     0.33        16806   float64\n"
     ]
    }
   ],
   "source": [
    "# Usando una funcion personalizada vemos las variables categóricas, numéricas, dimensiones del dataframe, nulos, tipos de datos   \n",
    "data_type_check(df_users_items)"
   ]
  },
  {
   "cell_type": "markdown",
   "metadata": {},
   "source": [
    "Playtime_forever: Transformamos los minutos a horas "
   ]
  },
  {
   "cell_type": "code",
   "execution_count": 8,
   "metadata": {},
   "outputs": [],
   "source": [
    "'''\n",
    "playtime_forever\n",
    "'''\n",
    "#borramos donde no haya tiempo de juego\n",
    "df_users_items = df_users_items[df_users_items['playtime_forever'] != 0]\n",
    "#Convertimos los minutos a horas\n",
    "df_users_items['playtime_forever'] = df_users_items['playtime_forever'] / 60\n",
    "\n",
    "'''\n",
    "User_id:\n",
    "'''\n",
    "\n",
    "# Eliminar espacios en blanco al principio y al final de los valores\n",
    "df_users_items['user_id'] = df_users_items['user_id'].str.strip()\n",
    "# Llenar valores nulos con un valor específico (por ejemplo, cadena vacía)\n",
    "df_users_items['user_id'].fillna('', inplace=True)\n",
    "# Eliminar caracteres especiales o no imprimibles\n",
    "df_users_items['user_id'] = df_users_items['user_id'].str.replace(r'\\W', '')\n",
    "# Convertir a tipo string\n",
    "df_users_items = df_users_items.astype({'user_id': 'string'})\n"
   ]
  },
  {
   "cell_type": "markdown",
   "metadata": {},
   "source": [
    "#### **item_id**"
   ]
  },
  {
   "cell_type": "code",
   "execution_count": null,
   "metadata": {},
   "outputs": [],
   "source": [
    "df_users_items"
   ]
  },
  {
   "cell_type": "code",
   "execution_count": 19,
   "metadata": {},
   "outputs": [
    {
     "ename": "ValueError",
     "evalue": "invalid literal for int() with base 10: 'nan'",
     "output_type": "error",
     "traceback": [
      "\u001b[1;31m---------------------------------------------------------------------------\u001b[0m",
      "\u001b[1;31mValueError\u001b[0m                                Traceback (most recent call last)",
      "Cell \u001b[1;32mIn[19], line 5\u001b[0m\n\u001b[0;32m      3\u001b[0m df_users_items[\u001b[38;5;124m'\u001b[39m\u001b[38;5;124mitem_id\u001b[39m\u001b[38;5;124m'\u001b[39m] \u001b[38;5;241m=\u001b[39m df_users_items[\u001b[38;5;124m'\u001b[39m\u001b[38;5;124mitem_id\u001b[39m\u001b[38;5;124m'\u001b[39m]\u001b[38;5;241m.\u001b[39mstr\u001b[38;5;241m.\u001b[39mreplace(\u001b[38;5;124m'\u001b[39m\u001b[38;5;124m\"\u001b[39m\u001b[38;5;124m'\u001b[39m, \u001b[38;5;124m'\u001b[39m\u001b[38;5;124m'\u001b[39m)\n\u001b[0;32m      4\u001b[0m \u001b[38;5;66;03m# Convert to integer (after handling \"nan\")\u001b[39;00m\n\u001b[1;32m----> 5\u001b[0m df_users_items[\u001b[38;5;124m'\u001b[39m\u001b[38;5;124mitem_id\u001b[39m\u001b[38;5;124m'\u001b[39m] \u001b[38;5;241m=\u001b[39m \u001b[43mdf_users_items\u001b[49m\u001b[43m[\u001b[49m\u001b[38;5;124;43m'\u001b[39;49m\u001b[38;5;124;43mitem_id\u001b[39;49m\u001b[38;5;124;43m'\u001b[39;49m\u001b[43m]\u001b[49m\u001b[38;5;241;43m.\u001b[39;49m\u001b[43mastype\u001b[49m\u001b[43m(\u001b[49m\u001b[38;5;28;43mint\u001b[39;49m\u001b[43m)\u001b[49m\n",
      "File \u001b[1;32mc:\\BAU\\ESTUDIO\\0_ Programacion\\HENRY\\HENRY MEGAA\\ESTUDIO\\0_ HENRY\\DATASCIENCE\\1_ DataScience\\DS_07_Proyectos\\PROYECTO NUEVO\\SteamGames ML OPS\\env\\lib\\site-packages\\pandas\\core\\generic.py:6534\u001b[0m, in \u001b[0;36mNDFrame.astype\u001b[1;34m(self, dtype, copy, errors)\u001b[0m\n\u001b[0;32m   6530\u001b[0m     results \u001b[38;5;241m=\u001b[39m [ser\u001b[38;5;241m.\u001b[39mastype(dtype, copy\u001b[38;5;241m=\u001b[39mcopy) \u001b[38;5;28;01mfor\u001b[39;00m _, ser \u001b[38;5;129;01min\u001b[39;00m \u001b[38;5;28mself\u001b[39m\u001b[38;5;241m.\u001b[39mitems()]\n\u001b[0;32m   6532\u001b[0m \u001b[38;5;28;01melse\u001b[39;00m:\n\u001b[0;32m   6533\u001b[0m     \u001b[38;5;66;03m# else, only a single dtype is given\u001b[39;00m\n\u001b[1;32m-> 6534\u001b[0m     new_data \u001b[38;5;241m=\u001b[39m \u001b[38;5;28;43mself\u001b[39;49m\u001b[38;5;241;43m.\u001b[39;49m\u001b[43m_mgr\u001b[49m\u001b[38;5;241;43m.\u001b[39;49m\u001b[43mastype\u001b[49m\u001b[43m(\u001b[49m\u001b[43mdtype\u001b[49m\u001b[38;5;241;43m=\u001b[39;49m\u001b[43mdtype\u001b[49m\u001b[43m,\u001b[49m\u001b[43m \u001b[49m\u001b[43mcopy\u001b[49m\u001b[38;5;241;43m=\u001b[39;49m\u001b[43mcopy\u001b[49m\u001b[43m,\u001b[49m\u001b[43m \u001b[49m\u001b[43merrors\u001b[49m\u001b[38;5;241;43m=\u001b[39;49m\u001b[43merrors\u001b[49m\u001b[43m)\u001b[49m\n\u001b[0;32m   6535\u001b[0m     res \u001b[38;5;241m=\u001b[39m \u001b[38;5;28mself\u001b[39m\u001b[38;5;241m.\u001b[39m_constructor_from_mgr(new_data, axes\u001b[38;5;241m=\u001b[39mnew_data\u001b[38;5;241m.\u001b[39maxes)\n\u001b[0;32m   6536\u001b[0m     \u001b[38;5;28;01mreturn\u001b[39;00m res\u001b[38;5;241m.\u001b[39m__finalize__(\u001b[38;5;28mself\u001b[39m, method\u001b[38;5;241m=\u001b[39m\u001b[38;5;124m\"\u001b[39m\u001b[38;5;124mastype\u001b[39m\u001b[38;5;124m\"\u001b[39m)\n",
      "File \u001b[1;32mc:\\BAU\\ESTUDIO\\0_ Programacion\\HENRY\\HENRY MEGAA\\ESTUDIO\\0_ HENRY\\DATASCIENCE\\1_ DataScience\\DS_07_Proyectos\\PROYECTO NUEVO\\SteamGames ML OPS\\env\\lib\\site-packages\\pandas\\core\\internals\\managers.py:414\u001b[0m, in \u001b[0;36mBaseBlockManager.astype\u001b[1;34m(self, dtype, copy, errors)\u001b[0m\n\u001b[0;32m    411\u001b[0m \u001b[38;5;28;01melif\u001b[39;00m using_copy_on_write():\n\u001b[0;32m    412\u001b[0m     copy \u001b[38;5;241m=\u001b[39m \u001b[38;5;28;01mFalse\u001b[39;00m\n\u001b[1;32m--> 414\u001b[0m \u001b[38;5;28;01mreturn\u001b[39;00m \u001b[38;5;28;43mself\u001b[39;49m\u001b[38;5;241;43m.\u001b[39;49m\u001b[43mapply\u001b[49m\u001b[43m(\u001b[49m\n\u001b[0;32m    415\u001b[0m \u001b[43m    \u001b[49m\u001b[38;5;124;43m\"\u001b[39;49m\u001b[38;5;124;43mastype\u001b[39;49m\u001b[38;5;124;43m\"\u001b[39;49m\u001b[43m,\u001b[49m\n\u001b[0;32m    416\u001b[0m \u001b[43m    \u001b[49m\u001b[43mdtype\u001b[49m\u001b[38;5;241;43m=\u001b[39;49m\u001b[43mdtype\u001b[49m\u001b[43m,\u001b[49m\n\u001b[0;32m    417\u001b[0m \u001b[43m    \u001b[49m\u001b[43mcopy\u001b[49m\u001b[38;5;241;43m=\u001b[39;49m\u001b[43mcopy\u001b[49m\u001b[43m,\u001b[49m\n\u001b[0;32m    418\u001b[0m \u001b[43m    \u001b[49m\u001b[43merrors\u001b[49m\u001b[38;5;241;43m=\u001b[39;49m\u001b[43merrors\u001b[49m\u001b[43m,\u001b[49m\n\u001b[0;32m    419\u001b[0m \u001b[43m    \u001b[49m\u001b[43musing_cow\u001b[49m\u001b[38;5;241;43m=\u001b[39;49m\u001b[43musing_copy_on_write\u001b[49m\u001b[43m(\u001b[49m\u001b[43m)\u001b[49m\u001b[43m,\u001b[49m\n\u001b[0;32m    420\u001b[0m \u001b[43m\u001b[49m\u001b[43m)\u001b[49m\n",
      "File \u001b[1;32mc:\\BAU\\ESTUDIO\\0_ Programacion\\HENRY\\HENRY MEGAA\\ESTUDIO\\0_ HENRY\\DATASCIENCE\\1_ DataScience\\DS_07_Proyectos\\PROYECTO NUEVO\\SteamGames ML OPS\\env\\lib\\site-packages\\pandas\\core\\internals\\managers.py:354\u001b[0m, in \u001b[0;36mBaseBlockManager.apply\u001b[1;34m(self, f, align_keys, **kwargs)\u001b[0m\n\u001b[0;32m    352\u001b[0m         applied \u001b[38;5;241m=\u001b[39m b\u001b[38;5;241m.\u001b[39mapply(f, \u001b[38;5;241m*\u001b[39m\u001b[38;5;241m*\u001b[39mkwargs)\n\u001b[0;32m    353\u001b[0m     \u001b[38;5;28;01melse\u001b[39;00m:\n\u001b[1;32m--> 354\u001b[0m         applied \u001b[38;5;241m=\u001b[39m \u001b[38;5;28mgetattr\u001b[39m(b, f)(\u001b[38;5;241m*\u001b[39m\u001b[38;5;241m*\u001b[39mkwargs)\n\u001b[0;32m    355\u001b[0m     result_blocks \u001b[38;5;241m=\u001b[39m extend_blocks(applied, result_blocks)\n\u001b[0;32m    357\u001b[0m out \u001b[38;5;241m=\u001b[39m \u001b[38;5;28mtype\u001b[39m(\u001b[38;5;28mself\u001b[39m)\u001b[38;5;241m.\u001b[39mfrom_blocks(result_blocks, \u001b[38;5;28mself\u001b[39m\u001b[38;5;241m.\u001b[39maxes)\n",
      "File \u001b[1;32mc:\\BAU\\ESTUDIO\\0_ Programacion\\HENRY\\HENRY MEGAA\\ESTUDIO\\0_ HENRY\\DATASCIENCE\\1_ DataScience\\DS_07_Proyectos\\PROYECTO NUEVO\\SteamGames ML OPS\\env\\lib\\site-packages\\pandas\\core\\internals\\blocks.py:616\u001b[0m, in \u001b[0;36mBlock.astype\u001b[1;34m(self, dtype, copy, errors, using_cow)\u001b[0m\n\u001b[0;32m    596\u001b[0m \u001b[38;5;250m\u001b[39m\u001b[38;5;124;03m\"\"\"\u001b[39;00m\n\u001b[0;32m    597\u001b[0m \u001b[38;5;124;03mCoerce to the new dtype.\u001b[39;00m\n\u001b[0;32m    598\u001b[0m \n\u001b[1;32m   (...)\u001b[0m\n\u001b[0;32m    612\u001b[0m \u001b[38;5;124;03mBlock\u001b[39;00m\n\u001b[0;32m    613\u001b[0m \u001b[38;5;124;03m\"\"\"\u001b[39;00m\n\u001b[0;32m    614\u001b[0m values \u001b[38;5;241m=\u001b[39m \u001b[38;5;28mself\u001b[39m\u001b[38;5;241m.\u001b[39mvalues\n\u001b[1;32m--> 616\u001b[0m new_values \u001b[38;5;241m=\u001b[39m \u001b[43mastype_array_safe\u001b[49m\u001b[43m(\u001b[49m\u001b[43mvalues\u001b[49m\u001b[43m,\u001b[49m\u001b[43m \u001b[49m\u001b[43mdtype\u001b[49m\u001b[43m,\u001b[49m\u001b[43m \u001b[49m\u001b[43mcopy\u001b[49m\u001b[38;5;241;43m=\u001b[39;49m\u001b[43mcopy\u001b[49m\u001b[43m,\u001b[49m\u001b[43m \u001b[49m\u001b[43merrors\u001b[49m\u001b[38;5;241;43m=\u001b[39;49m\u001b[43merrors\u001b[49m\u001b[43m)\u001b[49m\n\u001b[0;32m    618\u001b[0m new_values \u001b[38;5;241m=\u001b[39m maybe_coerce_values(new_values)\n\u001b[0;32m    620\u001b[0m refs \u001b[38;5;241m=\u001b[39m \u001b[38;5;28;01mNone\u001b[39;00m\n",
      "File \u001b[1;32mc:\\BAU\\ESTUDIO\\0_ Programacion\\HENRY\\HENRY MEGAA\\ESTUDIO\\0_ HENRY\\DATASCIENCE\\1_ DataScience\\DS_07_Proyectos\\PROYECTO NUEVO\\SteamGames ML OPS\\env\\lib\\site-packages\\pandas\\core\\dtypes\\astype.py:238\u001b[0m, in \u001b[0;36mastype_array_safe\u001b[1;34m(values, dtype, copy, errors)\u001b[0m\n\u001b[0;32m    235\u001b[0m     dtype \u001b[38;5;241m=\u001b[39m dtype\u001b[38;5;241m.\u001b[39mnumpy_dtype\n\u001b[0;32m    237\u001b[0m \u001b[38;5;28;01mtry\u001b[39;00m:\n\u001b[1;32m--> 238\u001b[0m     new_values \u001b[38;5;241m=\u001b[39m \u001b[43mastype_array\u001b[49m\u001b[43m(\u001b[49m\u001b[43mvalues\u001b[49m\u001b[43m,\u001b[49m\u001b[43m \u001b[49m\u001b[43mdtype\u001b[49m\u001b[43m,\u001b[49m\u001b[43m \u001b[49m\u001b[43mcopy\u001b[49m\u001b[38;5;241;43m=\u001b[39;49m\u001b[43mcopy\u001b[49m\u001b[43m)\u001b[49m\n\u001b[0;32m    239\u001b[0m \u001b[38;5;28;01mexcept\u001b[39;00m (\u001b[38;5;167;01mValueError\u001b[39;00m, \u001b[38;5;167;01mTypeError\u001b[39;00m):\n\u001b[0;32m    240\u001b[0m     \u001b[38;5;66;03m# e.g. _astype_nansafe can fail on object-dtype of strings\u001b[39;00m\n\u001b[0;32m    241\u001b[0m     \u001b[38;5;66;03m#  trying to convert to float\u001b[39;00m\n\u001b[0;32m    242\u001b[0m     \u001b[38;5;28;01mif\u001b[39;00m errors \u001b[38;5;241m==\u001b[39m \u001b[38;5;124m\"\u001b[39m\u001b[38;5;124mignore\u001b[39m\u001b[38;5;124m\"\u001b[39m:\n",
      "File \u001b[1;32mc:\\BAU\\ESTUDIO\\0_ Programacion\\HENRY\\HENRY MEGAA\\ESTUDIO\\0_ HENRY\\DATASCIENCE\\1_ DataScience\\DS_07_Proyectos\\PROYECTO NUEVO\\SteamGames ML OPS\\env\\lib\\site-packages\\pandas\\core\\dtypes\\astype.py:183\u001b[0m, in \u001b[0;36mastype_array\u001b[1;34m(values, dtype, copy)\u001b[0m\n\u001b[0;32m    180\u001b[0m     values \u001b[38;5;241m=\u001b[39m values\u001b[38;5;241m.\u001b[39mastype(dtype, copy\u001b[38;5;241m=\u001b[39mcopy)\n\u001b[0;32m    182\u001b[0m \u001b[38;5;28;01melse\u001b[39;00m:\n\u001b[1;32m--> 183\u001b[0m     values \u001b[38;5;241m=\u001b[39m \u001b[43m_astype_nansafe\u001b[49m\u001b[43m(\u001b[49m\u001b[43mvalues\u001b[49m\u001b[43m,\u001b[49m\u001b[43m \u001b[49m\u001b[43mdtype\u001b[49m\u001b[43m,\u001b[49m\u001b[43m \u001b[49m\u001b[43mcopy\u001b[49m\u001b[38;5;241;43m=\u001b[39;49m\u001b[43mcopy\u001b[49m\u001b[43m)\u001b[49m\n\u001b[0;32m    185\u001b[0m \u001b[38;5;66;03m# in pandas we don't store numpy str dtypes, so convert to object\u001b[39;00m\n\u001b[0;32m    186\u001b[0m \u001b[38;5;28;01mif\u001b[39;00m \u001b[38;5;28misinstance\u001b[39m(dtype, np\u001b[38;5;241m.\u001b[39mdtype) \u001b[38;5;129;01mand\u001b[39;00m \u001b[38;5;28missubclass\u001b[39m(values\u001b[38;5;241m.\u001b[39mdtype\u001b[38;5;241m.\u001b[39mtype, \u001b[38;5;28mstr\u001b[39m):\n",
      "File \u001b[1;32mc:\\BAU\\ESTUDIO\\0_ Programacion\\HENRY\\HENRY MEGAA\\ESTUDIO\\0_ HENRY\\DATASCIENCE\\1_ DataScience\\DS_07_Proyectos\\PROYECTO NUEVO\\SteamGames ML OPS\\env\\lib\\site-packages\\pandas\\core\\dtypes\\astype.py:134\u001b[0m, in \u001b[0;36m_astype_nansafe\u001b[1;34m(arr, dtype, copy, skipna)\u001b[0m\n\u001b[0;32m    130\u001b[0m     \u001b[38;5;28;01mraise\u001b[39;00m \u001b[38;5;167;01mValueError\u001b[39;00m(msg)\n\u001b[0;32m    132\u001b[0m \u001b[38;5;28;01mif\u001b[39;00m copy \u001b[38;5;129;01mor\u001b[39;00m arr\u001b[38;5;241m.\u001b[39mdtype \u001b[38;5;241m==\u001b[39m \u001b[38;5;28mobject\u001b[39m \u001b[38;5;129;01mor\u001b[39;00m dtype \u001b[38;5;241m==\u001b[39m \u001b[38;5;28mobject\u001b[39m:\n\u001b[0;32m    133\u001b[0m     \u001b[38;5;66;03m# Explicit copy, or required since NumPy can't view from / to object.\u001b[39;00m\n\u001b[1;32m--> 134\u001b[0m     \u001b[38;5;28;01mreturn\u001b[39;00m \u001b[43marr\u001b[49m\u001b[38;5;241;43m.\u001b[39;49m\u001b[43mastype\u001b[49m\u001b[43m(\u001b[49m\u001b[43mdtype\u001b[49m\u001b[43m,\u001b[49m\u001b[43m \u001b[49m\u001b[43mcopy\u001b[49m\u001b[38;5;241;43m=\u001b[39;49m\u001b[38;5;28;43;01mTrue\u001b[39;49;00m\u001b[43m)\u001b[49m\n\u001b[0;32m    136\u001b[0m \u001b[38;5;28;01mreturn\u001b[39;00m arr\u001b[38;5;241m.\u001b[39mastype(dtype, copy\u001b[38;5;241m=\u001b[39mcopy)\n",
      "\u001b[1;31mValueError\u001b[0m: invalid literal for int() with base 10: 'nan'"
     ]
    }
   ],
   "source": [
    "df_users_items['item_id'] = df_users_items['item_id'].fillna(-1)\n",
    "# Remove empty strings (if needed)\n",
    "df_users_items['item_id'] = df_users_items['item_id'].str.replace('\"', '')\n",
    "\n"
   ]
  },
  {
   "cell_type": "code",
   "execution_count": 17,
   "metadata": {},
   "outputs": [
    {
     "ename": "ValueError",
     "evalue": "invalid literal for int() with base 10: 'nan'",
     "output_type": "error",
     "traceback": [
      "\u001b[1;31m---------------------------------------------------------------------------\u001b[0m",
      "\u001b[1;31mValueError\u001b[0m                                Traceback (most recent call last)",
      "Cell \u001b[1;32mIn[17], line 5\u001b[0m\n\u001b[0;32m      2\u001b[0m df_users_items[\u001b[38;5;124m'\u001b[39m\u001b[38;5;124mitem_id\u001b[39m\u001b[38;5;124m'\u001b[39m] \u001b[38;5;241m=\u001b[39m df_users_items[\u001b[38;5;124m'\u001b[39m\u001b[38;5;124mitem_id\u001b[39m\u001b[38;5;124m'\u001b[39m]\u001b[38;5;241m.\u001b[39mstr\u001b[38;5;241m.\u001b[39mreplace(\u001b[38;5;124m'\u001b[39m\u001b[38;5;124m\"\u001b[39m\u001b[38;5;124m'\u001b[39m, \u001b[38;5;124m'\u001b[39m\u001b[38;5;124m'\u001b[39m)\n\u001b[0;32m      4\u001b[0m \u001b[38;5;66;03m# Convert to integer (after handling \"nan\")\u001b[39;00m\n\u001b[1;32m----> 5\u001b[0m df_users_items[\u001b[38;5;124m'\u001b[39m\u001b[38;5;124mitem_id\u001b[39m\u001b[38;5;124m'\u001b[39m] \u001b[38;5;241m=\u001b[39m \u001b[43mdf_users_items\u001b[49m\u001b[43m[\u001b[49m\u001b[38;5;124;43m'\u001b[39;49m\u001b[38;5;124;43mitem_id\u001b[39;49m\u001b[38;5;124;43m'\u001b[39;49m\u001b[43m]\u001b[49m\u001b[38;5;241;43m.\u001b[39;49m\u001b[43mastype\u001b[49m\u001b[43m(\u001b[49m\u001b[38;5;28;43mint\u001b[39;49m\u001b[43m)\u001b[49m\n\u001b[0;32m      7\u001b[0m \u001b[38;5;66;03m# Call your data_type_check function here\u001b[39;00m\n\u001b[0;32m      8\u001b[0m data_type_check(df_users_items)\n",
      "File \u001b[1;32mc:\\BAU\\ESTUDIO\\0_ Programacion\\HENRY\\HENRY MEGAA\\ESTUDIO\\0_ HENRY\\DATASCIENCE\\1_ DataScience\\DS_07_Proyectos\\PROYECTO NUEVO\\SteamGames ML OPS\\env\\lib\\site-packages\\pandas\\core\\generic.py:6534\u001b[0m, in \u001b[0;36mNDFrame.astype\u001b[1;34m(self, dtype, copy, errors)\u001b[0m\n\u001b[0;32m   6530\u001b[0m     results \u001b[38;5;241m=\u001b[39m [ser\u001b[38;5;241m.\u001b[39mastype(dtype, copy\u001b[38;5;241m=\u001b[39mcopy) \u001b[38;5;28;01mfor\u001b[39;00m _, ser \u001b[38;5;129;01min\u001b[39;00m \u001b[38;5;28mself\u001b[39m\u001b[38;5;241m.\u001b[39mitems()]\n\u001b[0;32m   6532\u001b[0m \u001b[38;5;28;01melse\u001b[39;00m:\n\u001b[0;32m   6533\u001b[0m     \u001b[38;5;66;03m# else, only a single dtype is given\u001b[39;00m\n\u001b[1;32m-> 6534\u001b[0m     new_data \u001b[38;5;241m=\u001b[39m \u001b[38;5;28;43mself\u001b[39;49m\u001b[38;5;241;43m.\u001b[39;49m\u001b[43m_mgr\u001b[49m\u001b[38;5;241;43m.\u001b[39;49m\u001b[43mastype\u001b[49m\u001b[43m(\u001b[49m\u001b[43mdtype\u001b[49m\u001b[38;5;241;43m=\u001b[39;49m\u001b[43mdtype\u001b[49m\u001b[43m,\u001b[49m\u001b[43m \u001b[49m\u001b[43mcopy\u001b[49m\u001b[38;5;241;43m=\u001b[39;49m\u001b[43mcopy\u001b[49m\u001b[43m,\u001b[49m\u001b[43m \u001b[49m\u001b[43merrors\u001b[49m\u001b[38;5;241;43m=\u001b[39;49m\u001b[43merrors\u001b[49m\u001b[43m)\u001b[49m\n\u001b[0;32m   6535\u001b[0m     res \u001b[38;5;241m=\u001b[39m \u001b[38;5;28mself\u001b[39m\u001b[38;5;241m.\u001b[39m_constructor_from_mgr(new_data, axes\u001b[38;5;241m=\u001b[39mnew_data\u001b[38;5;241m.\u001b[39maxes)\n\u001b[0;32m   6536\u001b[0m     \u001b[38;5;28;01mreturn\u001b[39;00m res\u001b[38;5;241m.\u001b[39m__finalize__(\u001b[38;5;28mself\u001b[39m, method\u001b[38;5;241m=\u001b[39m\u001b[38;5;124m\"\u001b[39m\u001b[38;5;124mastype\u001b[39m\u001b[38;5;124m\"\u001b[39m)\n",
      "File \u001b[1;32mc:\\BAU\\ESTUDIO\\0_ Programacion\\HENRY\\HENRY MEGAA\\ESTUDIO\\0_ HENRY\\DATASCIENCE\\1_ DataScience\\DS_07_Proyectos\\PROYECTO NUEVO\\SteamGames ML OPS\\env\\lib\\site-packages\\pandas\\core\\internals\\managers.py:414\u001b[0m, in \u001b[0;36mBaseBlockManager.astype\u001b[1;34m(self, dtype, copy, errors)\u001b[0m\n\u001b[0;32m    411\u001b[0m \u001b[38;5;28;01melif\u001b[39;00m using_copy_on_write():\n\u001b[0;32m    412\u001b[0m     copy \u001b[38;5;241m=\u001b[39m \u001b[38;5;28;01mFalse\u001b[39;00m\n\u001b[1;32m--> 414\u001b[0m \u001b[38;5;28;01mreturn\u001b[39;00m \u001b[38;5;28;43mself\u001b[39;49m\u001b[38;5;241;43m.\u001b[39;49m\u001b[43mapply\u001b[49m\u001b[43m(\u001b[49m\n\u001b[0;32m    415\u001b[0m \u001b[43m    \u001b[49m\u001b[38;5;124;43m\"\u001b[39;49m\u001b[38;5;124;43mastype\u001b[39;49m\u001b[38;5;124;43m\"\u001b[39;49m\u001b[43m,\u001b[49m\n\u001b[0;32m    416\u001b[0m \u001b[43m    \u001b[49m\u001b[43mdtype\u001b[49m\u001b[38;5;241;43m=\u001b[39;49m\u001b[43mdtype\u001b[49m\u001b[43m,\u001b[49m\n\u001b[0;32m    417\u001b[0m \u001b[43m    \u001b[49m\u001b[43mcopy\u001b[49m\u001b[38;5;241;43m=\u001b[39;49m\u001b[43mcopy\u001b[49m\u001b[43m,\u001b[49m\n\u001b[0;32m    418\u001b[0m \u001b[43m    \u001b[49m\u001b[43merrors\u001b[49m\u001b[38;5;241;43m=\u001b[39;49m\u001b[43merrors\u001b[49m\u001b[43m,\u001b[49m\n\u001b[0;32m    419\u001b[0m \u001b[43m    \u001b[49m\u001b[43musing_cow\u001b[49m\u001b[38;5;241;43m=\u001b[39;49m\u001b[43musing_copy_on_write\u001b[49m\u001b[43m(\u001b[49m\u001b[43m)\u001b[49m\u001b[43m,\u001b[49m\n\u001b[0;32m    420\u001b[0m \u001b[43m\u001b[49m\u001b[43m)\u001b[49m\n",
      "File \u001b[1;32mc:\\BAU\\ESTUDIO\\0_ Programacion\\HENRY\\HENRY MEGAA\\ESTUDIO\\0_ HENRY\\DATASCIENCE\\1_ DataScience\\DS_07_Proyectos\\PROYECTO NUEVO\\SteamGames ML OPS\\env\\lib\\site-packages\\pandas\\core\\internals\\managers.py:354\u001b[0m, in \u001b[0;36mBaseBlockManager.apply\u001b[1;34m(self, f, align_keys, **kwargs)\u001b[0m\n\u001b[0;32m    352\u001b[0m         applied \u001b[38;5;241m=\u001b[39m b\u001b[38;5;241m.\u001b[39mapply(f, \u001b[38;5;241m*\u001b[39m\u001b[38;5;241m*\u001b[39mkwargs)\n\u001b[0;32m    353\u001b[0m     \u001b[38;5;28;01melse\u001b[39;00m:\n\u001b[1;32m--> 354\u001b[0m         applied \u001b[38;5;241m=\u001b[39m \u001b[38;5;28mgetattr\u001b[39m(b, f)(\u001b[38;5;241m*\u001b[39m\u001b[38;5;241m*\u001b[39mkwargs)\n\u001b[0;32m    355\u001b[0m     result_blocks \u001b[38;5;241m=\u001b[39m extend_blocks(applied, result_blocks)\n\u001b[0;32m    357\u001b[0m out \u001b[38;5;241m=\u001b[39m \u001b[38;5;28mtype\u001b[39m(\u001b[38;5;28mself\u001b[39m)\u001b[38;5;241m.\u001b[39mfrom_blocks(result_blocks, \u001b[38;5;28mself\u001b[39m\u001b[38;5;241m.\u001b[39maxes)\n",
      "File \u001b[1;32mc:\\BAU\\ESTUDIO\\0_ Programacion\\HENRY\\HENRY MEGAA\\ESTUDIO\\0_ HENRY\\DATASCIENCE\\1_ DataScience\\DS_07_Proyectos\\PROYECTO NUEVO\\SteamGames ML OPS\\env\\lib\\site-packages\\pandas\\core\\internals\\blocks.py:616\u001b[0m, in \u001b[0;36mBlock.astype\u001b[1;34m(self, dtype, copy, errors, using_cow)\u001b[0m\n\u001b[0;32m    596\u001b[0m \u001b[38;5;250m\u001b[39m\u001b[38;5;124;03m\"\"\"\u001b[39;00m\n\u001b[0;32m    597\u001b[0m \u001b[38;5;124;03mCoerce to the new dtype.\u001b[39;00m\n\u001b[0;32m    598\u001b[0m \n\u001b[1;32m   (...)\u001b[0m\n\u001b[0;32m    612\u001b[0m \u001b[38;5;124;03mBlock\u001b[39;00m\n\u001b[0;32m    613\u001b[0m \u001b[38;5;124;03m\"\"\"\u001b[39;00m\n\u001b[0;32m    614\u001b[0m values \u001b[38;5;241m=\u001b[39m \u001b[38;5;28mself\u001b[39m\u001b[38;5;241m.\u001b[39mvalues\n\u001b[1;32m--> 616\u001b[0m new_values \u001b[38;5;241m=\u001b[39m \u001b[43mastype_array_safe\u001b[49m\u001b[43m(\u001b[49m\u001b[43mvalues\u001b[49m\u001b[43m,\u001b[49m\u001b[43m \u001b[49m\u001b[43mdtype\u001b[49m\u001b[43m,\u001b[49m\u001b[43m \u001b[49m\u001b[43mcopy\u001b[49m\u001b[38;5;241;43m=\u001b[39;49m\u001b[43mcopy\u001b[49m\u001b[43m,\u001b[49m\u001b[43m \u001b[49m\u001b[43merrors\u001b[49m\u001b[38;5;241;43m=\u001b[39;49m\u001b[43merrors\u001b[49m\u001b[43m)\u001b[49m\n\u001b[0;32m    618\u001b[0m new_values \u001b[38;5;241m=\u001b[39m maybe_coerce_values(new_values)\n\u001b[0;32m    620\u001b[0m refs \u001b[38;5;241m=\u001b[39m \u001b[38;5;28;01mNone\u001b[39;00m\n",
      "File \u001b[1;32mc:\\BAU\\ESTUDIO\\0_ Programacion\\HENRY\\HENRY MEGAA\\ESTUDIO\\0_ HENRY\\DATASCIENCE\\1_ DataScience\\DS_07_Proyectos\\PROYECTO NUEVO\\SteamGames ML OPS\\env\\lib\\site-packages\\pandas\\core\\dtypes\\astype.py:238\u001b[0m, in \u001b[0;36mastype_array_safe\u001b[1;34m(values, dtype, copy, errors)\u001b[0m\n\u001b[0;32m    235\u001b[0m     dtype \u001b[38;5;241m=\u001b[39m dtype\u001b[38;5;241m.\u001b[39mnumpy_dtype\n\u001b[0;32m    237\u001b[0m \u001b[38;5;28;01mtry\u001b[39;00m:\n\u001b[1;32m--> 238\u001b[0m     new_values \u001b[38;5;241m=\u001b[39m \u001b[43mastype_array\u001b[49m\u001b[43m(\u001b[49m\u001b[43mvalues\u001b[49m\u001b[43m,\u001b[49m\u001b[43m \u001b[49m\u001b[43mdtype\u001b[49m\u001b[43m,\u001b[49m\u001b[43m \u001b[49m\u001b[43mcopy\u001b[49m\u001b[38;5;241;43m=\u001b[39;49m\u001b[43mcopy\u001b[49m\u001b[43m)\u001b[49m\n\u001b[0;32m    239\u001b[0m \u001b[38;5;28;01mexcept\u001b[39;00m (\u001b[38;5;167;01mValueError\u001b[39;00m, \u001b[38;5;167;01mTypeError\u001b[39;00m):\n\u001b[0;32m    240\u001b[0m     \u001b[38;5;66;03m# e.g. _astype_nansafe can fail on object-dtype of strings\u001b[39;00m\n\u001b[0;32m    241\u001b[0m     \u001b[38;5;66;03m#  trying to convert to float\u001b[39;00m\n\u001b[0;32m    242\u001b[0m     \u001b[38;5;28;01mif\u001b[39;00m errors \u001b[38;5;241m==\u001b[39m \u001b[38;5;124m\"\u001b[39m\u001b[38;5;124mignore\u001b[39m\u001b[38;5;124m\"\u001b[39m:\n",
      "File \u001b[1;32mc:\\BAU\\ESTUDIO\\0_ Programacion\\HENRY\\HENRY MEGAA\\ESTUDIO\\0_ HENRY\\DATASCIENCE\\1_ DataScience\\DS_07_Proyectos\\PROYECTO NUEVO\\SteamGames ML OPS\\env\\lib\\site-packages\\pandas\\core\\dtypes\\astype.py:183\u001b[0m, in \u001b[0;36mastype_array\u001b[1;34m(values, dtype, copy)\u001b[0m\n\u001b[0;32m    180\u001b[0m     values \u001b[38;5;241m=\u001b[39m values\u001b[38;5;241m.\u001b[39mastype(dtype, copy\u001b[38;5;241m=\u001b[39mcopy)\n\u001b[0;32m    182\u001b[0m \u001b[38;5;28;01melse\u001b[39;00m:\n\u001b[1;32m--> 183\u001b[0m     values \u001b[38;5;241m=\u001b[39m \u001b[43m_astype_nansafe\u001b[49m\u001b[43m(\u001b[49m\u001b[43mvalues\u001b[49m\u001b[43m,\u001b[49m\u001b[43m \u001b[49m\u001b[43mdtype\u001b[49m\u001b[43m,\u001b[49m\u001b[43m \u001b[49m\u001b[43mcopy\u001b[49m\u001b[38;5;241;43m=\u001b[39;49m\u001b[43mcopy\u001b[49m\u001b[43m)\u001b[49m\n\u001b[0;32m    185\u001b[0m \u001b[38;5;66;03m# in pandas we don't store numpy str dtypes, so convert to object\u001b[39;00m\n\u001b[0;32m    186\u001b[0m \u001b[38;5;28;01mif\u001b[39;00m \u001b[38;5;28misinstance\u001b[39m(dtype, np\u001b[38;5;241m.\u001b[39mdtype) \u001b[38;5;129;01mand\u001b[39;00m \u001b[38;5;28missubclass\u001b[39m(values\u001b[38;5;241m.\u001b[39mdtype\u001b[38;5;241m.\u001b[39mtype, \u001b[38;5;28mstr\u001b[39m):\n",
      "File \u001b[1;32mc:\\BAU\\ESTUDIO\\0_ Programacion\\HENRY\\HENRY MEGAA\\ESTUDIO\\0_ HENRY\\DATASCIENCE\\1_ DataScience\\DS_07_Proyectos\\PROYECTO NUEVO\\SteamGames ML OPS\\env\\lib\\site-packages\\pandas\\core\\dtypes\\astype.py:134\u001b[0m, in \u001b[0;36m_astype_nansafe\u001b[1;34m(arr, dtype, copy, skipna)\u001b[0m\n\u001b[0;32m    130\u001b[0m     \u001b[38;5;28;01mraise\u001b[39;00m \u001b[38;5;167;01mValueError\u001b[39;00m(msg)\n\u001b[0;32m    132\u001b[0m \u001b[38;5;28;01mif\u001b[39;00m copy \u001b[38;5;129;01mor\u001b[39;00m arr\u001b[38;5;241m.\u001b[39mdtype \u001b[38;5;241m==\u001b[39m \u001b[38;5;28mobject\u001b[39m \u001b[38;5;129;01mor\u001b[39;00m dtype \u001b[38;5;241m==\u001b[39m \u001b[38;5;28mobject\u001b[39m:\n\u001b[0;32m    133\u001b[0m     \u001b[38;5;66;03m# Explicit copy, or required since NumPy can't view from / to object.\u001b[39;00m\n\u001b[1;32m--> 134\u001b[0m     \u001b[38;5;28;01mreturn\u001b[39;00m \u001b[43marr\u001b[49m\u001b[38;5;241;43m.\u001b[39;49m\u001b[43mastype\u001b[49m\u001b[43m(\u001b[49m\u001b[43mdtype\u001b[49m\u001b[43m,\u001b[49m\u001b[43m \u001b[49m\u001b[43mcopy\u001b[49m\u001b[38;5;241;43m=\u001b[39;49m\u001b[38;5;28;43;01mTrue\u001b[39;49;00m\u001b[43m)\u001b[49m\n\u001b[0;32m    136\u001b[0m \u001b[38;5;28;01mreturn\u001b[39;00m arr\u001b[38;5;241m.\u001b[39mastype(dtype, copy\u001b[38;5;241m=\u001b[39mcopy)\n",
      "\u001b[1;31mValueError\u001b[0m: invalid literal for int() with base 10: 'nan'"
     ]
    }
   ],
   "source": [
    "\n",
    "\n",
    "\n",
    "# Call your data_type_check function here\n",
    "data_type_check(df_users_items)"
   ]
  },
  {
   "cell_type": "markdown",
   "metadata": {},
   "source": [
    "### 📤 **LOAD**"
   ]
  },
  {
   "cell_type": "code",
   "execution_count": null,
   "metadata": {},
   "outputs": [],
   "source": [
    "#convertimos a csv\n",
    "items= df_users_items.to_csv('./0 Dataset/user_items_LIMPIO.csv',index=False) \n",
    "# Leemos el archivo CSV en un DataFrame de pandas\n",
    "items = pd.read_csv('./0 Dataset/user_items_LIMPIO.csv')"
   ]
  },
  {
   "cell_type": "markdown",
   "metadata": {},
   "source": [
    "tengo esto dos veces+"
   ]
  },
  {
   "cell_type": "code",
   "execution_count": null,
   "metadata": {},
   "outputs": [],
   "source": [
    "# Convertir el DataFrame de pandas a una tabla de PyArrow\n",
    "table = pa.Table.from_pandas(items)\n",
    "# Escribir la tabla en un archivo Parquet\n",
    "pq.write_table(table, './0 Dataset/user_items_LISTO.parquet')"
   ]
  },
  {
   "cell_type": "code",
   "execution_count": null,
   "metadata": {},
   "outputs": [
    {
     "name": "stdout",
     "output_type": "stream",
     "text": [
      "\n",
      "========================================\n",
      " Resumen del Dataframe \n",
      "========================================\n",
      "Dimensiones:  (3285246, 7)\n",
      "            columna  %_no_nulos  %_nulos  total_nulos       tipo_dato\n",
      "0           user_id       100.0      0.0            0  string[python]\n",
      "1       items_count       100.0      0.0            0           int64\n",
      "2          steam_id       100.0      0.0            0          object\n",
      "3           item_id       100.0      0.0            0           int32\n",
      "4         item_name       100.0      0.0            0          object\n",
      "5  playtime_forever       100.0      0.0            0         float64\n",
      "6   playtime_2weeks       100.0      0.0            0         float64\n"
     ]
    }
   ],
   "source": [
    "# Leer el archivo Parquet en una tabla de PyArrow\n",
    "table = pq.read_table('./0 Dataset/user_items_LISTO.parquet')\n",
    "# Convertir la tabla de PyArrow a un DataFrame de pandas\n",
    "items_parquet = table.to_pandas()\n",
    "#Borramos el csv limpio ya que nos sirve mas en parquet\n",
    "os.remove('./0 Dataset/user_items_LIMPIO.csv')\n",
    "#Dejamos informacion de nuestro dataset\n",
    "data_type_check(df_users_items)"
   ]
  },
  {
   "cell_type": "markdown",
   "metadata": {},
   "source": [
    "## **📂Procesamos el 3er archivo: `user_reviews.json.gz`**\n"
   ]
  },
  {
   "cell_type": "markdown",
   "metadata": {},
   "source": [
    "### 📦 **EXTRACT**"
   ]
  },
  {
   "cell_type": "code",
   "execution_count": null,
   "metadata": {},
   "outputs": [
    {
     "data": {
      "text/html": [
       "<div>\n",
       "<style scoped>\n",
       "    .dataframe tbody tr th:only-of-type {\n",
       "        vertical-align: middle;\n",
       "    }\n",
       "\n",
       "    .dataframe tbody tr th {\n",
       "        vertical-align: top;\n",
       "    }\n",
       "\n",
       "    .dataframe thead th {\n",
       "        text-align: right;\n",
       "    }\n",
       "</style>\n",
       "<table border=\"1\" class=\"dataframe\">\n",
       "  <thead>\n",
       "    <tr style=\"text-align: right;\">\n",
       "      <th></th>\n",
       "      <th>user_id</th>\n",
       "      <th>user_url</th>\n",
       "      <th>reviews</th>\n",
       "    </tr>\n",
       "  </thead>\n",
       "  <tbody>\n",
       "    <tr>\n",
       "      <th>14316</th>\n",
       "      <td>76561198064936176</td>\n",
       "      <td>http://steamcommunity.com/profiles/76561198064...</td>\n",
       "      <td>[{'funny': '', 'posted': 'Posted January 23, 2...</td>\n",
       "    </tr>\n",
       "    <tr>\n",
       "      <th>9185</th>\n",
       "      <td>terralark</td>\n",
       "      <td>http://steamcommunity.com/id/terralark</td>\n",
       "      <td>[{'funny': '', 'posted': 'Posted October 27, 2...</td>\n",
       "    </tr>\n",
       "  </tbody>\n",
       "</table>\n",
       "</div>"
      ],
      "text/plain": [
       "                 user_id                                           user_url  \\\n",
       "14316  76561198064936176  http://steamcommunity.com/profiles/76561198064...   \n",
       "9185           terralark             http://steamcommunity.com/id/terralark   \n",
       "\n",
       "                                                 reviews  \n",
       "14316  [{'funny': '', 'posted': 'Posted January 23, 2...  \n",
       "9185   [{'funny': '', 'posted': 'Posted October 27, 2...  "
      ]
     },
     "execution_count": 27,
     "metadata": {},
     "output_type": "execute_result"
    }
   ],
   "source": [
    "#Creamos una lista vacía llamada \"rows\" donde almacenaremos los datos del archivo JSON.\n",
    "rows = []\n",
    "#Abrir el archivo \"user_reviews.json/australian_user_reviews.json\" con la codificación MacRoman.\n",
    "with open(\"./0 Dataset/user_reviews.json\", encoding='utf-8') as f:\n",
    "    # Leer cada línea del archivo.\n",
    "    for line in f.readlines():\n",
    "        # Utilizar \"ast.literal_eval\" para convertir cada línea en un diccionario de Python\n",
    "        # y agregarlo a la lista \"rows\".\n",
    "        rows.append(ast.literal_eval(line))\n",
    "\n",
    "#Crear un DataFrame de Pandas a partir de la lista de diccionarios \"rows\".\n",
    "df_user_reviews = pd.DataFrame(rows)\n",
    "#Veamos unos registros al asar\n",
    "df_user_reviews.sample(2)"
   ]
  },
  {
   "cell_type": "code",
   "execution_count": null,
   "metadata": {},
   "outputs": [
    {
     "name": "stdout",
     "output_type": "stream",
     "text": [
      "\n",
      "========================================\n",
      " Resumen del Dataframe \n",
      "========================================\n",
      "Dimensiones:  (25799, 3)\n",
      "    columna  %_no_nulos  %_nulos  total_nulos tipo_dato\n",
      "0   user_id       100.0      0.0            0    object\n",
      "1  user_url       100.0      0.0            0    object\n",
      "2   reviews       100.0      0.0            0    object\n"
     ]
    }
   ],
   "source": []
  },
  {
   "cell_type": "markdown",
   "metadata": {},
   "source": []
  },
  {
   "cell_type": "markdown",
   "metadata": {},
   "source": []
  },
  {
   "cell_type": "code",
   "execution_count": null,
   "metadata": {},
   "outputs": [
    {
     "data": {
      "text/html": [
       "<div>\n",
       "<style scoped>\n",
       "    .dataframe tbody tr th:only-of-type {\n",
       "        vertical-align: middle;\n",
       "    }\n",
       "\n",
       "    .dataframe tbody tr th {\n",
       "        vertical-align: top;\n",
       "    }\n",
       "\n",
       "    .dataframe thead th {\n",
       "        text-align: right;\n",
       "    }\n",
       "</style>\n",
       "<table border=\"1\" class=\"dataframe\">\n",
       "  <thead>\n",
       "    <tr style=\"text-align: right;\">\n",
       "      <th></th>\n",
       "      <th>user_id</th>\n",
       "      <th>user_url</th>\n",
       "      <th>reviews</th>\n",
       "    </tr>\n",
       "  </thead>\n",
       "  <tbody>\n",
       "    <tr>\n",
       "      <th>12888</th>\n",
       "      <td>05041129</td>\n",
       "      <td>http://steamcommunity.com/id/05041129</td>\n",
       "      <td>[{'funny': '', 'posted': 'Posted May 18, 2015....</td>\n",
       "    </tr>\n",
       "    <tr>\n",
       "      <th>5250</th>\n",
       "      <td>05041129</td>\n",
       "      <td>http://steamcommunity.com/id/05041129</td>\n",
       "      <td>[{'funny': '', 'posted': 'Posted May 18, 2015....</td>\n",
       "    </tr>\n",
       "    <tr>\n",
       "      <th>3133</th>\n",
       "      <td>111222333444555666888</td>\n",
       "      <td>http://steamcommunity.com/id/11122233344455566...</td>\n",
       "      <td>[{'funny': '', 'posted': 'Posted December 22, ...</td>\n",
       "    </tr>\n",
       "    <tr>\n",
       "      <th>3134</th>\n",
       "      <td>111222333444555666888</td>\n",
       "      <td>http://steamcommunity.com/id/11122233344455566...</td>\n",
       "      <td>[{'funny': '', 'posted': 'Posted December 22, ...</td>\n",
       "    </tr>\n",
       "    <tr>\n",
       "      <th>4139</th>\n",
       "      <td>29123</td>\n",
       "      <td>http://steamcommunity.com/id/29123</td>\n",
       "      <td>[{'funny': '', 'posted': 'Posted March 26.', '...</td>\n",
       "    </tr>\n",
       "    <tr>\n",
       "      <th>...</th>\n",
       "      <td>...</td>\n",
       "      <td>...</td>\n",
       "      <td>...</td>\n",
       "    </tr>\n",
       "    <tr>\n",
       "      <th>2721</th>\n",
       "      <td>xXAussieRockXx</td>\n",
       "      <td>http://steamcommunity.com/id/xXAussieRockXx</td>\n",
       "      <td>[{'funny': '', 'posted': 'Posted July 17, 2015...</td>\n",
       "    </tr>\n",
       "    <tr>\n",
       "      <th>2680</th>\n",
       "      <td>yolofaceguy</td>\n",
       "      <td>http://steamcommunity.com/id/yolofaceguy</td>\n",
       "      <td>[{'funny': '', 'posted': 'Posted October 31, 2...</td>\n",
       "    </tr>\n",
       "    <tr>\n",
       "      <th>17916</th>\n",
       "      <td>yolofaceguy</td>\n",
       "      <td>http://steamcommunity.com/id/yolofaceguy</td>\n",
       "      <td>[{'funny': '', 'posted': 'Posted October 31, 2...</td>\n",
       "    </tr>\n",
       "    <tr>\n",
       "      <th>5855</th>\n",
       "      <td>zeroblade</td>\n",
       "      <td>http://steamcommunity.com/id/zeroblade</td>\n",
       "      <td>[{'funny': '', 'posted': 'Posted November 30, ...</td>\n",
       "    </tr>\n",
       "    <tr>\n",
       "      <th>13975</th>\n",
       "      <td>zeroblade</td>\n",
       "      <td>http://steamcommunity.com/id/zeroblade</td>\n",
       "      <td>[{'funny': '', 'posted': 'Posted November 30, ...</td>\n",
       "    </tr>\n",
       "  </tbody>\n",
       "</table>\n",
       "<p>623 rows × 3 columns</p>\n",
       "</div>"
      ],
      "text/plain": [
       "                     user_id  \\\n",
       "12888               05041129   \n",
       "5250                05041129   \n",
       "3133   111222333444555666888   \n",
       "3134   111222333444555666888   \n",
       "4139                   29123   \n",
       "...                      ...   \n",
       "2721          xXAussieRockXx   \n",
       "2680             yolofaceguy   \n",
       "17916            yolofaceguy   \n",
       "5855               zeroblade   \n",
       "13975              zeroblade   \n",
       "\n",
       "                                                user_url  \\\n",
       "12888              http://steamcommunity.com/id/05041129   \n",
       "5250               http://steamcommunity.com/id/05041129   \n",
       "3133   http://steamcommunity.com/id/11122233344455566...   \n",
       "3134   http://steamcommunity.com/id/11122233344455566...   \n",
       "4139                  http://steamcommunity.com/id/29123   \n",
       "...                                                  ...   \n",
       "2721         http://steamcommunity.com/id/xXAussieRockXx   \n",
       "2680            http://steamcommunity.com/id/yolofaceguy   \n",
       "17916           http://steamcommunity.com/id/yolofaceguy   \n",
       "5855              http://steamcommunity.com/id/zeroblade   \n",
       "13975             http://steamcommunity.com/id/zeroblade   \n",
       "\n",
       "                                                 reviews  \n",
       "12888  [{'funny': '', 'posted': 'Posted May 18, 2015....  \n",
       "5250   [{'funny': '', 'posted': 'Posted May 18, 2015....  \n",
       "3133   [{'funny': '', 'posted': 'Posted December 22, ...  \n",
       "3134   [{'funny': '', 'posted': 'Posted December 22, ...  \n",
       "4139   [{'funny': '', 'posted': 'Posted March 26.', '...  \n",
       "...                                                  ...  \n",
       "2721   [{'funny': '', 'posted': 'Posted July 17, 2015...  \n",
       "2680   [{'funny': '', 'posted': 'Posted October 31, 2...  \n",
       "17916  [{'funny': '', 'posted': 'Posted October 31, 2...  \n",
       "5855   [{'funny': '', 'posted': 'Posted November 30, ...  \n",
       "13975  [{'funny': '', 'posted': 'Posted November 30, ...  \n",
       "\n",
       "[623 rows x 3 columns]"
      ]
     },
     "execution_count": 29,
     "metadata": {},
     "output_type": "execute_result"
    }
   ],
   "source": []
  },
  {
   "cell_type": "markdown",
   "metadata": {},
   "source": []
  },
  {
   "cell_type": "code",
   "execution_count": null,
   "metadata": {},
   "outputs": [
    {
     "name": "stdout",
     "output_type": "stream",
     "text": [
      "from the creaters of the walking dead, i present to you, the wolf among us. a twisted an unhappy place where crimes are made in the town of the fables. Ecperience one of the most mind-bending, jaw-dropping twists you will see in all of gaming history...well, some of gaming history. SPOILERS: i really liked how bigby turns into his true form to fight all the bloody marys... its just like when neo fought all the agent smiths in the matrix. what i didnt really like is when i chose to lock the crooked man up it glitches my game and i start from the near begining where bigby fought the crooked man's crew, exept the guy who runs a strip club wasnt there. so i was really confused. but anyway i really recommend this game if you want twists and ♥♥♥♥ed up scenes.\n",
      "this game is awesome,this game is ♥♥♥♥ed up and this game is so sad and depressing. if you want these types of games i would strongly reccomend youto buy it. its worth your money\n",
      "----------------------------------------\n",
      "from the creaters of the walking dead, i present to you, the wolf among us. a twisted an unhappy place where crimes are made in the town of the fables. Ecperience one of the most mind-bending, jaw-dropping twists you will see in all of gaming history...well, some of gaming history. SPOILERS: i really liked how bigby turns into his true form to fight all the bloody marys... its just like when neo fought all the agent smiths in the matrix. what i didnt really like is when i chose to lock the crooked man up it glitches my game and i start from the near begining where bigby fought the crooked man's crew, exept the guy who runs a strip club wasnt there. so i was really confused. but anyway i really recommend this game if you want twists and ♥♥♥♥ed up scenes.\n",
      "this game is awesome,this game is ♥♥♥♥ed up and this game is so sad and depressing. if you want these types of games i would strongly reccomend youto buy it. its worth your money\n",
      "----------------------------------------\n"
     ]
    }
   ],
   "source": []
  },
  {
   "cell_type": "markdown",
   "metadata": {},
   "source": []
  },
  {
   "cell_type": "code",
   "execution_count": null,
   "metadata": {},
   "outputs": [],
   "source": []
  },
  {
   "cell_type": "markdown",
   "metadata": {},
   "source": []
  },
  {
   "cell_type": "code",
   "execution_count": null,
   "metadata": {},
   "outputs": [
    {
     "data": {
      "text/html": [
       "<div>\n",
       "<style scoped>\n",
       "    .dataframe tbody tr th:only-of-type {\n",
       "        vertical-align: middle;\n",
       "    }\n",
       "\n",
       "    .dataframe tbody tr th {\n",
       "        vertical-align: top;\n",
       "    }\n",
       "\n",
       "    .dataframe thead th {\n",
       "        text-align: right;\n",
       "    }\n",
       "</style>\n",
       "<table border=\"1\" class=\"dataframe\">\n",
       "  <thead>\n",
       "    <tr style=\"text-align: right;\">\n",
       "      <th></th>\n",
       "      <th>user_id</th>\n",
       "      <th>user_url</th>\n",
       "      <th>reviews_funny</th>\n",
       "      <th>reviews_posted</th>\n",
       "      <th>reviews_last_edited</th>\n",
       "      <th>reviews_item_id</th>\n",
       "      <th>reviews_helpful</th>\n",
       "      <th>reviews_recommend</th>\n",
       "      <th>reviews_review</th>\n",
       "    </tr>\n",
       "  </thead>\n",
       "  <tbody>\n",
       "    <tr>\n",
       "      <th>0</th>\n",
       "      <td>76561197970982479</td>\n",
       "      <td>http://steamcommunity.com/profiles/76561197970...</td>\n",
       "      <td></td>\n",
       "      <td>Posted November 5, 2011.</td>\n",
       "      <td></td>\n",
       "      <td>1250</td>\n",
       "      <td>No ratings yet</td>\n",
       "      <td>True</td>\n",
       "      <td>Simple yet with great replayability. In my opi...</td>\n",
       "    </tr>\n",
       "    <tr>\n",
       "      <th>1</th>\n",
       "      <td>js41637</td>\n",
       "      <td>http://steamcommunity.com/id/js41637</td>\n",
       "      <td></td>\n",
       "      <td>Posted June 24, 2014.</td>\n",
       "      <td></td>\n",
       "      <td>251610</td>\n",
       "      <td>15 of 20 people (75%) found this review helpful</td>\n",
       "      <td>True</td>\n",
       "      <td>I know what you think when you see this title ...</td>\n",
       "    </tr>\n",
       "    <tr>\n",
       "      <th>2</th>\n",
       "      <td>evcentric</td>\n",
       "      <td>http://steamcommunity.com/id/evcentric</td>\n",
       "      <td></td>\n",
       "      <td>Posted February 3.</td>\n",
       "      <td></td>\n",
       "      <td>248820</td>\n",
       "      <td>No ratings yet</td>\n",
       "      <td>True</td>\n",
       "      <td>A suitably punishing roguelike platformer.  Wi...</td>\n",
       "    </tr>\n",
       "    <tr>\n",
       "      <th>3</th>\n",
       "      <td>doctr</td>\n",
       "      <td>http://steamcommunity.com/id/doctr</td>\n",
       "      <td></td>\n",
       "      <td>Posted October 14, 2013.</td>\n",
       "      <td></td>\n",
       "      <td>250320</td>\n",
       "      <td>2 of 2 people (100%) found this review helpful</td>\n",
       "      <td>True</td>\n",
       "      <td>This game... is so fun. The fight sequences ha...</td>\n",
       "    </tr>\n",
       "    <tr>\n",
       "      <th>4</th>\n",
       "      <td>maplemage</td>\n",
       "      <td>http://steamcommunity.com/id/maplemage</td>\n",
       "      <td>3 people found this review funny</td>\n",
       "      <td>Posted April 15, 2014.</td>\n",
       "      <td></td>\n",
       "      <td>211420</td>\n",
       "      <td>35 of 43 people (81%) found this review helpful</td>\n",
       "      <td>True</td>\n",
       "      <td>Git gud</td>\n",
       "    </tr>\n",
       "  </tbody>\n",
       "</table>\n",
       "</div>"
      ],
      "text/plain": [
       "             user_id                                           user_url  \\\n",
       "0  76561197970982479  http://steamcommunity.com/profiles/76561197970...   \n",
       "1            js41637               http://steamcommunity.com/id/js41637   \n",
       "2          evcentric             http://steamcommunity.com/id/evcentric   \n",
       "3              doctr                 http://steamcommunity.com/id/doctr   \n",
       "4          maplemage             http://steamcommunity.com/id/maplemage   \n",
       "\n",
       "                      reviews_funny            reviews_posted  \\\n",
       "0                                    Posted November 5, 2011.   \n",
       "1                                       Posted June 24, 2014.   \n",
       "2                                          Posted February 3.   \n",
       "3                                    Posted October 14, 2013.   \n",
       "4  3 people found this review funny    Posted April 15, 2014.   \n",
       "\n",
       "  reviews_last_edited reviews_item_id  \\\n",
       "0                                1250   \n",
       "1                              251610   \n",
       "2                              248820   \n",
       "3                              250320   \n",
       "4                              211420   \n",
       "\n",
       "                                   reviews_helpful  reviews_recommend  \\\n",
       "0                                   No ratings yet               True   \n",
       "1  15 of 20 people (75%) found this review helpful               True   \n",
       "2                                   No ratings yet               True   \n",
       "3   2 of 2 people (100%) found this review helpful               True   \n",
       "4  35 of 43 people (81%) found this review helpful               True   \n",
       "\n",
       "                                      reviews_review  \n",
       "0  Simple yet with great replayability. In my opi...  \n",
       "1  I know what you think when you see this title ...  \n",
       "2  A suitably punishing roguelike platformer.  Wi...  \n",
       "3  This game... is so fun. The fight sequences ha...  \n",
       "4                                            Git gud  "
      ]
     },
     "execution_count": 32,
     "metadata": {},
     "output_type": "execute_result"
    }
   ],
   "source": []
  },
  {
   "cell_type": "markdown",
   "metadata": {},
   "source": []
  },
  {
   "cell_type": "markdown",
   "metadata": {},
   "source": []
  },
  {
   "cell_type": "markdown",
   "metadata": {},
   "source": []
  },
  {
   "cell_type": "code",
   "execution_count": null,
   "metadata": {},
   "outputs": [
    {
     "data": {
      "text/plain": [
       "''"
      ]
     },
     "execution_count": 33,
     "metadata": {},
     "output_type": "execute_result"
    }
   ],
   "source": []
  },
  {
   "cell_type": "markdown",
   "metadata": {},
   "source": []
  },
  {
   "cell_type": "code",
   "execution_count": null,
   "metadata": {},
   "outputs": [
    {
     "name": "stdout",
     "output_type": "stream",
     "text": [
      "\n",
      "========================================\n",
      " Resumen del Dataframe \n",
      "========================================\n",
      "Dimensiones:  (57397, 9)\n",
      "               columna  %_no_nulos  %_nulos  total_nulos tipo_dato\n",
      "0              user_id      100.00     0.00            0    object\n",
      "1             user_url      100.00     0.00            0    object\n",
      "2        reviews_funny       13.76    86.24        49498    object\n",
      "3       reviews_posted      100.00     0.00            0    object\n",
      "4  reviews_last_edited       10.28    89.72        51499    object\n",
      "5      reviews_item_id      100.00     0.00            0    object\n",
      "6      reviews_helpful      100.00     0.00            0    object\n",
      "7    reviews_recommend      100.00     0.00            0      bool\n",
      "8       reviews_review       99.95     0.05           30    object\n",
      " \n",
      "Vemos que todavia hay faltantes:\n",
      "     reviews_funny:                   %86.24\n",
      "     reviews_last_edited              %89.72\n",
      "Procedemos a eliminarlos:\n"
     ]
    }
   ],
   "source": []
  },
  {
   "cell_type": "markdown",
   "metadata": {},
   "source": []
  },
  {
   "cell_type": "code",
   "execution_count": null,
   "metadata": {},
   "outputs": [
    {
     "name": "stdout",
     "output_type": "stream",
     "text": [
      "Observamos las columnas que nos quedaron: \n",
      " \n",
      "\n",
      "========================================\n",
      " Resumen del Dataframe \n",
      "========================================\n",
      "Dimensiones:  (57397, 7)\n",
      "             columna  %_no_nulos  %_nulos  total_nulos tipo_dato\n",
      "0            user_id      100.00     0.00            0    object\n",
      "1           user_url      100.00     0.00            0    object\n",
      "2     reviews_posted      100.00     0.00            0    object\n",
      "3    reviews_item_id      100.00     0.00            0    object\n",
      "4    reviews_helpful      100.00     0.00            0    object\n",
      "5  reviews_recommend      100.00     0.00            0      bool\n",
      "6     reviews_review       99.95     0.05           30    object\n"
     ]
    }
   ],
   "source": []
  },
  {
   "cell_type": "markdown",
   "metadata": {},
   "source": []
  },
  {
   "cell_type": "code",
   "execution_count": null,
   "metadata": {},
   "outputs": [
    {
     "name": "stdout",
     "output_type": "stream",
     "text": [
      "\n",
      "========================================\n",
      " Resumen del Dataframe \n",
      "========================================\n",
      "Dimensiones:  (47626, 7)\n",
      "             columna  %_no_nulos  %_nulos  total_nulos tipo_dato\n",
      "0            user_id      100.00     0.00            0    object\n",
      "1           user_url      100.00     0.00            0    object\n",
      "2     reviews_posted      100.00     0.00            0     int32\n",
      "3    reviews_item_id      100.00     0.00            0    object\n",
      "4    reviews_helpful      100.00     0.00            0    object\n",
      "5  reviews_recommend      100.00     0.00            0      bool\n",
      "6     reviews_review       99.94     0.06           27    object\n"
     ]
    }
   ],
   "source": []
  },
  {
   "cell_type": "markdown",
   "metadata": {},
   "source": []
  },
  {
   "cell_type": "code",
   "execution_count": null,
   "metadata": {},
   "outputs": [
    {
     "name": "stdout",
     "output_type": "stream",
     "text": [
      "\n",
      "========================================\n",
      " Resumen del Dataframe \n",
      "========================================\n",
      "Dimensiones:  (47626, 7)\n",
      "             columna  %_no_nulos  %_nulos  total_nulos tipo_dato\n",
      "0            user_id      100.00     0.00            0    object\n",
      "1           user_url      100.00     0.00            0    object\n",
      "2     reviews_posted      100.00     0.00            0     int32\n",
      "3    reviews_item_id      100.00     0.00            0    object\n",
      "4    reviews_helpful      100.00     0.00            0    object\n",
      "5  reviews_recommend      100.00     0.00            0      bool\n",
      "6     reviews_review       99.94     0.06           27    object\n"
     ]
    }
   ],
   "source": []
  },
  {
   "cell_type": "markdown",
   "metadata": {},
   "source": [
    "### 📤 **LOAD**"
   ]
  },
  {
   "cell_type": "markdown",
   "metadata": {},
   "source": [
    "Eliminamos el archivo descomprimidos que ahora tenemos limpio y liviano en formato parquet"
   ]
  },
  {
   "cell_type": "code",
   "execution_count": null,
   "metadata": {},
   "outputs": [
    {
     "name": "stdout",
     "output_type": "stream",
     "text": [
      "Archivo eliminado: ./0 Dataset/steam_games.json\n",
      "Archivo eliminado: ./0 Dataset/user_reviews.json\n",
      "Archivo eliminado: ./0 Dataset/users_items.json\n"
     ]
    }
   ],
   "source": [
    "# Lista de archivos descomprimidos\n",
    "gz_descomprimidos = [\n",
    "    './0 Dataset/users_items.json'\n",
    "]\n",
    "\n",
    "# Eliminar archivos descomprimidos\n",
    "for archivo_json in gz_descomprimidos:\n",
    "    try:\n",
    "        os.remove(archivo_json)\n",
    "        print(f'Archivo eliminado: {archivo_json}')\n",
    "    except FileNotFoundError:\n",
    "        print(f'Archivo no encontrado: {archivo_json}')"
   ]
  },
  {
   "cell_type": "markdown",
   "metadata": {},
   "source": [
    "Observamos el tiempo de ejecucion total de nuestro proceso ETL 🔥"
   ]
  },
  {
   "cell_type": "code",
   "execution_count": null,
   "metadata": {},
   "outputs": [
    {
     "name": "stdout",
     "output_type": "stream",
     "text": [
      "Tiempo total de ejecución de este ipynb: 3.79 minutos\n"
     ]
    }
   ],
   "source": [
    "# Obtener el tiempo de finalización\n",
    "end_time = time.time()\n",
    "# Calcular el tiempo total de ejecución\n",
    "total_time = end_time - start_time\n",
    "# Convertir a minutos y redondear a 2 decimales\n",
    "total_time_minutes = round(total_time / 60, 2)\n",
    "# Imprimir resultados\n",
    "print(f\"Tiempo total de ejecución de este ipynb: {total_time_minutes} minutos\")"
   ]
  }
 ],
 "metadata": {
  "kernelspec": {
   "display_name": "Python 3",
   "language": "python",
   "name": "python3"
  },
  "language_info": {
   "codemirror_mode": {
    "name": "ipython",
    "version": 3
   },
   "file_extension": ".py",
   "mimetype": "text/x-python",
   "name": "python",
   "nbconvert_exporter": "python",
   "pygments_lexer": "ipython3",
   "version": "3.10.11"
  }
 },
 "nbformat": 4,
 "nbformat_minor": 2
}
