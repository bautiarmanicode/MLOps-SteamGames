{
 "cells": [
  {
   "cell_type": "markdown",
   "metadata": {},
   "source": [
    "## 🛠️ **ETL (Extract, Transform, Load)**\n",
    "### **📂Procesamiento del 1er archivo: `steam_games.json.gz`**\n"
   ]
  },
  {
   "cell_type": "markdown",
   "metadata": {},
   "source": [
    "📂 **steam_games.json**:\n",
    "\n",
    "- 🗑️ Eliminamos columnas que no vamos a usar: publisher, title, url, early_access, reviews_url, specs.\n",
    "\n",
    "🔄 `ID:`\n",
    "\n",
    "- ~~Cambiamos su tipo de dato a str str o in=?~~\n",
    "- Eliminamos nulos y repetidos\n",
    "\n",
    "`release_date`:\n",
    "\n",
    "- Extraigo el año de la fecha en la columna 'release_date'.\n",
    "- Reemplazamos los datos sin fecha por -1.\n",
    "- Cambiamos tipo de dato a int.\n",
    "\n",
    "`price`:\n",
    "\n",
    "- Asignmos valores correspondientes a precios con textos adicional.\n",
    "- Rellenamos missing values buscando en tags si el juego es gratis.\n",
    "- Rellena los valores nulos resultantes con -1.\n",
    "- Convierte la columna 'price' a tipo float.\n",
    "\n",
    "`genres:`\n",
    "\n",
    "- Rellenamos la informacion faltante de genres, con los genres disponibles en la columna tags.\n",
    "- \n",
    "- .\n",
    "\n",
    "🔄 `app_name` en string\n",
    "\n",
    "🔄 `tags` en string\n",
    "\n",
    "🗃️ `Genres `: Rellenamos la informacion faltante de genres en cada juego, con los genres disponibles en la columna tag"
   ]
  },
  {
   "cell_type": "markdown",
   "metadata": {},
   "source": [
    "#### 📦 **EXTRACT**"
   ]
  },
  {
   "cell_type": "markdown",
   "metadata": {},
   "source": [
    "####  **Importamos las librerías que vamos a usar**\n"
   ]
  },
  {
   "cell_type": "code",
   "execution_count": 12,
   "metadata": {},
   "outputs": [
    {
     "name": "stdout",
     "output_type": "stream",
     "text": [
      "The autoreload extension is already loaded. To reload it, use:\n",
      "  %reload_ext autoreload\n"
     ]
    }
   ],
   "source": [
    "import pandas as pd  # Pandas se utiliza para el manejo y análisis de datos tabulares\n",
    "import pyarrow as pa  # PyArrow se utiliza para trabajar con formatos de datos columnares y eficientes como Parquet\n",
    "import pyarrow.parquet as pq  # Importamos Parquet\n",
    "\n",
    "import inspect\n",
    "\n",
    "import ast  # AST (Abstract Syntax Trees) se utiliza para interpretar expresiones Python\n",
    "import gzip\n",
    "import json  # JSON se utiliza para trabajar con datos en formato JSON\n",
    "import os  # OS proporciona funciones para interactuar con el sistema operativo\n",
    "import time\n",
    "import warnings  # Warnings se utiliza para gestionar advertencias y filtrarlas si es necesario\n",
    "warnings.filterwarnings(\"ignore\")\n",
    "from data_utils import data_type_check, duplicados_columna\n",
    "# Autoreload se utiliza para recargar automáticamente los módulos al realizar cambios\n",
    "%load_ext autoreload\n",
    "%autoreload 2"
   ]
  },
  {
   "cell_type": "markdown",
   "metadata": {},
   "source": [
    "#### **Descomprimimos el archivos gz** "
   ]
  },
  {
   "cell_type": "code",
   "execution_count": 7,
   "metadata": {},
   "outputs": [
    {
     "name": "stdout",
     "output_type": "stream",
     "text": [
      "Archivo descomprimido: ../0 Dataset/steam_games.json\n"
     ]
    }
   ],
   "source": [
    "# Obtenemos el tiempo de inicio de todo este ipynb \n",
    "start_time = time.time()\n",
    "\n",
    "def descomprimir_archivos_gz(archivos_gz, carpeta_destino):\n",
    "    for archivo_gz in archivos_gz:\n",
    "        with gzip.open(archivo_gz, 'rb') as f_in:\n",
    "            contenido = f_in.read()\n",
    "            archivo_destino = os.path.join(carpeta_destino, os.path.splitext(os.path.basename(archivo_gz))[0])\n",
    "            with open(archivo_destino, 'wb') as f_out:\n",
    "                f_out.write(contenido)\n",
    "        print(f'Archivo descomprimido: {archivo_destino}')\n",
    "\n",
    "# Ejemplo de uso con una lista de archivos gz\n",
    "archivo_gz_a_descomprimir = ['../0 Dataset/steam_games.json.gz']\n",
    "carpeta_destino = '../0 Dataset/'\n",
    "\n",
    "descomprimir_archivos_gz(archivo_gz_a_descomprimir, carpeta_destino)\n"
   ]
  },
  {
   "cell_type": "markdown",
   "metadata": {},
   "source": [
    "## **📂Procesamiento del 1er archivo: `steam_games.json.gz`**"
   ]
  },
  {
   "cell_type": "markdown",
   "metadata": {},
   "source": [
    "\n",
    "- Tomamos los datos del archivo JSON, los transformamos en un DataFrame y realizamos una primera observación de su contenido."
   ]
  },
  {
   "cell_type": "code",
   "execution_count": 8,
   "metadata": {},
   "outputs": [
    {
     "data": {
      "text/html": [
       "<div>\n",
       "<style scoped>\n",
       "    .dataframe tbody tr th:only-of-type {\n",
       "        vertical-align: middle;\n",
       "    }\n",
       "\n",
       "    .dataframe tbody tr th {\n",
       "        vertical-align: top;\n",
       "    }\n",
       "\n",
       "    .dataframe thead th {\n",
       "        text-align: right;\n",
       "    }\n",
       "</style>\n",
       "<table border=\"1\" class=\"dataframe\">\n",
       "  <thead>\n",
       "    <tr style=\"text-align: right;\">\n",
       "      <th></th>\n",
       "      <th>publisher</th>\n",
       "      <th>genres</th>\n",
       "      <th>app_name</th>\n",
       "      <th>title</th>\n",
       "      <th>url</th>\n",
       "      <th>release_date</th>\n",
       "      <th>tags</th>\n",
       "      <th>reviews_url</th>\n",
       "      <th>specs</th>\n",
       "      <th>price</th>\n",
       "      <th>early_access</th>\n",
       "      <th>id</th>\n",
       "      <th>developer</th>\n",
       "    </tr>\n",
       "  </thead>\n",
       "  <tbody>\n",
       "    <tr>\n",
       "      <th>96769</th>\n",
       "      <td>NaN</td>\n",
       "      <td>NaN</td>\n",
       "      <td>Comic Book: The Movie</td>\n",
       "      <td>Comic Book: The Movie</td>\n",
       "      <td>http://store.steampowered.com/app/540490/Comic...</td>\n",
       "      <td>2011-11-01</td>\n",
       "      <td>[Movie, Comedy]</td>\n",
       "      <td>http://steamcommunity.com/app/540490/reviews/?...</td>\n",
       "      <td>[Captions available]</td>\n",
       "      <td>2.99</td>\n",
       "      <td>False</td>\n",
       "      <td>540490</td>\n",
       "      <td>NaN</td>\n",
       "    </tr>\n",
       "    <tr>\n",
       "      <th>11154</th>\n",
       "      <td>NaN</td>\n",
       "      <td>NaN</td>\n",
       "      <td>NaN</td>\n",
       "      <td>NaN</td>\n",
       "      <td>NaN</td>\n",
       "      <td>NaN</td>\n",
       "      <td>NaN</td>\n",
       "      <td>NaN</td>\n",
       "      <td>NaN</td>\n",
       "      <td>NaN</td>\n",
       "      <td>NaN</td>\n",
       "      <td>NaN</td>\n",
       "      <td>NaN</td>\n",
       "    </tr>\n",
       "  </tbody>\n",
       "</table>\n",
       "</div>"
      ],
      "text/plain": [
       "      publisher genres               app_name                  title  \\\n",
       "96769       NaN    NaN  Comic Book: The Movie  Comic Book: The Movie   \n",
       "11154       NaN    NaN                    NaN                    NaN   \n",
       "\n",
       "                                                     url release_date  \\\n",
       "96769  http://store.steampowered.com/app/540490/Comic...   2011-11-01   \n",
       "11154                                                NaN          NaN   \n",
       "\n",
       "                  tags                                        reviews_url  \\\n",
       "96769  [Movie, Comedy]  http://steamcommunity.com/app/540490/reviews/?...   \n",
       "11154              NaN                                                NaN   \n",
       "\n",
       "                      specs price early_access      id developer  \n",
       "96769  [Captions available]  2.99        False  540490       NaN  \n",
       "11154                   NaN   NaN          NaN     NaN       NaN  "
      ]
     },
     "execution_count": 8,
     "metadata": {},
     "output_type": "execute_result"
    }
   ],
   "source": [
    "#Creamos una lista vacía llamada \"rows\" donde almacenaremos los datos del archivo JSON.\n",
    "\n",
    "row = []\n",
    "with open(\"../0 Dataset/steam_games.json\", \"r\", encoding=\"utf-8\") as archivo:\n",
    "    for linea in archivo:\n",
    "        try:\n",
    "            objeto_json = json.loads(linea)\n",
    "            row.append(objeto_json)\n",
    "        except json.JSONDecodeError:\n",
    "            print(f\"Error de formato JSON en la línea: {linea}\")\n",
    "\n",
    "#Convertir la lista de objetos JSON en un DataFrame\n",
    "df_steam_games = pd.DataFrame(row)\n",
    "#Hacemos una copia del dataset sucio para explorarlo en el EDA\n",
    "df_steam_games_sucio = pd.DataFrame(row)\n",
    "# Veamos unos registros al azar\n",
    "df_steam_games.sample(2)\n"
   ]
  },
  {
   "cell_type": "markdown",
   "metadata": {},
   "source": [
    "Usando la funcion personalizada `data_type_check` invocada desde `data_utils.py` vemos las variables categóricas, numéricas, dimensiones del dataframe, nulos, tipos de datos e informacion acerca de los datos faltantes o nulos de cada columna    \n"
   ]
  },
  {
   "cell_type": "code",
   "execution_count": 15,
   "metadata": {},
   "outputs": [
    {
     "name": "stdout",
     "output_type": "stream",
     "text": [
      "\n",
      "========================================\n",
      " Resumen del dataframe 'df_steam_games': \n",
      "\n",
      "========================================\n",
      "Dimensiones:  (120445, 13)\n",
      "         columna  %_no_nulos  %_nulos  total_nulos tipo_dato\n",
      "0      publisher       20.00    80.00        96362    object\n",
      "1         genres       23.95    76.05        91593    object\n",
      "2       app_name       26.68    73.32        88312    object\n",
      "3          title       24.98    75.02        90360    object\n",
      "4            url       26.68    73.32        88310    object\n",
      "5   release_date       24.96    75.04        90377    object\n",
      "6           tags       26.54    73.46        88473    object\n",
      "7    reviews_url       26.68    73.32        88312    object\n",
      "8          specs       26.12    73.88        88980    object\n",
      "9          price       25.54    74.46        89687    object\n",
      "10  early_access       26.68    73.32        88310    object\n",
      "11            id       26.68    73.32        88312    object\n",
      "12     developer       23.94    76.06        91609    object\n"
     ]
    }
   ],
   "source": [
    "data_type_check(df_steam_games)"
   ]
  },
  {
   "cell_type": "markdown",
   "metadata": {},
   "source": [
    "Observamos que los tipos de datos no son los que necesitamos, vamos a transformar estos datos en los formatos correctos para su posterior uso."
   ]
  },
  {
   "cell_type": "markdown",
   "metadata": {},
   "source": [
    "#### 🔁 **TRANSFORM**\n",
    "  * ✅ Columnas irrelevantes (que no nos sirven para el problema que queremos resolver)\n",
    "   developer, id. \n",
    "  * ✅ Datos faltantes o nulos: **.dropna**\n",
    "  * ✅ Registros o filas repetidas: **drop_duplicates**\n",
    "  * ✅ Variables categoricas: Errores tipográficos"
   ]
  },
  {
   "cell_type": "code",
   "execution_count": 16,
   "metadata": {},
   "outputs": [
    {
     "name": "stdout",
     "output_type": "stream",
     "text": [
      "Dimensiones previas a limpieza:\n",
      "(120445, 13)\n",
      "Dimensiones post limpieza:\n",
      "(120445, 7)\n",
      "\n",
      "========================================\n",
      " Resumen del dataframe 'df_steam_games': \n",
      "\n",
      "========================================\n",
      "Dimensiones:  (120445, 7)\n",
      "        columna  %_no_nulos  %_nulos  total_nulos       tipo_dato\n",
      "0        genres       23.95    76.05        91593          object\n",
      "1      app_name       26.68    73.32        88312  string[python]\n",
      "2  release_date       24.96    75.04        90377          object\n",
      "3          tags       26.54    73.46        88473  string[python]\n",
      "4         price       25.54    74.46        89687          object\n",
      "5            id       26.68    73.32        88312  string[python]\n",
      "6     developer       23.94    76.06        91609  string[python]\n"
     ]
    }
   ],
   "source": [
    "'''\n",
    "Eliminamos columnas irrelevantes para el problema que queremos resolver\n",
    "'''\n",
    "print(\"Dimensiones previas a limpieza:\")\n",
    "print(df_steam_games.shape)\n",
    "# Eliminamos columnas que no vamos a usar\n",
    "df_steam_games.drop(columns=[\"publisher\",\"title\",\"url\",\"early_access\",\"reviews_url\",\"specs\"], inplace=True)\n",
    "\n",
    "'''\n",
    "Transformacion app_name, tags, developer a string.\n",
    "'''\n",
    "#Transformamos en lote las columnas que no necesitan tratamiento especial\n",
    "df_steam_games = df_steam_games.astype({\n",
    "    'app_name': 'string',\n",
    "    'tags': 'string', \n",
    "    'developer': 'string',\n",
    "    'id': 'string'\n",
    "})\n",
    "\n",
    "\n",
    "'''\n",
    "# Revisamos cómo queda nuestro dataframe después del drop\n",
    "'''\n",
    "print(\"Dimensiones post limpieza:\")\n",
    "print(df_steam_games.shape)\n",
    "\n",
    "data_type_check(df_steam_games)\n"
   ]
  },
  {
   "cell_type": "markdown",
   "metadata": {},
   "source": [
    "#### **ID**\n",
    "Eliminamos repetidos y nulos"
   ]
  },
  {
   "cell_type": "code",
   "execution_count": 17,
   "metadata": {},
   "outputs": [],
   "source": [
    "# Eliminar duplicados en la columna 'id'\n",
    "df_steam_games.drop_duplicates(subset='id', inplace=True)\n",
    "# Eliminar filas con valores nulos en la columna 'id'\n",
    "df_steam_games.dropna(subset=['id'], inplace=True)\n",
    "#Terminamos reseteando los indices\n",
    "df_steam_games.reset_index(drop=True, inplace=True)"
   ]
  },
  {
   "cell_type": "markdown",
   "metadata": {},
   "source": [
    "#### **Developer**"
   ]
  },
  {
   "cell_type": "code",
   "execution_count": 18,
   "metadata": {},
   "outputs": [],
   "source": [
    "df_steam_games['developer'].fillna('Dato Faltante', inplace=True)"
   ]
  },
  {
   "cell_type": "markdown",
   "metadata": {},
   "source": [
    "#### **release_date** \n",
    "- Cambiamos tipo de dato a int, \n",
    "- Se extrae el año de la fecha en la columna 'release_date' \n",
    "- Reemplazamos los datos sin fecha por -1"
   ]
  },
  {
   "cell_type": "code",
   "execution_count": 19,
   "metadata": {},
   "outputs": [
    {
     "name": "stdout",
     "output_type": "stream",
     "text": [
      "Así se ven las fechas antes de la conversión\n",
      "0    2018-01-04\n",
      "1    2018-01-04\n",
      "Name: release_date, dtype: object\n",
      "Así se ven las fechas después de la conversión (solo el año)\n",
      "0    2018\n",
      "1    2018\n",
      "Name: release_date, dtype: int32\n"
     ]
    }
   ],
   "source": [
    "print(\"Así se ven las fechas antes de la conversión\")\n",
    "print(df_steam_games['release_date'].head(2))  \n",
    "\n",
    "# Convertir release_date a datetime (opcional, si es necesario para análisis futuro)\n",
    "df_steam_games['release_date'] = pd.to_datetime(df_steam_games['release_date'], errors='coerce')\n",
    "\n",
    "# Extraer el año y sobrescribir la columna release_date con el año extraído\n",
    "df_steam_games['release_date'] = df_steam_games['release_date'].dt.year.fillna(-1).astype(int)  \n",
    "# Reemplazar NaN con -1 y convertir a entero\n",
    "\n",
    "# Imprimir resultado\n",
    "print(\"Así se ven las fechas después de la conversión (solo el año)\")\n",
    "print(df_steam_games['release_date'].head(2))\n"
   ]
  },
  {
   "cell_type": "markdown",
   "metadata": {},
   "source": [
    "#### **price**\n",
    "- Asignamos valores correspondientes a precios con textos adicional.\n",
    "- Convierte la columna 'price' a tipo float.\n",
    "- Rellena los valores nulos resultantes con -1."
   ]
  },
  {
   "cell_type": "code",
   "execution_count": 20,
   "metadata": {},
   "outputs": [
    {
     "name": "stdout",
     "output_type": "stream",
     "text": [
      "Los nulos en price son:\n"
     ]
    },
    {
     "data": {
      "text/plain": [
       "1377"
      ]
     },
     "execution_count": 20,
     "metadata": {},
     "output_type": "execute_result"
    }
   ],
   "source": [
    "print(\"Los nulos en price son:\") \n",
    "df_steam_games['price'].isnull().sum()"
   ]
  },
  {
   "cell_type": "markdown",
   "metadata": {},
   "source": [
    "Visualizamos los valores no numericos en precios a solucionar:"
   ]
  },
  {
   "cell_type": "code",
   "execution_count": 21,
   "metadata": {},
   "outputs": [
    {
     "name": "stdout",
     "output_type": "stream",
     "text": [
      "[4.99 'Free To Play' 'Free to Play' 0.99 2.99 3.99 9.99 18.99 29.99 nan\n",
      " 'Free' 10.99 1.59 14.99 1.99 59.99 8.99 6.99 7.99 39.99 19.99 7.49 12.99\n",
      " 5.99 2.49 15.99 1.25 24.99 17.99 61.99 3.49 11.99 13.99 'Free Demo'\n",
      " 'Play for Free!' 34.99 74.76 1.49 32.99 99.99 14.95 69.99 16.99 79.99\n",
      " 49.99 5.0 44.99 13.98 29.96 119.99 109.99 149.99 771.71 'Install Now'\n",
      " 21.99 89.99 'Play WARMACHINE: Tactics Demo' 0.98 139.92 4.29 64.99\n",
      " 'Free Mod' 54.99 74.99 'Install Theme' 0.89 'Third-party' 0.5 'Play Now'\n",
      " 299.99 1.29 3.0 15.0 5.49 23.99 49.0 20.99 10.93 1.39\n",
      " 'Free HITMAN™ Holiday Pack' 36.99 4.49 2.0 4.0 9.0 234.99 1.95 1.5 199.0\n",
      " 189.0 6.66 27.99 10.49 129.99 179.0 26.99 399.99 31.99 399.0 20.0 40.0\n",
      " 3.33 199.99 22.99 320.0 38.85 71.7 59.95 995.0 27.49 3.39 6.0 19.95\n",
      " 499.99 16.06 4.68 131.4 44.98 202.76 1.0 2.3 0.95 172.24 249.99 2.97\n",
      " 10.96 10.0 30.0 2.66 6.48 19.29 11.15 18.9 2.89 'Play the Demo' 99.0\n",
      " 87.94 599.0 8.98 9.69 0.49 9.98 9.95 7.0 'Starting at $499.00'\n",
      " 'Starting at $449.00' 12.89 6.49 1.87 42.99 41.99 289.99 'Free to Try'\n",
      " 23.96 5.65 12.0 13.37 189.96 124.99 'Free Movie' 19.98 160.91\n",
      " 'Free to Use']\n"
     ]
    }
   ],
   "source": [
    "unique_prices = df_steam_games['price'].unique()\n",
    "print(unique_prices)"
   ]
  },
  {
   "cell_type": "code",
   "execution_count": 22,
   "metadata": {},
   "outputs": [
    {
     "name": "stdout",
     "output_type": "stream",
     "text": [
      "0    4.99\n",
      "1     NaN\n",
      "2    0.00\n",
      "Name: price, dtype: float64\n"
     ]
    }
   ],
   "source": [
    "# Limpiar valores no numéricos\n",
    "non_numeric_values = ['Free', 'Free to Play', 'Free Demo', 'Play for Free!', 'Free Mod', 'Install Now', 'Play Now', 'Third-party', 'Play WARMACHINE: Tactics Demo', 'Install Theme', 'Starting at', 'Free to Try', 'Free Movie', 'Free to Use', 'Play the Demo']\n",
    "df_steam_games['price'] = df_steam_games['price'].apply(lambda x: 0 if x in non_numeric_values else x)\n",
    "\n",
    "# Convertir la columna 'price' a tipo string para limpiar valores con texto adicional\n",
    "df_steam_games['price'] = df_steam_games['price'].astype(str)\n",
    "\n",
    "# Limpiar valores con texto adicional y convertir la columna 'price' a tipo float\n",
    "df_steam_games['price'] = df_steam_games['price'].replace(to_replace=r'[^0-9.]', value='', regex=True)\n",
    "df_steam_games['price'] = pd.to_numeric(df_steam_games['price'], errors='coerce')\n",
    "\n",
    "# Print the first two rows to see the cleaned prices\n",
    "print(df_steam_games['price'].head(3))\n"
   ]
  },
  {
   "cell_type": "markdown",
   "metadata": {},
   "source": [
    "Asignamos el valor 0 si el juego tiene precio faltante y en sus tags se encuentra que el juego es gratis."
   ]
  },
  {
   "cell_type": "code",
   "execution_count": 23,
   "metadata": {},
   "outputs": [
    {
     "name": "stdout",
     "output_type": "stream",
     "text": [
      "0    4.99\n",
      "1    0.00\n",
      "2    0.00\n",
      "Name: price, dtype: float64\n",
      "Los nulos en price son:\n",
      "0\n"
     ]
    }
   ],
   "source": [
    "# Lista de palabras clave para buscar en las etiquetas\n",
    "palabras_clave = ['Free to Play', 'Free', 'Free Demo', 'Play for Free!', 'Free Mod', 'Free to Try', 'Free Movie', 'Free to Use', 'Play the Demo' ]\n",
    "\n",
    "# Verificar si el precio del juego es nulo\n",
    "if df_steam_games['price'].isnull().any():\n",
    "    # Verificar si alguna de las palabras clave está en las etiquetas para cada fila y si falta el precio\n",
    "    df_steam_games['precio_faltante'] = df_steam_games['price'].isna() & df_steam_games['tags'].apply(lambda x: any(palabra in x for palabra in palabras_clave if isinstance(x, str)))\n",
    "\n",
    "    # Reemplazar los valores de precio faltantes con 0 si la fila correspondiente tiene alguna palabra clave en las etiquetas\n",
    "    df_steam_games.loc[df_steam_games['precio_faltante'], 'price'] = 0\n",
    "\n",
    "    # Eliminar la columna temporal\n",
    "    df_steam_games.drop('precio_faltante', axis=1, inplace=True)\n",
    "\n",
    "# Imprimir las primeras tres filas para confirmar los cambios\n",
    "print(df_steam_games['price'].head(3))\n",
    "\n",
    "# Verificar si hay valores nulos en la columna 'price'\n",
    "if df_steam_games['price'].isnull().any():\n",
    "    # Asignar -1 a los valores nulos en la columna 'price'\n",
    "    df_steam_games['price'].fillna(-1, inplace=True)\n",
    "\n",
    "# Imprimir los nulos en la columna 'price'\n",
    "print(\"Los nulos en price son:\") \n",
    "print(df_steam_games['price'].isnull().sum())"
   ]
  },
  {
   "cell_type": "markdown",
   "metadata": {},
   "source": [
    "#### **genres**:\n",
    "\n",
    "- Rellenamos la informacion faltante de genre, con los genre disponibles en la columna tags\n"
   ]
  },
  {
   "cell_type": "code",
   "execution_count": 24,
   "metadata": {},
   "outputs": [
    {
     "name": "stdout",
     "output_type": "stream",
     "text": [
      "Resumen previo\n"
     ]
    },
    {
     "ename": "IndexError",
     "evalue": "list index out of range",
     "output_type": "error",
     "traceback": [
      "\u001b[1;31m---------------------------------------------------------------------------\u001b[0m",
      "\u001b[1;31mIndexError\u001b[0m                                Traceback (most recent call last)",
      "Cell \u001b[1;32mIn[24], line 2\u001b[0m\n\u001b[0;32m      1\u001b[0m \u001b[38;5;28mprint\u001b[39m(\u001b[38;5;124m\"\u001b[39m\u001b[38;5;124mResumen previo\u001b[39m\u001b[38;5;124m\"\u001b[39m)\n\u001b[1;32m----> 2\u001b[0m \u001b[43mdata_type_check\u001b[49m\u001b[43m(\u001b[49m\u001b[43mdf_steam_games\u001b[49m\u001b[43m[\u001b[49m\u001b[43m[\u001b[49m\u001b[38;5;124;43m'\u001b[39;49m\u001b[38;5;124;43mgenres\u001b[39;49m\u001b[38;5;124;43m'\u001b[39;49m\u001b[43m]\u001b[49m\u001b[43m]\u001b[49m\u001b[43m)\u001b[49m\n\u001b[0;32m      3\u001b[0m \u001b[38;5;66;03m# Conjunto de géneros a copiar\u001b[39;00m\n\u001b[0;32m      4\u001b[0m generos_a_copiar \u001b[38;5;241m=\u001b[39m {\u001b[38;5;124m'\u001b[39m\u001b[38;5;124mSimulation\u001b[39m\u001b[38;5;124m'\u001b[39m, \u001b[38;5;124m'\u001b[39m\u001b[38;5;124mAdventure\u001b[39m\u001b[38;5;124m'\u001b[39m, \u001b[38;5;124m'\u001b[39m\u001b[38;5;124mStrategy\u001b[39m\u001b[38;5;124m'\u001b[39m, \u001b[38;5;124m'\u001b[39m\u001b[38;5;124mEducation\u001b[39m\u001b[38;5;124m'\u001b[39m, \u001b[38;5;124m'\u001b[39m\u001b[38;5;124mPhoto Editing\u001b[39m\u001b[38;5;124m'\u001b[39m, \u001b[38;5;124m'\u001b[39m\u001b[38;5;124mMassively Multiplayer\u001b[39m\u001b[38;5;124m'\u001b[39m, \u001b[38;5;124m'\u001b[39m\u001b[38;5;124mAccounting\u001b[39m\u001b[38;5;124m'\u001b[39m, \u001b[38;5;124m'\u001b[39m\u001b[38;5;124mVideo Production\u001b[39m\u001b[38;5;124m'\u001b[39m, \u001b[38;5;124m'\u001b[39m\u001b[38;5;124mDesign & Illustration\u001b[39m\u001b[38;5;124m'\u001b[39m, \u001b[38;5;124m'\u001b[39m\u001b[38;5;124mRacing\u001b[39m\u001b[38;5;124m'\u001b[39m, \u001b[38;5;124m'\u001b[39m\u001b[38;5;124mWeb Publishing\u001b[39m\u001b[38;5;124m'\u001b[39m, \u001b[38;5;124m'\u001b[39m\u001b[38;5;124mUtilities\u001b[39m\u001b[38;5;124m'\u001b[39m, \u001b[38;5;124m'\u001b[39m\u001b[38;5;124mSoftware Training\u001b[39m\u001b[38;5;124m'\u001b[39m, \u001b[38;5;124m'\u001b[39m\u001b[38;5;124mSports\u001b[39m\u001b[38;5;124m'\u001b[39m, \u001b[38;5;124m'\u001b[39m\u001b[38;5;124mAction\u001b[39m\u001b[38;5;124m'\u001b[39m, \u001b[38;5;124m'\u001b[39m\u001b[38;5;124mIndie\u001b[39m\u001b[38;5;124m'\u001b[39m, \u001b[38;5;124m'\u001b[39m\u001b[38;5;124mAudio Production\u001b[39m\u001b[38;5;124m'\u001b[39m, \u001b[38;5;124m'\u001b[39m\u001b[38;5;124mAnimation & Modeling\u001b[39m\u001b[38;5;124m'\u001b[39m, \u001b[38;5;124m'\u001b[39m\u001b[38;5;124mCasual\u001b[39m\u001b[38;5;124m'\u001b[39m, \u001b[38;5;124m'\u001b[39m\u001b[38;5;124mRPG\u001b[39m\u001b[38;5;124m'\u001b[39m}\n",
      "File \u001b[1;32mc:\\BAU\\ESTUDIO\\0_ Programacion\\HENRY\\HENRY MEGAA\\ESTUDIO\\0_ HENRY\\DATASCIENCE\\1_ DataScience\\DS_07_Proyectos\\PROYECTO NUEVO\\SteamGames ML OPS\\1_JupyterNotebooks\\data_utils.py:11\u001b[0m, in \u001b[0;36mdata_type_check\u001b[1;34m(df)\u001b[0m\n\u001b[0;32m      9\u001b[0m dataframe \u001b[38;5;241m=\u001b[39m {\u001b[38;5;124m\"\u001b[39m\u001b[38;5;124mcolumna\u001b[39m\u001b[38;5;124m\"\u001b[39m: [], \u001b[38;5;124m\"\u001b[39m\u001b[38;5;124m%\u001b[39m\u001b[38;5;124m_no_nulos\u001b[39m\u001b[38;5;124m\"\u001b[39m: [], \u001b[38;5;124m\"\u001b[39m\u001b[38;5;124m%\u001b[39m\u001b[38;5;124m_nulos\u001b[39m\u001b[38;5;124m\"\u001b[39m: [], \u001b[38;5;124m\"\u001b[39m\u001b[38;5;124mtotal_nulos\u001b[39m\u001b[38;5;124m\"\u001b[39m: [], \u001b[38;5;124m\"\u001b[39m\u001b[38;5;124mtipo_dato\u001b[39m\u001b[38;5;124m\"\u001b[39m: []}\n\u001b[0;32m     10\u001b[0m \u001b[38;5;66;03m# Conseguir el nombre del df\u001b[39;00m\n\u001b[1;32m---> 11\u001b[0m nombre_df \u001b[38;5;241m=\u001b[39m \u001b[43m[\u001b[49m\u001b[43mnombre\u001b[49m\u001b[43m \u001b[49m\u001b[38;5;28;43;01mfor\u001b[39;49;00m\u001b[43m \u001b[49m\u001b[43mnombre\u001b[49m\u001b[43m,\u001b[49m\u001b[43m \u001b[49m\u001b[43mvar\u001b[49m\u001b[43m \u001b[49m\u001b[38;5;129;43;01min\u001b[39;49;00m\u001b[43m \u001b[49m\u001b[43minspect\u001b[49m\u001b[38;5;241;43m.\u001b[39;49m\u001b[43mcurrentframe\u001b[49m\u001b[43m(\u001b[49m\u001b[43m)\u001b[49m\u001b[38;5;241;43m.\u001b[39;49m\u001b[43mf_back\u001b[49m\u001b[38;5;241;43m.\u001b[39;49m\u001b[43mf_locals\u001b[49m\u001b[38;5;241;43m.\u001b[39;49m\u001b[43mitems\u001b[49m\u001b[43m(\u001b[49m\u001b[43m)\u001b[49m\u001b[43m \u001b[49m\u001b[38;5;28;43;01mif\u001b[39;49;00m\u001b[43m \u001b[49m\u001b[43mvar\u001b[49m\u001b[43m \u001b[49m\u001b[38;5;129;43;01mis\u001b[39;49;00m\u001b[43m \u001b[49m\u001b[43mdf\u001b[49m\u001b[43m]\u001b[49m\u001b[43m[\u001b[49m\u001b[38;5;241;43m0\u001b[39;49m\u001b[43m]\u001b[49m\n\u001b[0;32m     12\u001b[0m \u001b[38;5;66;03m# Header\u001b[39;00m\n\u001b[0;32m     13\u001b[0m \u001b[38;5;28mprint\u001b[39m(\u001b[38;5;124m\"\u001b[39m\u001b[38;5;130;01m\\n\u001b[39;00m\u001b[38;5;124m\"\u001b[39m \u001b[38;5;241m+\u001b[39m \u001b[38;5;124m\"\u001b[39m\u001b[38;5;124m=\u001b[39m\u001b[38;5;124m\"\u001b[39m \u001b[38;5;241m*\u001b[39m \u001b[38;5;241m40\u001b[39m)\n",
      "\u001b[1;31mIndexError\u001b[0m: list index out of range"
     ]
    }
   ],
   "source": [
    "print(\"Resumen previo\")\n",
    "data_type_check(df_steam_games[['genres']])\n",
    "# Conjunto de géneros a copiar\n",
    "generos_a_copiar = {'Simulation', 'Adventure', 'Strategy', 'Education', 'Photo Editing', 'Massively Multiplayer', 'Accounting', 'Video Production', 'Design & Illustration', 'Racing', 'Web Publishing', 'Utilities', 'Software Training', 'Sports', 'Action', 'Indie', 'Audio Production', 'Animation & Modeling', 'Casual', 'RPG'}\n",
    "\n",
    "# Función para rellenar genres desde tags\n",
    "def rellenar_genres(tags, genres):\n",
    "    try:\n",
    "        # Convertir las etiquetas (tags) a una lista\n",
    "        tags_list = ast.literal_eval(tags)\n",
    "        # Filtrar los géneros a copiar\n",
    "        nuevos_generos = [genre for genre in generos_a_copiar if genre in tags_list]        \n",
    "        # Eliminar 'Free to Play' y 'Early Access'\n",
    "        nuevos_generos = [genre for genre in nuevos_generos if genre not in ['Free to Play', 'Early Access']]        \n",
    "        # Si no hay nuevos géneros, devolver los originales\n",
    "        if not nuevos_generos:\n",
    "            return genres        \n",
    "        # Devolver los nuevos géneros como lista\n",
    "        return nuevos_generos\n",
    "    \n",
    "    except (ValueError, SyntaxError):\n",
    "        # Manejar errores de evaluación\n",
    "        pass\n",
    "    \n",
    "    # Si hay algún error, o la evaluación no es una lista, devolver los géneros originales como lista\n",
    "    return genres\n",
    "\n",
    "# Aplicar la función para rellenar genres desde tags\n",
    "df_steam_games['genres'] = df_steam_games.apply(lambda row: rellenar_genres(row['tags'], row['genres']), axis=1)\n",
    "# Eliminar 'Free to Play' y 'Early Access'\n",
    "df_steam_games['genres'] = df_steam_games['genres'].apply(lambda x: ', '.join(x) if isinstance(x, list) else x)\n",
    "#Observamos la cantidad de nulos\n",
    "print(\" \")\n",
    "print(\"Resumen luego de el relleno de datos\")\n",
    "df_info = data_type_check(df_steam_games[['genres']])"
   ]
  },
  {
   "cell_type": "markdown",
   "metadata": {},
   "source": [
    "#### **📤 LOAD**"
   ]
  },
  {
   "cell_type": "code",
   "execution_count": null,
   "metadata": {},
   "outputs": [
    {
     "name": "stdout",
     "output_type": "stream",
     "text": [
      "\n",
      "========================================\n",
      " Resumen del Dataframe \n",
      "========================================\n",
      "Dimensiones:  (32132, 7)\n",
      "        columna  %_no_nulos  %_nulos  total_nulos tipo_dato\n",
      "0        genres       97.07     2.93          942    object\n",
      "1      app_name      100.00     0.00            1    object\n",
      "2  release_date      100.00     0.00            0     int64\n",
      "3          tags       99.50     0.50          162    object\n",
      "4         price      100.00     0.00            0   float64\n",
      "5            id      100.00     0.00            0     int64\n",
      "6     developer      100.00     0.00            0    object\n"
     ]
    }
   ],
   "source": [
    "# Donde vamos a guardar\n",
    "LIMPIO = '../0 Dataset/steam_games_LIMPIO.csv'\n",
    "SUCIO = '../0 Dataset/steam_games_SUCIO.csv'\n",
    "\n",
    "#Guardamos los cambios en CSV\n",
    "df_steam_games.to_csv(LIMPIO, index=False)\n",
    "df_steam_games_sucio.to_csv(SUCIO, index=False)\n",
    "\n",
    "# Leemos ambos archivo CSV en un DataFrame de pandas\n",
    "steam_games = pd.read_csv(LIMPIO)\n",
    "df_steam_games_sucio = pd.read_csv(SUCIO)\n",
    "\n",
    "# Convertimos los DataFrame de pandas a una tabla de PyArrow\n",
    "table_steam_games = pa.Table.from_pandas(steam_games)\n",
    "table_df_steam_games_sucio = pa.Table.from_pandas(df_steam_games_sucio)\n",
    "\n",
    "# Escribimos las tabla en un archivo Parquet\n",
    "pq.write_table(table_steam_games, '../0 Dataset/steam_games_LISTO.parquet')\n",
    "pq.write_table(table_df_steam_games_sucio, '../0 Dataset/steam_games_SUCIO.parquet')\n",
    "\n",
    "# Borramos los csv ya que nos sirve más en parquet\n",
    "os.remove(LIMPIO)\n",
    "os.remove(SUCIO)\n",
    "\n",
    "# Dejamos información de muestra acerca de los archivos\n",
    "data_type_check(steam_games)"
   ]
  }
 ],
 "metadata": {
  "kernelspec": {
   "display_name": "env",
   "language": "python",
   "name": "python3"
  },
  "language_info": {
   "codemirror_mode": {
    "name": "ipython",
    "version": 3
   },
   "file_extension": ".py",
   "mimetype": "text/x-python",
   "name": "python",
   "nbconvert_exporter": "python",
   "pygments_lexer": "ipython3",
   "version": "3.10.11"
  }
 },
 "nbformat": 4,
 "nbformat_minor": 2
}
