{
 "cells": [
  {
   "cell_type": "markdown",
   "metadata": {},
   "source": [
    "## 🛠️ **ETL (Extract, Transform, Load)**\n",
    "\n"
   ]
  },
  {
   "cell_type": "markdown",
   "metadata": {},
   "source": [
    "#### **📂Procesamiento del 1er archivo: `steam_games.json.gz`**"
   ]
  },
  {
   "cell_type": "markdown",
   "metadata": {},
   "source": [
    "- 🗑️ Eliminamos columnas que no vamos a usar: publisher, title, url, early_access, reviews_url, specs.\n",
    "\n",
    "🔄 `ID:`\n",
    "- Eliminamos nulos y repetidos\n",
    "\n",
    "`release_date`:\n",
    "\n",
    "- Extraigo el año y cambio el nombre de la columna a 'release_year'\n",
    "- Reemplazamos los datos sin fecha por\n",
    "- Cambiamos tipo de dato a int.\n",
    "\n",
    "`price`:\n",
    "\n",
    "- Asignmos valores correspondientes a precios con textos adicional.\n",
    "- Rellenamos missing values buscando en tags si el juego es gratis.\n",
    "- Rellena los valores nulos resultantes con -1.\n",
    "- Convierte la columna 'price' a tipo float.\n",
    "\n",
    "`genres:`\n",
    "\n",
    "- Rellenamos la informacion faltante de genres, con los genres disponibles en la columna tags.\n",
    "\n",
    "🔄 `app_name` en string\n",
    "\n",
    "🔄 `tags` en string\n",
    "\n",
    "🗃️ `Genres `: Rellenamos la informacion faltante de genres en cada juego, con los genres disponibles en la columna tag"
   ]
  },
  {
   "cell_type": "markdown",
   "metadata": {},
   "source": [
    "####  **Importamos las librerías que vamos a usar**\n"
   ]
  },
  {
   "cell_type": "code",
   "execution_count": 1,
   "metadata": {},
   "outputs": [],
   "source": [
    "import data_utils\n",
    "import pandas as pd  # Pandas se utiliza para el manejo y análisis de datos tabulares\n",
    "import pyarrow as pa  # PyArrow se utiliza para trabajar con formatos de datos columnares y eficientes como Parquet\n",
    "import pyarrow.parquet as pq  # Importamos Parquet\n",
    "import ast  # AST (Abstract Syntax Trees) se utiliza para interpretar expresiones Python\n",
    "import gzip\n",
    "import json  # JSON se utiliza para trabajar con datos en formato JSON\n",
    "import os  # OS proporciona funciones para interactuar con el sistema operativo\n",
    "import time\n",
    "\n",
    "import warnings  # Warnings se utiliza para gestionar advertencias y filtrarlas si es necesario\n",
    "warnings.filterwarnings(\"ignore\")\n",
    "\n",
    "from data_utils import data_type_check, filtrar_valores_letras, extraer_anio_release, duplicados_columna, descomprimir_archivos_gz\n",
    "# Autoreload se utiliza para recargar automáticamente los módulos al realizar cambios\n",
    "%load_ext autoreload\n",
    "%autoreload 2"
   ]
  },
  {
   "cell_type": "markdown",
   "metadata": {},
   "source": [
    "#### 📦 **Extraccion** de los datos y primera exploración \n",
    "\n",
    "**Descomprimimos el archivos gz** "
   ]
  },
  {
   "cell_type": "code",
   "execution_count": 2,
   "metadata": {},
   "outputs": [
    {
     "name": "stdout",
     "output_type": "stream",
     "text": [
      "Archivo descomprimido: ../0 Dataset/steam_games.json\n"
     ]
    },
    {
     "data": {
      "text/html": [
       "<div>\n",
       "<style scoped>\n",
       "    .dataframe tbody tr th:only-of-type {\n",
       "        vertical-align: middle;\n",
       "    }\n",
       "\n",
       "    .dataframe tbody tr th {\n",
       "        vertical-align: top;\n",
       "    }\n",
       "\n",
       "    .dataframe thead th {\n",
       "        text-align: right;\n",
       "    }\n",
       "</style>\n",
       "<table border=\"1\" class=\"dataframe\">\n",
       "  <thead>\n",
       "    <tr style=\"text-align: right;\">\n",
       "      <th></th>\n",
       "      <th>publisher</th>\n",
       "      <th>genres</th>\n",
       "      <th>app_name</th>\n",
       "      <th>title</th>\n",
       "      <th>url</th>\n",
       "      <th>release_date</th>\n",
       "      <th>tags</th>\n",
       "      <th>reviews_url</th>\n",
       "      <th>specs</th>\n",
       "      <th>price</th>\n",
       "      <th>early_access</th>\n",
       "      <th>id</th>\n",
       "      <th>developer</th>\n",
       "    </tr>\n",
       "  </thead>\n",
       "  <tbody>\n",
       "    <tr>\n",
       "      <th>16516</th>\n",
       "      <td>NaN</td>\n",
       "      <td>NaN</td>\n",
       "      <td>NaN</td>\n",
       "      <td>NaN</td>\n",
       "      <td>NaN</td>\n",
       "      <td>NaN</td>\n",
       "      <td>NaN</td>\n",
       "      <td>NaN</td>\n",
       "      <td>NaN</td>\n",
       "      <td>NaN</td>\n",
       "      <td>NaN</td>\n",
       "      <td>NaN</td>\n",
       "      <td>NaN</td>\n",
       "    </tr>\n",
       "    <tr>\n",
       "      <th>4106</th>\n",
       "      <td>NaN</td>\n",
       "      <td>NaN</td>\n",
       "      <td>NaN</td>\n",
       "      <td>NaN</td>\n",
       "      <td>NaN</td>\n",
       "      <td>NaN</td>\n",
       "      <td>NaN</td>\n",
       "      <td>NaN</td>\n",
       "      <td>NaN</td>\n",
       "      <td>NaN</td>\n",
       "      <td>NaN</td>\n",
       "      <td>NaN</td>\n",
       "      <td>NaN</td>\n",
       "    </tr>\n",
       "  </tbody>\n",
       "</table>\n",
       "</div>"
      ],
      "text/plain": [
       "      publisher genres app_name title  url release_date tags reviews_url  \\\n",
       "16516       NaN    NaN      NaN   NaN  NaN          NaN  NaN         NaN   \n",
       "4106        NaN    NaN      NaN   NaN  NaN          NaN  NaN         NaN   \n",
       "\n",
       "      specs price early_access   id developer  \n",
       "16516   NaN   NaN          NaN  NaN       NaN  \n",
       "4106    NaN   NaN          NaN  NaN       NaN  "
      ]
     },
     "execution_count": 2,
     "metadata": {},
     "output_type": "execute_result"
    }
   ],
   "source": [
    "# Obtenemos el tiempo de inicio de todo este ipynb \n",
    "start_time = time.time()\n",
    "\n",
    "# Ejemplo de uso con una lista de archivos gz\n",
    "archivo_gz_a_descomprimir = ['../0 Dataset/steam_games.json.gz']\n",
    "carpeta_destino = '../0 Dataset/'\n",
    "\n",
    "descomprimir_archivos_gz(archivo_gz_a_descomprimir, carpeta_destino)\n",
    "\n",
    "#Creamos una lista vacía llamada \"rows\" donde almacenaremos los datos del archivo JSON.\n",
    "\n",
    "row = []\n",
    "with open(\"../0 Dataset/steam_games.json\", \"r\", encoding=\"utf-8\") as archivo:\n",
    "    for linea in archivo:\n",
    "        try:\n",
    "            objeto_json = json.loads(linea)\n",
    "            row.append(objeto_json)\n",
    "        except json.JSONDecodeError:\n",
    "            print(f\"Error de formato JSON en la línea: {linea}\")\n",
    "\n",
    "#Convertir la lista de objetos JSON en un DataFrame\n",
    "df_steam_games = pd.DataFrame(row)\n",
    "#Hacemos una copia del dataset sucio para explorarlo en el EDA\n",
    "df_steam_games_sucio = pd.DataFrame(row)\n",
    "# Veamos unos registros al azar\n",
    "df_steam_games.sample(2)\n"
   ]
  },
  {
   "cell_type": "markdown",
   "metadata": {},
   "source": [
    "#### Usando la funcion personalizada `data_type_check` invocada desde `data_utils.py` podemos observar:\n",
    "- Variables categóricas\n",
    "- Variables numéricas\n",
    "- Dimensiones del dataframe\n",
    "- Nulos\n",
    "- Tipos de datos\n",
    "- Informacion acerca de los datos faltantes o nulos de cada columna    \n"
   ]
  },
  {
   "cell_type": "code",
   "execution_count": 3,
   "metadata": {},
   "outputs": [
    {
     "name": "stdout",
     "output_type": "stream",
     "text": [
      "\n",
      "========================================\n",
      " Resumen del dataframe 'df_steam_games': \n",
      "\n",
      "========================================\n",
      "Dimensiones:  (120445, 13)\n",
      "         columna  %_no_nulos  %_nulos  total_nulos tipo_dato\n",
      "0      publisher       20.00    80.00        96362    object\n",
      "1         genres       23.95    76.05        91593    object\n",
      "2       app_name       26.68    73.32        88312    object\n",
      "3          title       24.98    75.02        90360    object\n",
      "4            url       26.68    73.32        88310    object\n",
      "5   release_date       24.96    75.04        90377    object\n",
      "6           tags       26.54    73.46        88473    object\n",
      "7    reviews_url       26.68    73.32        88312    object\n",
      "8          specs       26.12    73.88        88980    object\n",
      "9          price       25.54    74.46        89687    object\n",
      "10  early_access       26.68    73.32        88310    object\n",
      "11            id       26.68    73.32        88312    object\n",
      "12     developer       23.94    76.06        91609    object\n"
     ]
    }
   ],
   "source": [
    "data_type_check(df_steam_games)"
   ]
  },
  {
   "cell_type": "markdown",
   "metadata": {},
   "source": [
    "#### 🔁 **TRANSFORM**"
   ]
  },
  {
   "cell_type": "markdown",
   "metadata": {},
   "source": [
    "#### **Columnas \"publisher\",\"title\",\"url\",\"early_access\",\"reviews_url\",\"specs\"**"
   ]
  },
  {
   "cell_type": "markdown",
   "metadata": {},
   "source": [
    "Eliminamos estas columnas ya que son irrelevantes para el problema que queremos resolver:"
   ]
  },
  {
   "cell_type": "code",
   "execution_count": 4,
   "metadata": {},
   "outputs": [
    {
     "name": "stdout",
     "output_type": "stream",
     "text": [
      "Dimensiones previas a limpieza:\n",
      "(120445, 13)\n",
      "Dimensiones post limpieza:\n",
      "(120445, 7)\n"
     ]
    }
   ],
   "source": [
    "print(\"Dimensiones previas a limpieza:\")\n",
    "print(df_steam_games.shape)\n",
    "\n",
    "# Eliminamos columnas que no vamos a usar\n",
    "df_steam_games.drop(columns=[\"publisher\",\"title\",\"url\",\"early_access\",\"reviews_url\",\"specs\"], inplace=True)\n",
    "\n",
    "print(\"Dimensiones post limpieza:\")\n",
    "print(df_steam_games.shape)"
   ]
  },
  {
   "cell_type": "markdown",
   "metadata": {},
   "source": [
    "**Transformamos en lote las columnas que no necesitan tratamiento especial**"
   ]
  },
  {
   "cell_type": "code",
   "execution_count": 5,
   "metadata": {},
   "outputs": [],
   "source": [
    "#  Transformacion app_name, tags, developer a string.\n",
    "\n",
    "df_steam_games = df_steam_games.astype({\n",
    "    'app_name': 'string',\n",
    "    'tags': 'string', \n",
    "    'developer': 'string'\n",
    "})"
   ]
  },
  {
   "cell_type": "markdown",
   "metadata": {},
   "source": [
    "#### **ID**\n",
    "Eliminamos repetidos y nulos"
   ]
  },
  {
   "cell_type": "code",
   "execution_count": 6,
   "metadata": {},
   "outputs": [],
   "source": [
    "\n",
    "# Eliminar duplicados en la columna 'id'\n",
    "df_steam_games.drop_duplicates(subset='id', inplace=True)\n",
    "# Eliminar filas con valores nulos en la columna 'id'\n",
    "df_steam_games.dropna(subset=['id'], inplace=True)\n",
    "#Terminamos reseteando los indices\n",
    "df_steam_games.reset_index(drop=True, inplace=True)\n",
    "# Cambiamos el dato a user_id\n",
    "df_steam_games.rename(columns={'id':'user_id'}, inplace=True)\n",
    "df_steam_games['user_id'] = df_steam_games['user_id'].astype(int)"
   ]
  },
  {
   "cell_type": "markdown",
   "metadata": {},
   "source": [
    "#### **Developer**"
   ]
  },
  {
   "cell_type": "code",
   "execution_count": 7,
   "metadata": {},
   "outputs": [],
   "source": [
    "# Reemplazamos los nulos con Dato Faltante\n",
    "df_steam_games['developer'].fillna('Dato Faltante', inplace=True)\n",
    "# Cambiar el tipo de dato a string\n",
    "df_steam_games['developer'] = df_steam_games['developer'].astype('string')"
   ]
  },
  {
   "cell_type": "code",
   "execution_count": 8,
   "metadata": {},
   "outputs": [],
   "source": [
    "df_steam_games['app_name'].fillna('Dato Faltante', inplace=True)"
   ]
  },
  {
   "cell_type": "markdown",
   "metadata": {},
   "source": [
    "#### **Transformación de 'release_date'**\n",
    "\n",
    "Se necesita extraer el año de lanzamiento del item, para ello se hace una nueva columna con el dato si existe o con un \" XXXX \" si no esta la fecha. Luego se elimina la columa 'release_date'.\n",
    "\n",
    "- Cambiamos tipo de dato a str\n",
    "- Se extrae el año de la fecha en la columna 'release_date' \n",
    "- Reemplazamos los datos sin fecha por \n",
    "- Llamamos a la funcion extraer_anio_release en data_utils.py  "
   ]
  },
  {
   "cell_type": "code",
   "execution_count": 9,
   "metadata": {},
   "outputs": [],
   "source": [
    "# Aplica la función extraer_anio_release a la columna release_date\n",
    "df_steam_games['release_year'] = df_steam_games['release_date'].apply(data_utils.extraer_anio_release)\n",
    "# elimina la columna 'release_date'\n",
    "df_steam_games = df_steam_games.drop('release_date', axis=1)\n",
    "df_steam_games['release_year'] = df_steam_games['release_year'].astype(int)"
   ]
  },
  {
   "cell_type": "markdown",
   "metadata": {},
   "source": [
    "#### **price**\n",
    "Necesitamos trabajar con esta columna, pero encontramos valores de texto para promociones o indicando que el juego es gratis. \n",
    "\n",
    "- Asignamos valores correspondientes a precios con textos adicional.\n",
    "- Convierte la columna 'price' a tipo float.\n",
    "- Rellena los valores nulos resultantes con -1."
   ]
  },
  {
   "cell_type": "markdown",
   "metadata": {},
   "source": [
    "Visualizamos los valores no numericos en precios a solucionar usando una funcion invocada desde data_utils.py"
   ]
  },
  {
   "cell_type": "code",
   "execution_count": 11,
   "metadata": {},
   "outputs": [
    {
     "name": "stdout",
     "output_type": "stream",
     "text": [
      "['Free To Play', 'Free to Play', 'Free', 'Free Demo', 'Play for Free!', 'Install Now', 'Play WARMACHINE: Tactics Demo', 'Free Mod', 'Install Theme', 'Third-party', 'Play Now', 'Free HITMAN™ Holiday Pack', 'Play the Demo', 'Starting at $499.00', 'Starting at $449.00', 'Free to Try', 'Free Movie', 'Free to Use']\n"
     ]
    }
   ],
   "source": [
    "precios_texto = filtrar_valores_letras(df_steam_games['price'].unique())\n",
    "print(precios_texto)"
   ]
  },
  {
   "cell_type": "markdown",
   "metadata": {},
   "source": [
    "Filtramos los precios gratis a traves de buscar los datos faltantes en la columna tags"
   ]
  },
  {
   "cell_type": "code",
   "execution_count": 12,
   "metadata": {},
   "outputs": [
    {
     "name": "stdout",
     "output_type": "stream",
     "text": [
      "Muestra de valores no numéricos antes de la limpieza:\n",
      "['Free To Play']\n",
      "Muestra de valores no numéricos después de la limpieza:\n",
      "[0]\n",
      "\n",
      "========================================\n",
      " Resumen del dataframe '_': \n",
      "\n",
      "========================================\n",
      "Dimensiones:  (32132, 7)\n",
      "        columna  %_no_nulos  %_nulos  total_nulos       tipo_dato\n",
      "0        genres       89.79    10.21         3282          object\n",
      "1      app_name      100.00     0.00            0  string[python]\n",
      "2          tags       99.50     0.50          162  string[python]\n",
      "3         price      100.00     0.00            0           int32\n",
      "4       user_id      100.00     0.00            0           int32\n",
      "5     developer      100.00     0.00            0  string[python]\n",
      "6  release_year      100.00     0.00            0           int32\n"
     ]
    }
   ],
   "source": [
    "# Lista de palabras clave para buscar en las etiquetas\n",
    "palabras_clave = ['Free to Play', 'Free', 'Free Demo', 'Play for Free!', 'Free Mod', 'Free to Try', 'Free Movie', 'Free to Use', 'Play the Demo','Free To Play' ]\n",
    "\n",
    "print(\"Muestra de valores no numéricos antes de la limpieza:\")\n",
    "precio_ironbound = df_steam_games[df_steam_games['app_name'] == 'Ironbound']['price'].unique()\n",
    "print(precio_ironbound)\n",
    "\n",
    "# Verificar si el precio del juego es nulo\n",
    "if df_steam_games['price'].isnull().any():\n",
    "    # Verificar si alguna de las palabras clave está en las etiquetas para cada fila y si falta el precio\n",
    "    df_steam_games['precio_faltante'] = df_steam_games['price'].isna() & df_steam_games['tags'].apply(lambda x: any(palabra in x for palabra in palabras_clave) if isinstance(x, list) else False)\n",
    "\n",
    "    # Reemplazar los valores de precio faltantes con 0 si la fila correspondiente tiene alguna palabra clave en las etiquetas\n",
    "    df_steam_games.loc[df_steam_games['precio_faltante'], 'price'] = 0\n",
    "\n",
    "    # Eliminar la columna temporal\n",
    "    df_steam_games.drop('precio_faltante', axis=1, inplace=True)\n",
    "\n",
    "# Limpiar valores no numéricos\n",
    "non_numeric_values = ['Free', 'Free To Play', 'Free Demo', 'Play for Free!', 'Free Mod', 'Install Now', 'Play Now', 'Third-party', 'Play WARMACHINE: Tactics Demo', 'Install Theme', 'Starting at', 'Free to Try', 'Free Movie', 'Free to Use', 'Play the Demo']\n",
    "df_steam_games['price'] = df_steam_games['price'].apply(lambda x: 0 if x in non_numeric_values else x)\n",
    "\n",
    "# Convertir la columna 'price' a tipo string para limpiar valores con texto adicional\n",
    "df_steam_games['price'] = df_steam_games['price'].astype(str)\n",
    "\n",
    "# Limpiar valores con texto adicional y convertir la columna 'price' a tipo float\n",
    "df_steam_games['price'] = df_steam_games['price'].replace(to_replace=r'[^0-9.]', value='', regex=True)\n",
    "df_steam_games['price'] = pd.to_numeric(df_steam_games['price'], errors='coerce')\n",
    "\n",
    "# Verificar si hay valores nulos en la columna 'price'\n",
    "if df_steam_games['price'].isnull().any():\n",
    "    # Asignar -1 a los valores nulos en la columna 'price'\n",
    "    df_steam_games['price'].fillna(-1, inplace=True)\n",
    "\n",
    "# Convertir la columna 'price' a tipo int\n",
    "df_steam_games['price'] = df_steam_games['price'].astype(int)\n",
    "\n",
    "\n",
    "print(\"Muestra de valores no numéricos después de la limpieza:\")\n",
    "precio_ironbound = df_steam_games[df_steam_games['app_name'] == 'Ironbound']['price'].unique()\n",
    "print(precio_ironbound)\n",
    "\n",
    "data_type_check(df_steam_games)"
   ]
  },
  {
   "cell_type": "markdown",
   "metadata": {},
   "source": [
    "#### **genres**:\n",
    "\n",
    "- Rellenamos la informacion faltante de genre, con los genre disponibles en la columna tags\n",
    "\n"
   ]
  },
  {
   "cell_type": "code",
   "execution_count": 13,
   "metadata": {},
   "outputs": [
    {
     "name": "stdout",
     "output_type": "stream",
     "text": [
      "Valores faltantes antes de el relleno de datos:  3282\n"
     ]
    }
   ],
   "source": [
    "print(\"Valores faltantes antes de el relleno de datos: \", df_steam_games['genres'].isnull().sum())"
   ]
  },
  {
   "cell_type": "code",
   "execution_count": 14,
   "metadata": {},
   "outputs": [
    {
     "name": "stdout",
     "output_type": "stream",
     "text": [
      "Valores faltantes previos:  3282\n",
      "Valores faltantes luego de el relleno de datos:  0\n"
     ]
    }
   ],
   "source": [
    "# Rellenamos la informacion faltante de genre, con los genre disponibles en la columna tags\n",
    "print(\"Valores faltantes previos: \", df_steam_games['genres'].isnull().sum())\n",
    "\n",
    "# Conjunto de géneros a copiar\n",
    "generos_a_copiar = {'Simulation', 'Adventure', 'Strategy', 'Education', 'Photo Editing', 'Massively Multiplayer', 'Accounting', 'Video Production', 'Design & Illustration', 'Racing', 'Web Publishing', 'Utilities', 'Software Training', 'Sports', 'Action', 'Indie', 'Audio Production', 'Animation & Modeling', 'Casual', 'RPG'}\n",
    "\n",
    "# Función para rellenar genres desde tags\n",
    "def rellenar_genres(tags, genres):\n",
    "    try:\n",
    "        # Convertir las etiquetas (tags) a una lista\n",
    "        tags_list = ast.literal_eval(tags)\n",
    "        # Filtrar los géneros a copiar\n",
    "        nuevos_generos = [genre for genre in generos_a_copiar if genre in tags_list]        \n",
    "        # Eliminar 'Free to Play' y 'Early Access'\n",
    "        no_deseados = ['Free to Play', 'Early Access']\n",
    "        nuevos_generos = [genre for genre in nuevos_generos if genre not in no_deseados]        \n",
    "        # Si no hay nuevos géneros, devolver los originales\n",
    "        if not nuevos_generos:\n",
    "            return genres        \n",
    "        # Devolver los nuevos géneros como lista\n",
    "        return nuevos_generos\n",
    "    \n",
    "    except (ValueError, SyntaxError):\n",
    "        # Manejar errores de evaluación\n",
    "        pass\n",
    "    \n",
    "    # Si hay algún error, o la evaluación no es una lista, devolver los géneros originales como lista\n",
    "    return genres\n",
    "\n",
    "# Aplicar la función para rellenar genres desde tags\n",
    "df_steam_games['genres'] = df_steam_games.apply(lambda row: rellenar_genres(row['tags'], row['genres']), axis=1)\n",
    "\n",
    "\n",
    "# Eliminar tags\n",
    "df_steam_games = df_steam_games.drop('tags', axis=1)\n",
    "\n",
    "df_steam_games['genres'] = df_steam_games['genres'].astype(str)\n",
    "\n",
    "# Observamos la cantidad de nulos\n",
    "print(\"Valores faltantes luego de el relleno de datos: \", df_steam_games['genres'].isnull().sum())"
   ]
  },
  {
   "cell_type": "code",
   "execution_count": 15,
   "metadata": {},
   "outputs": [
    {
     "name": "stdout",
     "output_type": "stream",
     "text": [
      "Valores faltantes finale:  0\n"
     ]
    }
   ],
   "source": [
    "df_steam_games = df_steam_games.dropna(subset=['genres'])\n",
    "\n",
    "# Observamos la cantidad de nulos\n",
    "print(\"Valores faltantes finale: \", df_steam_games['genres'].isnull().sum())"
   ]
  },
  {
   "cell_type": "markdown",
   "metadata": {},
   "source": [
    "#### **📤 LOAD**"
   ]
  },
  {
   "cell_type": "code",
   "execution_count": 16,
   "metadata": {},
   "outputs": [
    {
     "name": "stdout",
     "output_type": "stream",
     "text": [
      "\n",
      "========================================\n",
      " Resumen del dataframe 'df_steam_games': \n",
      "\n",
      "========================================\n",
      "Dimensiones:  (32132, 6)\n",
      "        columna  %_no_nulos  %_nulos  total_nulos       tipo_dato\n",
      "0        genres       100.0      0.0            0          object\n",
      "1      app_name       100.0      0.0            0  string[python]\n",
      "2         price       100.0      0.0            0           int32\n",
      "3       user_id       100.0      0.0            0           int32\n",
      "4     developer       100.0      0.0            0  string[python]\n",
      "5  release_year       100.0      0.0            0           int32\n"
     ]
    }
   ],
   "source": [
    "#Dejamos informacion de muestra acerca de ese archivo\n",
    "data_type_check(df_steam_games)"
   ]
  },
  {
   "cell_type": "code",
   "execution_count": 17,
   "metadata": {},
   "outputs": [],
   "source": [
    "# Define la ruta del archivo Parquet\n",
    "ruta_parquet = os.path.abspath('../0 Dataset/1.1_steam_games_LISTO.parquet')\n",
    "# Convertir el DataFrame de pandas a una tabla de PyArrow\n",
    "df_steam_games = pa.Table.from_pandas(df_steam_games)\n",
    "# Escribir la tabla en un archivo Parquet\n",
    "pq.write_table(df_steam_games, ruta_parquet)"
   ]
  },
  {
   "cell_type": "markdown",
   "metadata": {},
   "source": [
    "## **Terminamos**\n",
    "  - Eliminamos el archivo descomprimidos que ahora tenemos limpio y liviano en formato parquet"
   ]
  },
  {
   "cell_type": "code",
   "execution_count": 18,
   "metadata": {},
   "outputs": [
    {
     "name": "stdout",
     "output_type": "stream",
     "text": [
      "Archivo eliminado: ../0 Dataset/steam_games.json\n"
     ]
    }
   ],
   "source": [
    "# Lista de archivos descomprimidos\n",
    "gz_descomprimido = [\n",
    "    '../0 Dataset/steam_games.json'\n",
    "]\n",
    "\n",
    "# Eliminar archivos descomprimidos\n",
    "for archivo_json in gz_descomprimido:\n",
    "    try:\n",
    "        os.remove(archivo_json)\n",
    "        print(f'Archivo eliminado: {archivo_json}')\n",
    "    except FileNotFoundError:\n",
    "        print(f'Archivo no encontrado: {archivo_json}')"
   ]
  },
  {
   "cell_type": "markdown",
   "metadata": {},
   "source": [
    "Observamos el tiempo de ejecucion total de nuestro proceso ETL 🔥"
   ]
  },
  {
   "cell_type": "code",
   "execution_count": 19,
   "metadata": {},
   "outputs": [
    {
     "name": "stdout",
     "output_type": "stream",
     "text": [
      "Tiempo total de ejecución de este ipynb: 0.21 minutos\n"
     ]
    }
   ],
   "source": [
    "# Obtener el tiempo de finalización\n",
    "end_time = time.time()\n",
    "# Calcular el tiempo total de ejecución\n",
    "total_time = end_time - start_time\n",
    "# Convertir a minutos y redondear a 2 decimales\n",
    "total_time_minutes = round(total_time / 60, 2)\n",
    "# Imprimir resultados\n",
    "print(f\"Tiempo total de ejecución de este ipynb: {total_time_minutes} minutos\")"
   ]
  }
 ],
 "metadata": {
  "kernelspec": {
   "display_name": "env",
   "language": "python",
   "name": "python3"
  },
  "language_info": {
   "codemirror_mode": {
    "name": "ipython",
    "version": 3
   },
   "file_extension": ".py",
   "mimetype": "text/x-python",
   "name": "python",
   "nbconvert_exporter": "python",
   "pygments_lexer": "ipython3",
   "version": "3.10.11"
  }
 },
 "nbformat": 4,
 "nbformat_minor": 2
}
