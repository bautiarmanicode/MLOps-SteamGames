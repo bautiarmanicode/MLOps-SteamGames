{
 "cells": [
  {
   "cell_type": "markdown",
   "metadata": {},
   "source": [
    "## 🛠️ **ETL (Extract, Transform, Load)**\n",
    "\n"
   ]
  },
  {
   "cell_type": "markdown",
   "metadata": {},
   "source": [
    "#### **📂Procesamiento del 1er archivo: `steam_games.json.gz`**"
   ]
  },
  {
   "cell_type": "markdown",
   "metadata": {},
   "source": [
    "- 🗑️ Eliminamos columnas que no vamos a usar: publisher, title, url, early_access, reviews_url, specs.\n",
    "\n",
    "🔄 `ID:`\n",
    "- Eliminamos nulos y repetidos\n",
    "\n",
    "`release_date`:\n",
    "\n",
    "- Extraigo el año y cambio el nombre de la columna a 'release_year'\n",
    "- Reemplazamos los datos sin fecha por\n",
    "- Cambiamos tipo de dato a int.\n",
    "\n",
    "`price`:\n",
    "\n",
    "- Asignmos valores correspondientes a precios con textos adicional.\n",
    "- Rellenamos missing values buscando en tags si el juego es gratis.\n",
    "- Rellena los valores nulos resultantes con -1.\n",
    "- Convierte la columna 'price' a tipo float.\n",
    "\n",
    "`genres:`\n",
    "\n",
    "- Rellenamos la informacion faltante de genres, con los genres disponibles en la columna tags.\n",
    "\n",
    "🔄 `app_name` en string\n",
    "\n",
    "🔄 `tags` en string\n",
    "\n",
    "🗃️ `Genres `: Rellenamos la informacion faltante de genres en cada juego, con los genres disponibles en la columna tag"
   ]
  },
  {
   "cell_type": "markdown",
   "metadata": {},
   "source": [
    "#### 📦 **EXTRACT**"
   ]
  },
  {
   "cell_type": "markdown",
   "metadata": {},
   "source": [
    "####  **Importamos las librerías que vamos a usar**\n"
   ]
  },
  {
   "cell_type": "code",
   "execution_count": 18,
   "metadata": {},
   "outputs": [
    {
     "name": "stdout",
     "output_type": "stream",
     "text": [
      "The autoreload extension is already loaded. To reload it, use:\n",
      "  %reload_ext autoreload\n"
     ]
    }
   ],
   "source": [
    "import pandas as pd  # Pandas se utiliza para el manejo y análisis de datos tabulares\n",
    "import pyarrow as pa  # PyArrow se utiliza para trabajar con formatos de datos columnares y eficientes como Parquet\n",
    "import pyarrow.parquet as pq  # Importamos Parquet\n",
    "import re\n",
    "import inspect\n",
    "\n",
    "import ast  # AST (Abstract Syntax Trees) se utiliza para interpretar expresiones Python\n",
    "import gzip\n",
    "import json  # JSON se utiliza para trabajar con datos en formato JSON\n",
    "import os  # OS proporciona funciones para interactuar con el sistema operativo\n",
    "import time\n",
    "import warnings  # Warnings se utiliza para gestionar advertencias y filtrarlas si es necesario\n",
    "warnings.filterwarnings(\"ignore\")\n",
    "import data_utils\n",
    "from data_utils import data_type_check, filtrar_valores_letras, extraer_anio_release\n",
    "# Autoreload se utiliza para recargar automáticamente los módulos al realizar cambios\n",
    "%load_ext autoreload\n",
    "%autoreload 2"
   ]
  },
  {
   "cell_type": "markdown",
   "metadata": {},
   "source": [
    "#### **Descomprimimos el archivos gz** "
   ]
  },
  {
   "cell_type": "code",
   "execution_count": 19,
   "metadata": {},
   "outputs": [
    {
     "name": "stdout",
     "output_type": "stream",
     "text": [
      "Archivo descomprimido: ../0 Dataset/steam_games.json\n"
     ]
    }
   ],
   "source": [
    "# Obtenemos el tiempo de inicio de todo este ipynb \n",
    "start_time = time.time()\n",
    "\n",
    "def descomprimir_archivos_gz(archivos_gz, carpeta_destino):\n",
    "    for archivo_gz in archivos_gz:\n",
    "        with gzip.open(archivo_gz, 'rb') as f_in:\n",
    "            contenido = f_in.read()\n",
    "            archivo_destino = os.path.join(carpeta_destino, os.path.splitext(os.path.basename(archivo_gz))[0])\n",
    "            with open(archivo_destino, 'wb') as f_out:\n",
    "                f_out.write(contenido)\n",
    "        print(f'Archivo descomprimido: {archivo_destino}')\n",
    "\n",
    "# Ejemplo de uso con una lista de archivos gz\n",
    "archivo_gz_a_descomprimir = ['../0 Dataset/steam_games.json.gz']\n",
    "carpeta_destino = '../0 Dataset/'\n",
    "\n",
    "descomprimir_archivos_gz(archivo_gz_a_descomprimir, carpeta_destino)\n"
   ]
  },
  {
   "cell_type": "markdown",
   "metadata": {},
   "source": [
    "## **📂Procesamiento del 1er archivo: `steam_games.json.gz`**"
   ]
  },
  {
   "cell_type": "markdown",
   "metadata": {},
   "source": [
    "\n",
    "- Tomamos los datos del archivo JSON, los transformamos en un DataFrame y realizamos una primera observación de su contenido."
   ]
  },
  {
   "cell_type": "code",
   "execution_count": 20,
   "metadata": {},
   "outputs": [
    {
     "data": {
      "text/html": [
       "<div>\n",
       "<style scoped>\n",
       "    .dataframe tbody tr th:only-of-type {\n",
       "        vertical-align: middle;\n",
       "    }\n",
       "\n",
       "    .dataframe tbody tr th {\n",
       "        vertical-align: top;\n",
       "    }\n",
       "\n",
       "    .dataframe thead th {\n",
       "        text-align: right;\n",
       "    }\n",
       "</style>\n",
       "<table border=\"1\" class=\"dataframe\">\n",
       "  <thead>\n",
       "    <tr style=\"text-align: right;\">\n",
       "      <th></th>\n",
       "      <th>publisher</th>\n",
       "      <th>genres</th>\n",
       "      <th>app_name</th>\n",
       "      <th>title</th>\n",
       "      <th>url</th>\n",
       "      <th>release_date</th>\n",
       "      <th>tags</th>\n",
       "      <th>reviews_url</th>\n",
       "      <th>specs</th>\n",
       "      <th>price</th>\n",
       "      <th>early_access</th>\n",
       "      <th>id</th>\n",
       "      <th>developer</th>\n",
       "    </tr>\n",
       "  </thead>\n",
       "  <tbody>\n",
       "    <tr>\n",
       "      <th>0</th>\n",
       "      <td>NaN</td>\n",
       "      <td>NaN</td>\n",
       "      <td>NaN</td>\n",
       "      <td>NaN</td>\n",
       "      <td>NaN</td>\n",
       "      <td>NaN</td>\n",
       "      <td>NaN</td>\n",
       "      <td>NaN</td>\n",
       "      <td>NaN</td>\n",
       "      <td>NaN</td>\n",
       "      <td>NaN</td>\n",
       "      <td>NaN</td>\n",
       "      <td>NaN</td>\n",
       "    </tr>\n",
       "    <tr>\n",
       "      <th>1</th>\n",
       "      <td>NaN</td>\n",
       "      <td>NaN</td>\n",
       "      <td>NaN</td>\n",
       "      <td>NaN</td>\n",
       "      <td>NaN</td>\n",
       "      <td>NaN</td>\n",
       "      <td>NaN</td>\n",
       "      <td>NaN</td>\n",
       "      <td>NaN</td>\n",
       "      <td>NaN</td>\n",
       "      <td>NaN</td>\n",
       "      <td>NaN</td>\n",
       "      <td>NaN</td>\n",
       "    </tr>\n",
       "  </tbody>\n",
       "</table>\n",
       "</div>"
      ],
      "text/plain": [
       "  publisher genres app_name title  url release_date tags reviews_url specs  \\\n",
       "0       NaN    NaN      NaN   NaN  NaN          NaN  NaN         NaN   NaN   \n",
       "1       NaN    NaN      NaN   NaN  NaN          NaN  NaN         NaN   NaN   \n",
       "\n",
       "  price early_access   id developer  \n",
       "0   NaN          NaN  NaN       NaN  \n",
       "1   NaN          NaN  NaN       NaN  "
      ]
     },
     "execution_count": 20,
     "metadata": {},
     "output_type": "execute_result"
    }
   ],
   "source": [
    "#Creamos una lista vacía llamada \"rows\" donde almacenaremos los datos del archivo JSON.\n",
    "\n",
    "row = []\n",
    "with open(\"../0 Dataset/steam_games.json\", \"r\", encoding=\"utf-8\") as archivo:\n",
    "    for linea in archivo:\n",
    "        try:\n",
    "            objeto_json = json.loads(linea)\n",
    "            row.append(objeto_json)\n",
    "        except json.JSONDecodeError:\n",
    "            print(f\"Error de formato JSON en la línea: {linea}\")\n",
    "\n",
    "#Convertir la lista de objetos JSON en un DataFrame\n",
    "df_steam_games = pd.DataFrame(row)\n",
    "#Hacemos una copia del dataset sucio para explorarlo en el EDA\n",
    "df_steam_games_sucio = pd.DataFrame(row)\n",
    "# Veamos unos registros al azar\n",
    "df_steam_games.head(2)\n"
   ]
  },
  {
   "cell_type": "markdown",
   "metadata": {},
   "source": [
    "#### Usando la funcion personalizada `data_type_check` invocada desde `data_utils.py` podemos observar:\n",
    "- Variables categóricas\n",
    "- Variables numéricas\n",
    "- Dimensiones del dataframe\n",
    "- Nulos\n",
    "- Tipos de datos\n",
    "- Informacion acerca de los datos faltantes o nulos de cada columna    \n"
   ]
  },
  {
   "cell_type": "code",
   "execution_count": 21,
   "metadata": {},
   "outputs": [
    {
     "name": "stdout",
     "output_type": "stream",
     "text": [
      "\n",
      "========================================\n",
      " Resumen del dataframe 'df_steam_games': \n",
      "\n",
      "========================================\n",
      "Dimensiones:  (120445, 13)\n",
      "         columna  %_no_nulos  %_nulos  total_nulos tipo_dato\n",
      "0      publisher       20.00    80.00        96362    object\n",
      "1         genres       23.95    76.05        91593    object\n",
      "2       app_name       26.68    73.32        88312    object\n",
      "3          title       24.98    75.02        90360    object\n",
      "4            url       26.68    73.32        88310    object\n",
      "5   release_date       24.96    75.04        90377    object\n",
      "6           tags       26.54    73.46        88473    object\n",
      "7    reviews_url       26.68    73.32        88312    object\n",
      "8          specs       26.12    73.88        88980    object\n",
      "9          price       25.54    74.46        89687    object\n",
      "10  early_access       26.68    73.32        88310    object\n",
      "11            id       26.68    73.32        88312    object\n",
      "12     developer       23.94    76.06        91609    object\n"
     ]
    }
   ],
   "source": [
    "data_type_check(df_steam_games)"
   ]
  },
  {
   "cell_type": "markdown",
   "metadata": {},
   "source": [
    "Observamos que los tipos de datos no son los que necesitamos, vamos a transformar estos datos en los formatos correctos para su posterior uso."
   ]
  },
  {
   "cell_type": "markdown",
   "metadata": {},
   "source": [
    "#### 🔁 **TRANSFORM**\n",
    "  * ✅ Columnas irrelevantes (que no nos sirven para el problema que queremos resolver)\n",
    "   developer, id. \n",
    "  * ✅ Datos faltantes o nulos: **.dropna**\n",
    "  * ✅ Registros o filas repetidas: **drop_duplicates**\n",
    "  * ✅ Variables categoricas: Errores tipográficos"
   ]
  },
  {
   "cell_type": "markdown",
   "metadata": {},
   "source": [
    "#### **Columnas \"publisher\",\"title\",\"url\",\"early_access\",\"reviews_url\",\"specs\"**"
   ]
  },
  {
   "cell_type": "markdown",
   "metadata": {},
   "source": [
    "Eliminamos estas columnas ya que son irrelevantes para el problema que queremos resolver:"
   ]
  },
  {
   "cell_type": "code",
   "execution_count": 22,
   "metadata": {},
   "outputs": [
    {
     "name": "stdout",
     "output_type": "stream",
     "text": [
      "Dimensiones previas a limpieza:\n",
      "(120445, 13)\n",
      "Dimensiones post limpieza:\n",
      "(120445, 7)\n"
     ]
    }
   ],
   "source": [
    "print(\"Dimensiones previas a limpieza:\")\n",
    "print(df_steam_games.shape)\n",
    "\n",
    "# Eliminamos columnas que no vamos a usar\n",
    "df_steam_games.drop(columns=[\"publisher\",\"title\",\"url\",\"early_access\",\"reviews_url\",\"specs\"], inplace=True)\n",
    "\n",
    "print(\"Dimensiones post limpieza:\")\n",
    "print(df_steam_games.shape)"
   ]
  },
  {
   "cell_type": "markdown",
   "metadata": {},
   "source": [
    "**Transformamos en lote las columnas que no necesitan tratamiento especial**"
   ]
  },
  {
   "cell_type": "code",
   "execution_count": 23,
   "metadata": {},
   "outputs": [],
   "source": [
    "#  Transformacion app_name, tags, developer a string.\n",
    "\n",
    "df_steam_games = df_steam_games.astype({\n",
    "    'app_name': 'string',\n",
    "    'tags': 'string', \n",
    "    'developer': 'string',\n",
    "    'id': 'string'\n",
    "})"
   ]
  },
  {
   "cell_type": "markdown",
   "metadata": {},
   "source": [
    "#### **ID**\n",
    "Eliminamos repetidos y nulos"
   ]
  },
  {
   "cell_type": "code",
   "execution_count": 24,
   "metadata": {},
   "outputs": [],
   "source": [
    "# Eliminar duplicados en la columna 'id'\n",
    "df_steam_games.drop_duplicates(subset='id', inplace=True)\n",
    "# Eliminar filas con valores nulos en la columna 'id'\n",
    "df_steam_games.dropna(subset=['id'], inplace=True)\n",
    "#Terminamos reseteando los indices\n",
    "df_steam_games.reset_index(drop=True, inplace=True)\n",
    "# Cambiamos el dato a user_id\n",
    "df_steam_games.rename(columns={'id':'user_id'}, inplace=True)"
   ]
  },
  {
   "cell_type": "markdown",
   "metadata": {},
   "source": [
    "#### **Developer**"
   ]
  },
  {
   "cell_type": "code",
   "execution_count": 25,
   "metadata": {},
   "outputs": [],
   "source": [
    "# Reemplazamos los nulos con Dato Faltante\n",
    "df_steam_games['developer'].fillna('Dato Faltante', inplace=True)\n",
    "# Cambiar el tipo de dato a string\n",
    "df_steam_games['developer'] = df_steam_games['developer'].astype('string')"
   ]
  },
  {
   "cell_type": "code",
   "execution_count": 26,
   "metadata": {},
   "outputs": [
    {
     "name": "stdout",
     "output_type": "stream",
     "text": [
      "\n",
      "========================================\n",
      " Resumen del dataframe 'df_steam_games': \n",
      "\n",
      "========================================\n",
      "Dimensiones:  (32132, 7)\n",
      "        columna  %_no_nulos  %_nulos  total_nulos       tipo_dato\n",
      "0        genres       89.79    10.21         3282          object\n",
      "1      app_name      100.00     0.00            1  string[python]\n",
      "2  release_date       93.57     6.43         2066          object\n",
      "3          tags       99.50     0.50          162  string[python]\n",
      "4         price       95.71     4.29         1377          object\n",
      "5       user_id      100.00     0.00            0  string[python]\n",
      "6     developer      100.00     0.00            0  string[python]\n"
     ]
    }
   ],
   "source": [
    "data_type_check(df_steam_games)"
   ]
  },
  {
   "cell_type": "markdown",
   "metadata": {},
   "source": [
    "#### **Transformación de 'release_date'**\n",
    "- Cambiamos tipo de dato a str\n",
    "- Se extrae el año de la fecha en la columna 'release_date' \n",
    "- Reemplazamos los datos sin fecha por \n",
    "- Llamamos a la funcion extraer_anio_release en data_utils.py  "
   ]
  },
  {
   "cell_type": "code",
   "execution_count": 27,
   "metadata": {},
   "outputs": [
    {
     "name": "stdout",
     "output_type": "stream",
     "text": [
      "\n",
      "========================================\n",
      " Resumen del dataframe 'df_steam_games': \n",
      "\n",
      "========================================\n",
      "Dimensiones:  (32132, 7)\n",
      "        columna  %_no_nulos  %_nulos  total_nulos       tipo_dato\n",
      "0        genres       89.79    10.21         3282          object\n",
      "1      app_name      100.00     0.00            1  string[python]\n",
      "2          tags       99.50     0.50          162  string[python]\n",
      "3         price       95.71     4.29         1377          object\n",
      "4       user_id      100.00     0.00            0  string[python]\n",
      "5     developer      100.00     0.00            0  string[python]\n",
      "6  release_year      100.00     0.00            0          object\n"
     ]
    }
   ],
   "source": [
    "# Aplica la función extraer_anio_release a la columna release_date\n",
    "\n",
    "df_steam_games['release_year'] = df_steam_games['release_date'].apply(data_utils.extraer_anio_release)\n",
    "# elimina la columna 'release_date'\n",
    "df_steam_games = df_steam_games.drop('release_date', axis=1)\n",
    "data_type_check(df_steam_games)"
   ]
  },
  {
   "cell_type": "markdown",
   "metadata": {},
   "source": [
    "#### **price**\n",
    "Necesitamos trabajar con esta columna, pero encontramos valores de texto para promociones o indicando que el juego es gratis. \n",
    "\n",
    "- Asignamos valores correspondientes a precios con textos adicional.\n",
    "- Convierte la columna 'price' a tipo float.\n",
    "- Rellena los valores nulos resultantes con -1."
   ]
  },
  {
   "cell_type": "markdown",
   "metadata": {},
   "source": [
    "Visualizamos los valores no numericos en precios a solucionar usando una funcion invocada desde data_utils.py"
   ]
  },
  {
   "cell_type": "code",
   "execution_count": 28,
   "metadata": {},
   "outputs": [
    {
     "name": "stdout",
     "output_type": "stream",
     "text": [
      "['Free To Play', 'Free to Play', 'Free', 'Free Demo', 'Play for Free!', 'Install Now', 'Play WARMACHINE: Tactics Demo', 'Free Mod', 'Install Theme', 'Third-party', 'Play Now', 'Free HITMAN™ Holiday Pack', 'Play the Demo', 'Starting at $499.00', 'Starting at $449.00', 'Free to Try', 'Free Movie', 'Free to Use']\n"
     ]
    }
   ],
   "source": [
    "precios_texto = filtrar_valores_letras(df_steam_games['price'].unique())\n",
    "print(precios_texto)"
   ]
  },
  {
   "cell_type": "markdown",
   "metadata": {},
   "source": [
    "Filtramos los precios gratis a traves de buscar los datos faltantes en la columna tags"
   ]
  },
  {
   "cell_type": "code",
   "execution_count": 29,
   "metadata": {},
   "outputs": [
    {
     "name": "stdout",
     "output_type": "stream",
     "text": [
      "Muestra de valores no numéricos antes de la limpieza:\n",
      "['Free To Play']\n",
      "Muestra de valores no numéricos después de la limpieza:\n",
      "[0]\n",
      "\n",
      "========================================\n",
      " Resumen del dataframe 'df_steam_games': \n",
      "\n",
      "========================================\n",
      "Dimensiones:  (32132, 7)\n",
      "        columna  %_no_nulos  %_nulos  total_nulos       tipo_dato\n",
      "0        genres       89.79    10.21         3282          object\n",
      "1      app_name      100.00     0.00            1  string[python]\n",
      "2          tags       99.50     0.50          162  string[python]\n",
      "3         price      100.00     0.00            0           int32\n",
      "4       user_id      100.00     0.00            0  string[python]\n",
      "5     developer      100.00     0.00            0  string[python]\n",
      "6  release_year      100.00     0.00            0          object\n"
     ]
    }
   ],
   "source": [
    "# Lista de palabras clave para buscar en las etiquetas\n",
    "palabras_clave = ['Free to Play', 'Free', 'Free Demo', 'Play for Free!', 'Free Mod', 'Free to Try', 'Free Movie', 'Free to Use', 'Play the Demo' ]\n",
    "\n",
    "print(\"Muestra de valores no numéricos antes de la limpieza:\")\n",
    "precio_ironbound = df_steam_games[df_steam_games['app_name'] == 'Ironbound']['price'].unique()\n",
    "print(precio_ironbound)\n",
    "\n",
    "# Verificar si el precio del juego es nulo\n",
    "if df_steam_games['price'].isnull().any():\n",
    "    # Verificar si alguna de las palabras clave está en las etiquetas para cada fila y si falta el precio\n",
    "    df_steam_games['precio_faltante'] = df_steam_games['price'].isna() & df_steam_games['tags'].apply(lambda x: any(palabra in x for palabra in palabras_clave) if isinstance(x, list) else False)\n",
    "\n",
    "    # Reemplazar los valores de precio faltantes con 0 si la fila correspondiente tiene alguna palabra clave en las etiquetas\n",
    "    df_steam_games.loc[df_steam_games['precio_faltante'], 'price'] = 0\n",
    "\n",
    "    # Eliminar la columna temporal\n",
    "    df_steam_games.drop('precio_faltante', axis=1, inplace=True)\n",
    "\n",
    "# Limpiar valores no numéricos\n",
    "non_numeric_values = ['Free', 'Free To Play', 'Free Demo', 'Play for Free!', 'Free Mod', 'Install Now', 'Play Now', 'Third-party', 'Play WARMACHINE: Tactics Demo', 'Install Theme', 'Starting at', 'Free to Try', 'Free Movie', 'Free to Use', 'Play the Demo']\n",
    "df_steam_games['price'] = df_steam_games['price'].apply(lambda x: 0 if x in non_numeric_values else x)\n",
    "\n",
    "# Convertir la columna 'price' a tipo string para limpiar valores con texto adicional\n",
    "df_steam_games['price'] = df_steam_games['price'].astype(str)\n",
    "\n",
    "# Limpiar valores con texto adicional y convertir la columna 'price' a tipo float\n",
    "df_steam_games['price'] = df_steam_games['price'].replace(to_replace=r'[^0-9.]', value='', regex=True)\n",
    "df_steam_games['price'] = pd.to_numeric(df_steam_games['price'], errors='coerce')\n",
    "\n",
    "# Verificar si hay valores nulos en la columna 'price'\n",
    "if df_steam_games['price'].isnull().any():\n",
    "    # Asignar -1 a los valores nulos en la columna 'price'\n",
    "    df_steam_games['price'].fillna(-1, inplace=True)\n",
    "\n",
    "# Convertir la columna 'price' a tipo int\n",
    "df_steam_games['price'] = df_steam_games['price'].astype(int)\n",
    "\n",
    "\n",
    "print(\"Muestra de valores no numéricos después de la limpieza:\")\n",
    "precio_ironbound = df_steam_games[df_steam_games['app_name'] == 'Ironbound']['price'].unique()\n",
    "print(precio_ironbound)\n",
    "\n",
    "data_type_check(df_steam_games)"
   ]
  },
  {
   "cell_type": "markdown",
   "metadata": {},
   "source": [
    "#### **genres**:\n",
    "\n",
    "- Rellenamos la informacion faltante de genre, con los genre disponibles en la columna tags\n",
    "- Eliminamos generos innecesarios como Free to Play y Early Access\n",
    "- Eliminamos la columna tags\n"
   ]
  },
  {
   "cell_type": "code",
   "execution_count": 30,
   "metadata": {},
   "outputs": [
    {
     "name": "stdout",
     "output_type": "stream",
     "text": [
      "Valores faltantes antes de el relleno de datos:  3282\n"
     ]
    }
   ],
   "source": [
    "print(\"Valores faltantes antes de el relleno de datos: \", df_steam_games['genres'].isnull().sum())"
   ]
  },
  {
   "cell_type": "code",
   "execution_count": 31,
   "metadata": {},
   "outputs": [
    {
     "name": "stdout",
     "output_type": "stream",
     "text": [
      "Valores faltantes previos:  3282\n",
      "Valores faltantes luego de el relleno de datos:  942\n"
     ]
    }
   ],
   "source": [
    "# Rellenamos la informacion faltante de genre, con los genre disponibles en la columna tags\n",
    "print(\"Valores faltantes previos: \", df_steam_games['genres'].isnull().sum())\n",
    "\n",
    "# Conjunto de géneros a copiar\n",
    "generos_a_copiar = {'Simulation', 'Adventure', 'Strategy', 'Education', 'Photo Editing', 'Massively Multiplayer', 'Accounting', 'Video Production', 'Design & Illustration', 'Racing', 'Web Publishing', 'Utilities', 'Software Training', 'Sports', 'Action', 'Indie', 'Audio Production', 'Animation & Modeling', 'Casual', 'RPG'}\n",
    "\n",
    "# Función para rellenar genres desde tags\n",
    "def rellenar_genres(tags, genres):\n",
    "    try:\n",
    "        # Convertir las etiquetas (tags) a una lista\n",
    "        tags_list = ast.literal_eval(tags)\n",
    "        # Filtrar los géneros a copiar\n",
    "        nuevos_generos = [genre for genre in generos_a_copiar if genre in tags_list]        \n",
    "        # Eliminar 'Free to Play' y 'Early Access'\n",
    "        no_deseados = ['Free to Play', 'Early Access']\n",
    "        nuevos_generos = [genre for genre in nuevos_generos if genre not in no_deseados]        \n",
    "        # Si no hay nuevos géneros, devolver los originales\n",
    "        if not nuevos_generos:\n",
    "            return genres        \n",
    "        # Devolver los nuevos géneros como lista\n",
    "        return nuevos_generos\n",
    "    \n",
    "    except (ValueError, SyntaxError):\n",
    "        # Manejar errores de evaluación\n",
    "        pass\n",
    "    \n",
    "    # Si hay algún error, o la evaluación no es una lista, devolver los géneros originales como lista\n",
    "    return genres\n",
    "\n",
    "# Aplicar la función para rellenar genres desde tags\n",
    "df_steam_games['genres'] = df_steam_games.apply(lambda row: rellenar_genres(row['tags'], row['genres']), axis=1)\n",
    "\n",
    "\n",
    "# Eliminar tags\n",
    "df_steam_games = df_steam_games.drop('tags', axis=1)\n",
    "\n",
    "# Observamos la cantidad de nulos\n",
    "print(\"Valores faltantes luego de el relleno de datos: \", df_steam_games['genres'].isnull().sum())"
   ]
  },
  {
   "cell_type": "code",
   "execution_count": 32,
   "metadata": {},
   "outputs": [
    {
     "name": "stdout",
     "output_type": "stream",
     "text": [
      "\n",
      "========================================\n",
      " Resumen del dataframe 'df_steam_games': \n",
      "\n",
      "========================================\n",
      "Dimensiones:  (32132, 6)\n",
      "        columna  %_no_nulos  %_nulos  total_nulos       tipo_dato\n",
      "0        genres       97.07     2.93          942          object\n",
      "1      app_name      100.00     0.00            1  string[python]\n",
      "2         price      100.00     0.00            0           int32\n",
      "3       user_id      100.00     0.00            0  string[python]\n",
      "4     developer      100.00     0.00            0  string[python]\n",
      "5  release_year      100.00     0.00            0          object\n"
     ]
    }
   ],
   "source": [
    "data_type_check(df_steam_games)"
   ]
  },
  {
   "cell_type": "markdown",
   "metadata": {},
   "source": [
    "#### **📤 LOAD**"
   ]
  },
  {
   "cell_type": "code",
   "execution_count": 33,
   "metadata": {},
   "outputs": [
    {
     "name": "stdout",
     "output_type": "stream",
     "text": [
      "\n",
      "========================================\n",
      " Resumen del dataframe 'steam_games': \n",
      "\n",
      "========================================\n",
      "Dimensiones:  (32132, 6)\n",
      "        columna  %_no_nulos  %_nulos  total_nulos tipo_dato\n",
      "0        genres       97.07     2.93          942    object\n",
      "1      app_name      100.00     0.00            1    object\n",
      "2         price      100.00     0.00            0     int64\n",
      "3       user_id      100.00     0.00            0     int64\n",
      "4     developer      100.00     0.00            0    object\n",
      "5  release_year      100.00     0.00            0     int64\n"
     ]
    }
   ],
   "source": [
    "# Define la ruta del archivo Parquet\n",
    "ruta_parquet = '../0 Dataset/steam_games_LISTO.parquet'\n",
    "ruta_csv = '../0 Dataset/steam_games_LIMPIO.csv'\n",
    "# Guarda los cambios en CSV\n",
    "df_steam_games.to_csv(ruta_csv, index=False)\n",
    "\n",
    "# Lee el archivo CSV en un DataFrame de pandas\n",
    "steam_games = pd.read_csv(ruta_csv)\n",
    "\n",
    "# Convierte el DataFrame de pandas a una tabla de PyArrow\n",
    "table_steam_games = pa.Table.from_pandas(steam_games)\n",
    "\n",
    "# Escribe la tabla en un archivo Parquet\n",
    "pq.write_table(table_steam_games, ruta_parquet)\n",
    "\n",
    "# Borra el archivo CSV ya que se prefiere Parquet\n",
    "os.remove('../0 Dataset/steam_games_LIMPIO.csv')\n",
    "\n",
    "# Deja información de muestra acerca de los archivos\n",
    "data_type_check(steam_games)"
   ]
  },
  {
   "cell_type": "code",
   "execution_count": 34,
   "metadata": {},
   "outputs": [
    {
     "data": {
      "text/html": [
       "<div>\n",
       "<style scoped>\n",
       "    .dataframe tbody tr th:only-of-type {\n",
       "        vertical-align: middle;\n",
       "    }\n",
       "\n",
       "    .dataframe tbody tr th {\n",
       "        vertical-align: top;\n",
       "    }\n",
       "\n",
       "    .dataframe thead th {\n",
       "        text-align: right;\n",
       "    }\n",
       "</style>\n",
       "<table border=\"1\" class=\"dataframe\">\n",
       "  <thead>\n",
       "    <tr style=\"text-align: right;\">\n",
       "      <th></th>\n",
       "      <th>genres</th>\n",
       "      <th>app_name</th>\n",
       "      <th>price</th>\n",
       "      <th>user_id</th>\n",
       "      <th>developer</th>\n",
       "      <th>release_year</th>\n",
       "    </tr>\n",
       "  </thead>\n",
       "  <tbody>\n",
       "    <tr>\n",
       "      <th>0</th>\n",
       "      <td>[Casual, Indie, Strategy, Action, Simulation]</td>\n",
       "      <td>Lost Summoner Kitty</td>\n",
       "      <td>4</td>\n",
       "      <td>761140</td>\n",
       "      <td>Kotoshiro</td>\n",
       "      <td>2018</td>\n",
       "    </tr>\n",
       "    <tr>\n",
       "      <th>1</th>\n",
       "      <td>[Design &amp; Illustration, Indie, Strategy, RPG]</td>\n",
       "      <td>Ironbound</td>\n",
       "      <td>0</td>\n",
       "      <td>643980</td>\n",
       "      <td>Secret Level SRL</td>\n",
       "      <td>2018</td>\n",
       "    </tr>\n",
       "    <tr>\n",
       "      <th>2</th>\n",
       "      <td>[Casual, Sports, Indie, Simulation]</td>\n",
       "      <td>Real Pool 3D - Poolians</td>\n",
       "      <td>-1</td>\n",
       "      <td>670290</td>\n",
       "      <td>Poolians.com</td>\n",
       "      <td>2017</td>\n",
       "    </tr>\n",
       "    <tr>\n",
       "      <th>3</th>\n",
       "      <td>[Adventure, Casual, Action]</td>\n",
       "      <td>弹炸人2222</td>\n",
       "      <td>0</td>\n",
       "      <td>767400</td>\n",
       "      <td>彼岸领域</td>\n",
       "      <td>2017</td>\n",
       "    </tr>\n",
       "    <tr>\n",
       "      <th>4</th>\n",
       "      <td>[Casual, Sports, Indie, Action]</td>\n",
       "      <td>Log Challenge</td>\n",
       "      <td>2</td>\n",
       "      <td>773570</td>\n",
       "      <td>Dato Faltante</td>\n",
       "      <td>0000</td>\n",
       "    </tr>\n",
       "    <tr>\n",
       "      <th>...</th>\n",
       "      <td>...</td>\n",
       "      <td>...</td>\n",
       "      <td>...</td>\n",
       "      <td>...</td>\n",
       "      <td>...</td>\n",
       "      <td>...</td>\n",
       "    </tr>\n",
       "    <tr>\n",
       "      <th>32127</th>\n",
       "      <td>[Casual, Indie, Strategy, Simulation]</td>\n",
       "      <td>Colony On Mars</td>\n",
       "      <td>1</td>\n",
       "      <td>773640</td>\n",
       "      <td>Nikita \"Ghost_RUS\"</td>\n",
       "      <td>2018</td>\n",
       "    </tr>\n",
       "    <tr>\n",
       "      <th>32128</th>\n",
       "      <td>[Casual, Indie, Strategy]</td>\n",
       "      <td>LOGistICAL: South Africa</td>\n",
       "      <td>4</td>\n",
       "      <td>733530</td>\n",
       "      <td>Sacada</td>\n",
       "      <td>2018</td>\n",
       "    </tr>\n",
       "    <tr>\n",
       "      <th>32129</th>\n",
       "      <td>[Racing, Indie, Simulation]</td>\n",
       "      <td>Russian Roads</td>\n",
       "      <td>1</td>\n",
       "      <td>610660</td>\n",
       "      <td>Laush Dmitriy Sergeevich</td>\n",
       "      <td>2018</td>\n",
       "    </tr>\n",
       "    <tr>\n",
       "      <th>32130</th>\n",
       "      <td>[Casual, Indie]</td>\n",
       "      <td>EXIT 2 - Directions</td>\n",
       "      <td>4</td>\n",
       "      <td>658870</td>\n",
       "      <td>xropi,stev3ns</td>\n",
       "      <td>2017</td>\n",
       "    </tr>\n",
       "    <tr>\n",
       "      <th>32131</th>\n",
       "      <td>[Adventure, Indie, Action, Simulation]</td>\n",
       "      <td>Maze Run VR</td>\n",
       "      <td>4</td>\n",
       "      <td>681550</td>\n",
       "      <td>Dato Faltante</td>\n",
       "      <td>0000</td>\n",
       "    </tr>\n",
       "  </tbody>\n",
       "</table>\n",
       "<p>32132 rows × 6 columns</p>\n",
       "</div>"
      ],
      "text/plain": [
       "                                              genres  \\\n",
       "0      [Casual, Indie, Strategy, Action, Simulation]   \n",
       "1      [Design & Illustration, Indie, Strategy, RPG]   \n",
       "2                [Casual, Sports, Indie, Simulation]   \n",
       "3                        [Adventure, Casual, Action]   \n",
       "4                    [Casual, Sports, Indie, Action]   \n",
       "...                                              ...   \n",
       "32127          [Casual, Indie, Strategy, Simulation]   \n",
       "32128                      [Casual, Indie, Strategy]   \n",
       "32129                    [Racing, Indie, Simulation]   \n",
       "32130                                [Casual, Indie]   \n",
       "32131         [Adventure, Indie, Action, Simulation]   \n",
       "\n",
       "                       app_name  price user_id                 developer  \\\n",
       "0           Lost Summoner Kitty      4  761140                 Kotoshiro   \n",
       "1                     Ironbound      0  643980          Secret Level SRL   \n",
       "2       Real Pool 3D - Poolians     -1  670290              Poolians.com   \n",
       "3                       弹炸人2222      0  767400                      彼岸领域   \n",
       "4                 Log Challenge      2  773570             Dato Faltante   \n",
       "...                         ...    ...     ...                       ...   \n",
       "32127            Colony On Mars      1  773640        Nikita \"Ghost_RUS\"   \n",
       "32128  LOGistICAL: South Africa      4  733530                    Sacada   \n",
       "32129             Russian Roads      1  610660  Laush Dmitriy Sergeevich   \n",
       "32130       EXIT 2 - Directions      4  658870             xropi,stev3ns   \n",
       "32131               Maze Run VR      4  681550             Dato Faltante   \n",
       "\n",
       "      release_year  \n",
       "0             2018  \n",
       "1             2018  \n",
       "2             2017  \n",
       "3             2017  \n",
       "4             0000  \n",
       "...            ...  \n",
       "32127         2018  \n",
       "32128         2018  \n",
       "32129         2018  \n",
       "32130         2017  \n",
       "32131         0000  \n",
       "\n",
       "[32132 rows x 6 columns]"
      ]
     },
     "execution_count": 34,
     "metadata": {},
     "output_type": "execute_result"
    }
   ],
   "source": [
    "df_steam_games"
   ]
  }
 ],
 "metadata": {
  "kernelspec": {
   "display_name": "env",
   "language": "python",
   "name": "python3"
  },
  "language_info": {
   "codemirror_mode": {
    "name": "ipython",
    "version": 3
   },
   "file_extension": ".py",
   "mimetype": "text/x-python",
   "name": "python",
   "nbconvert_exporter": "python",
   "pygments_lexer": "ipython3",
   "version": "3.10.11"
  }
 },
 "nbformat": 4,
 "nbformat_minor": 2
}
