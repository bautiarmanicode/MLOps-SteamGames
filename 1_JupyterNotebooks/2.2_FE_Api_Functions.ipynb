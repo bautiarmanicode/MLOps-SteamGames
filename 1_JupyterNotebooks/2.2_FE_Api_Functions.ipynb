{
 "cells": [
  {
   "cell_type": "markdown",
   "metadata": {},
   "source": [
    "## 🌐 Desarrollo de funciones a consumir por la API\n",
    "\n"
   ]
  },
  {
   "cell_type": "markdown",
   "metadata": {},
   "source": [
    "#### 📥Importaciones "
   ]
  },
  {
   "cell_type": "code",
   "execution_count": 1,
   "metadata": {},
   "outputs": [],
   "source": [
    "\n",
    "# Importación del módulo gc para la recolección de basura\n",
    "import gc\n",
    "# Importación del módulo pickle para la serialización de objetos\n",
    "# Importación del módulo warnings para controlar advertencias\n",
    "import warnings\n",
    "# Importación de pandas y se asigna el alias 'pd' para su uso\n",
    "import pandas as pd\n",
    "\n",
    "# Importación de funciones desde data_utils\n",
    "\n",
    "\n",
    "# Configuración de la omisión de advertencias\n",
    "warnings.filterwarnings(\"ignore\")\n",
    "\n",
    "# Carga de la extensión autoreload y configuración para recargar automáticamente módulos\n",
    "%load_ext autoreload\n",
    "%autoreload 2\n",
    "%reload_ext autoreload"
   ]
  },
  {
   "cell_type": "markdown",
   "metadata": {},
   "source": [
    "#### 📦 Extracción de los conjuntos de datos\n",
    "* ✍️ **Extraemos df_reviews:** usuarios que realizaron reseñas de los juegos que consumen.\n",
    "* 🎮 **Extraemos df_games:** juegos disponibles en la plataforma.\n",
    "* 📊 **Extraemos df_items:** consumo de los juegos por parte de los usuarios.\n"
   ]
  },
  {
   "cell_type": "code",
   "execution_count": 6,
   "metadata": {},
   "outputs": [],
   "source": [
    "df_steam_games =  pd.read_parquet('../0 Dataset/1.1_steam_games_LISTO.parquet')\n",
    "df_user_items =   pd.read_parquet('../0 Dataset/1.2_user_items_LISTO.parquet')\n",
    "df_user_reviews = pd.read_parquet('../0 Dataset/1.3_user_review_LISTO.parquet')"
   ]
  },
  {
   "cell_type": "markdown",
   "metadata": {},
   "source": [
    "\n",
    "#### 1 🌐 `developer(desarrollador: str)`:\n",
    "\n",
    "Devuelve la cantidad de juegos y porcentaje de contenido Free por año según empresa desarrolladora\n",
    "\n",
    "🌐Para acelerar la velocidad de la api, he decidido crear un DF especifico. "
   ]
  },
  {
   "cell_type": "code",
   "execution_count": null,
   "metadata": {},
   "outputs": [],
   "source": [
    "df_API_developer = df_steam_games[[\"developer\",\"user_id\", \"release_year\", \"price\"]]\n",
    "df_API_developer.to_parquet(\"../0 Dataset/df_API_developer.parquet\")"
   ]
  },
  {
   "cell_type": "code",
   "execution_count": null,
   "metadata": {},
   "outputs": [
    {
     "name": "stdout",
     "output_type": "stream",
     "text": [
      "[{'Año': 1998, 'Juegos': 1, 'Gratis %': 0.0}, {'Año': 1999, 'Juegos': 1, 'Gratis %': 0.0}, {'Año': 2000, 'Juegos': 2, 'Gratis %': 0.0}, {'Año': 2001, 'Juegos': 1, 'Gratis %': 0.0}, {'Año': 2003, 'Juegos': 1, 'Gratis %': 0.0}, {'Año': 2004, 'Juegos': 5, 'Gratis %': 0.0}, {'Año': 2005, 'Juegos': 1, 'Gratis %': 0.0}, {'Año': 2006, 'Juegos': 2, 'Gratis %': 0.0}, {'Año': 2007, 'Juegos': 3, 'Gratis %': 0.0}, {'Año': 2008, 'Juegos': 1, 'Gratis %': 0.0}, {'Año': 2009, 'Juegos': 1, 'Gratis %': 0.0}, {'Año': 2010, 'Juegos': 2, 'Gratis %': 50.0}, {'Año': 2011, 'Juegos': 1, 'Gratis %': 0.0}, {'Año': 2012, 'Juegos': 2, 'Gratis %': 0.0}, {'Año': 2014, 'Juegos': 7, 'Gratis %': 0.0}, {'Año': 2016, 'Juegos': 1, 'Gratis %': 100.0}, {'Año': 2017, 'Juegos': 2, 'Gratis %': 0.0}]\n"
     ]
    }
   ],
   "source": [
    "def developer(desarrollador: str):\n",
    "    df_dev = df_API_developer[df_API_developer['developer'] == desarrollador]\n",
    "\n",
    "    grouped = df_dev.groupby('release_year').agg(\n",
    "        items=('user_id', 'count'),  # Cambiar de (x == 0).sum() a 'count' o 'sum'\n",
    "        gratis=('price', lambda x: (x == 0).sum())\n",
    "    )\n",
    "\n",
    "    result = []\n",
    "    for year, row in grouped.iterrows():\n",
    "        juegos = int(row[\"items\"])\n",
    "        gratis_percent = round(row[\"gratis\"] / juegos * 100, 2) if juegos > 0 else 0\n",
    "        result.append({\n",
    "            \"Año\": int(year),\n",
    "            \"Juegos\": juegos,\n",
    "            \"Gratis %\": gratis_percent\n",
    "        })\n",
    "    \n",
    "    # Llamamos al recolector de basura\n",
    "    gc.collect()\n",
    "\n",
    "    return result\n",
    "# Example usage\n",
    "resultado = developer('Valve')\n",
    "print(resultado)"
   ]
  },
  {
   "cell_type": "markdown",
   "metadata": {},
   "source": [
    "#### 🌐 `userdata(User_id: str)` : \n",
    "- Dinero gastado por el usuario, porcentaje de recomendación y cantidad de items.\n"
   ]
  },
  {
   "cell_type": "code",
   "execution_count": null,
   "metadata": {},
   "outputs": [],
   "source": [
    "def userdata(user_id: str):\n",
    "    # Filtrar las revisiones del usuario\n",
    "    user_reviews = df_user_reviews[df_user_reviews['user_id'] == user_id]\n",
    "\n",
    "    # Calcular el dinero gastado por el usuario\n",
    "    spent_money = 0\n",
    "    for item_id in user_reviews['reviews_item_id']:\n",
    "        price = df_steam_games[df_steam_games['user_id'] == item_id]['price'].values\n",
    "        if len(price) > 0:  # Verificar si se encontró el precio del ítem\n",
    "            spent_money += price[0]\n",
    "\n",
    "    # Calcular el porcentaje de recomendación\n",
    "    total_reviews = len(user_reviews)\n",
    "    num_recommendations = (user_reviews['sentiment_analysis'] == True).sum()\n",
    "    recommendation_percentage = (num_recommendations / total_reviews) * 100 if total_reviews > 0 else 0\n",
    "\n",
    "    # Crear el diccionario de salida\n",
    "    result = {\n",
    "        'Usuario': user_id,\n",
    "        'Dinero gastado': f\"{spent_money} USD\",\n",
    "        '% de recomendación': f\"{recommendation_percentage}%\",\n",
    "        'cantidad de items': total_reviews\n",
    "    }\n",
    "\n",
    "    # Devolver el diccionario como parte de una lista\n",
    "    return [result]"
   ]
  },
  {
   "cell_type": "code",
   "execution_count": null,
   "metadata": {},
   "outputs": [
    {
     "name": "stdout",
     "output_type": "stream",
     "text": [
      "[{'Usuario': 'evcentric', 'Dinero gastado': '54 USD', '% de recomendación': '40.0%', 'cantidad de items': 5}]\n"
     ]
    }
   ],
   "source": [
    "# Ejemplo de uso\n",
    "response = userdata(\"evcentric\")\n",
    "print(response)"
   ]
  },
  {
   "cell_type": "markdown",
   "metadata": {},
   "source": [
    "## Las funciones faltantes fueron guardadas en un borrador en local para su futuro desarrollo."
   ]
  },
  {
   "cell_type": "markdown",
   "metadata": {},
   "source": [
    "#### 🌐 `UserForGenre(genero)`:\n",
    "\n",
    "- Usuario con más horas jugadas para el género dado y acumulación de horas jugadas por año de lanzamiento.\n",
    "\n",
    "Ejemplo de retorno: \"Usuario con más horas jugadas para Género X\" : us213ndjss09sdf,\n",
    "Ranking de géneros por tiempo de juego"
   ]
  }
 ],
 "metadata": {
  "kernelspec": {
   "display_name": "venv",
   "language": "python",
   "name": "python3"
  },
  "language_info": {
   "codemirror_mode": {
    "name": "ipython",
    "version": 3
   },
   "file_extension": ".py",
   "mimetype": "text/x-python",
   "name": "python",
   "nbconvert_exporter": "python",
   "pygments_lexer": "ipython3",
   "version": "3.10.11"
  }
 },
 "nbformat": 4,
 "nbformat_minor": 2
}
