{
 "cells": [
  {
   "cell_type": "markdown",
   "metadata": {},
   "source": [
    "\n",
    "## Machine Learning item x item\n",
    "### def **recomendacion_juego( *`id de producto`* )**:\n",
    "Ingresando el id de producto, deberíamos recibir una lista con 5 juegos recomendados similares al ingresado\n",
    "falta similaridad indices .pkl"
   ]
  },
  {
   "cell_type": "code",
   "execution_count": null,
   "metadata": {},
   "outputs": [],
   "source": [
    "\n",
    "df_ML = pd.read_parquet(\"./0 Dataset/F_df_funciones.parquet\")\n",
    "\n",
    "def recomendacion_juego(item_id: int):\n",
    "    with open(\"./0 Dataset/similaridad_indices.pkl\", \"rb\") as archivo:\n",
    "        pickle.load(archivo)\n",
    "    \n",
    "    try:\n",
    "        with open('./0 Dataset/similaridad_indices.pkl', 'rb') as f:\n",
    "            similaridad_indices = pickle.load(f)\n",
    "    except FileNotFoundError:\n",
    "        matrix_sparse = csr_matrix(pd.crosstab(df_ML['item_id'], df_ML['user_id'], values=df_ML['reviews_recommend'], aggfunc='sum').fillna(0))\n",
    "        simil = cosine_similarity(matrix_sparse)\n",
    "        similaridad_indices = {item_id: simil[item_index].argsort()[-6:-1][::-1] for item_index, item_id in enumerate(df_ML['item_id'].unique().tolist())}\n",
    "        with open('./0 Dataset/similaridad_indices.pkl', 'wb') as f:\n",
    "            pickle.dump(similaridad_indices, f)\n",
    "        del matrix_sparse, simil\n",
    "    \n",
    "    try:\n",
    "        item_similar = [df_ML['item_id'].unique().tolist()[i] for i in similaridad_indices[item_id]]\n",
    "        item_similar_nombre = [(df_ML[df_ML['item_id'] == item]['item_id'].values[0], df_ML[df_ML['item_id'] == item]['item_name'].values[0]) for item in item_similar]\n",
    "        return {\"Recomendaciones para Item ID\": item_id, \"Juegos Recomendados\": item_similar_nombre}\n",
    "    except KeyError:\n",
    "        return {\"error\": f\"Item ID {item_id} not found.\"}\n",
    "    finally:\n",
    "        # Liberar memoria utilizando el recolector de basura\n",
    "        gc.collect()\n",
    "\n",
    "recomendacion_juego(500)"
   ]
  },
  {
   "cell_type": "code",
   "execution_count": null,
   "metadata": {},
   "outputs": [],
   "source": []
  }
 ],
 "metadata": {
  "language_info": {
   "name": "python"
  }
 },
 "nbformat": 4,
 "nbformat_minor": 2
}
